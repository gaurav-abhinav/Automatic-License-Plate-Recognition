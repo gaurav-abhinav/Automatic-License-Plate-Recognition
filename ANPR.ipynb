{
  "cells": [
    {
      "cell_type": "markdown",
      "metadata": {
        "id": "view-in-github",
        "colab_type": "text"
      },
      "source": [
        "<a href=\"https://colab.research.google.com/github/gaurav-abhinav/Automatic-License-Plate-Recognition/blob/main/ANPR.ipynb\" target=\"_parent\"><img src=\"https://colab.research.google.com/assets/colab-badge.svg\" alt=\"Open In Colab\"/></a>"
      ]
    },
    {
      "cell_type": "markdown",
      "metadata": {
        "id": "QUANWN3rpfC9"
      },
      "source": [
        "# 0. Setup Paths"
      ]
    },
    {
      "cell_type": "code",
      "execution_count": 1,
      "metadata": {
        "colab": {
          "base_uri": "https://localhost:8080/"
        },
        "id": "_FvnBkQaq-3H",
        "outputId": "dbd97007-793c-4987-fab3-10994b8e14f9"
      },
      "outputs": [
        {
          "output_type": "stream",
          "name": "stdout",
          "text": [
            "Mounted at /content/drive\n"
          ]
        }
      ],
      "source": [
        "from google.colab import drive\n",
        "drive.mount('/content/drive')"
      ]
    },
    {
      "cell_type": "code",
      "execution_count": 1,
      "metadata": {
        "id": "146BB11JpfDA"
      },
      "outputs": [],
      "source": [
        "import os"
      ]
    },
    {
      "cell_type": "code",
      "execution_count": 2,
      "metadata": {
        "id": "42hJEdo_pfDB"
      },
      "outputs": [],
      "source": [
        "CUSTOM_MODEL_NAME = 'my_ssd_mobnet'\n",
        "PRETRAINED_MODEL_NAME = 'ssd_mobilenet_v2_fpnlite_320x320_coco17_tpu-8'\n",
        "PRETRAINED_MODEL_URL = 'http://download.tensorflow.org/models/object_detection/tf2/20200711/ssd_mobilenet_v2_fpnlite_320x320_coco17_tpu-8.tar.gz'\n",
        "TF_RECORD_SCRIPT_NAME = 'generate_tfrecord.py'\n",
        "LABEL_MAP_NAME = 'label_map.pbtxt'"
      ]
    },
    {
      "cell_type": "code",
      "execution_count": 3,
      "metadata": {
        "id": "hbPhYVy_pfDB"
      },
      "outputs": [],
      "source": [
        "paths = {\n",
        "    'WORKSPACE_PATH': os.path.join('Tensorflow', 'workspace'),\n",
        "    'SCRIPTS_PATH': os.path.join('Tensorflow','scripts'),\n",
        "    'APIMODEL_PATH': os.path.join('Tensorflow','models'),\n",
        "    'ANNOTATION_PATH': os.path.join('Tensorflow', 'workspace','annotations'),\n",
        "    'IMAGE_PATH': os.path.join('drive', 'MyDrive','images'),\n",
        "    'MODEL_PATH': os.path.join('Tensorflow', 'workspace','models'),\n",
        "    'PRETRAINED_MODEL_PATH': os.path.join('Tensorflow', 'workspace','pre-trained-models'),\n",
        "    'CHECKPOINT_PATH': os.path.join('Tensorflow', 'workspace','models',CUSTOM_MODEL_NAME),\n",
        "    'OUTPUT_PATH': os.path.join('Tensorflow', 'workspace','models',CUSTOM_MODEL_NAME, 'export'),\n",
        "    'TFJS_PATH':os.path.join('Tensorflow', 'workspace','models',CUSTOM_MODEL_NAME, 'tfjsexport'),\n",
        "    'TFLITE_PATH':os.path.join('Tensorflow', 'workspace','models',CUSTOM_MODEL_NAME, 'tfliteexport'),\n",
        "    'PROTOC_PATH':os.path.join('Tensorflow','protoc')\n",
        " }"
      ]
    },
    {
      "cell_type": "code",
      "execution_count": 4,
      "metadata": {
        "id": "LwhWZMI0pfDC"
      },
      "outputs": [],
      "source": [
        "files = {\n",
        "    'PIPELINE_CONFIG':os.path.join('Tensorflow', 'workspace','models', CUSTOM_MODEL_NAME, 'pipeline.config'),\n",
        "    'TF_RECORD_SCRIPT': os.path.join(paths['SCRIPTS_PATH'], TF_RECORD_SCRIPT_NAME),\n",
        "    'LABELMAP': os.path.join(paths['ANNOTATION_PATH'], LABEL_MAP_NAME)\n",
        "}"
      ]
    },
    {
      "cell_type": "code",
      "execution_count": 5,
      "metadata": {
        "id": "HR-TfDGrpfDC"
      },
      "outputs": [],
      "source": [
        "for path in paths.values():\n",
        "    if not os.path.exists(path):\n",
        "        if os.name == 'posix':\n",
        "            !mkdir -p {path}\n",
        "        if os.name == 'nt':\n",
        "            !mkdir {path}"
      ]
    },
    {
      "cell_type": "markdown",
      "metadata": {
        "id": "OLU-rs_ipfDE"
      },
      "source": [
        "# 1. Download TF Models Pretrained Models from Tensorflow Model Zoo and Install TFOD"
      ]
    },
    {
      "cell_type": "code",
      "execution_count": 7,
      "metadata": {
        "id": "wgV030HXoodn"
      },
      "outputs": [],
      "source": [
        "# https://www.tensorflow.org/install/source_windows"
      ]
    },
    {
      "cell_type": "code",
      "execution_count": 6,
      "metadata": {
        "id": "K-Cmz2edpfDE",
        "scrolled": true
      },
      "outputs": [],
      "source": [
        "if os.name=='nt':\n",
        "    !pip install wget\n",
        "    import wget"
      ]
    },
    {
      "cell_type": "code",
      "execution_count": 7,
      "metadata": {
        "id": "iA1DIq5OpfDE"
      },
      "outputs": [],
      "source": [
        "if not os.path.exists(os.path.join(paths['APIMODEL_PATH'], 'research', 'object_detection')):\n",
        "    !git clone https://github.com/tensorflow/models {paths['APIMODEL_PATH']}"
      ]
    },
    {
      "cell_type": "code",
      "execution_count": 8,
      "metadata": {
        "colab": {
          "base_uri": "https://localhost:8080/"
        },
        "id": "rJjMHbnDs3Tv",
        "outputId": "e989e234-863f-4515-b602-845757372c3e"
      },
      "outputs": [
        {
          "output_type": "stream",
          "name": "stdout",
          "text": [
            "Reading package lists... Done\n",
            "Building dependency tree       \n",
            "Reading state information... Done\n",
            "protobuf-compiler is already the newest version (3.6.1.3-2ubuntu5.2).\n",
            "0 upgraded, 0 newly installed, 0 to remove and 15 not upgraded.\n",
            "Processing /content/Tensorflow/models/research\n",
            "  Preparing metadata (setup.py) ... \u001b[?25l\u001b[?25hdone\n",
            "Requirement already satisfied: avro-python3 in /usr/local/lib/python3.10/dist-packages (from object-detection==0.1) (1.10.2)\n",
            "Requirement already satisfied: apache-beam in /usr/local/lib/python3.10/dist-packages (from object-detection==0.1) (2.48.0)\n",
            "Requirement already satisfied: pillow in /usr/local/lib/python3.10/dist-packages (from object-detection==0.1) (8.4.0)\n",
            "Requirement already satisfied: lxml in /usr/local/lib/python3.10/dist-packages (from object-detection==0.1) (4.9.2)\n",
            "Requirement already satisfied: matplotlib in /usr/local/lib/python3.10/dist-packages (from object-detection==0.1) (3.7.1)\n",
            "Requirement already satisfied: Cython in /usr/local/lib/python3.10/dist-packages (from object-detection==0.1) (0.29.35)\n",
            "Requirement already satisfied: contextlib2 in /usr/local/lib/python3.10/dist-packages (from object-detection==0.1) (0.6.0.post1)\n",
            "Requirement already satisfied: tf-slim in /usr/local/lib/python3.10/dist-packages (from object-detection==0.1) (1.1.0)\n",
            "Requirement already satisfied: six in /usr/local/lib/python3.10/dist-packages (from object-detection==0.1) (1.16.0)\n",
            "Requirement already satisfied: pycocotools in /usr/local/lib/python3.10/dist-packages (from object-detection==0.1) (2.0.6)\n",
            "Requirement already satisfied: lvis in /usr/local/lib/python3.10/dist-packages (from object-detection==0.1) (0.5.3)\n",
            "Requirement already satisfied: scipy in /usr/local/lib/python3.10/dist-packages (from object-detection==0.1) (1.10.1)\n",
            "Requirement already satisfied: pandas in /usr/local/lib/python3.10/dist-packages (from object-detection==0.1) (1.5.3)\n",
            "Requirement already satisfied: tf-models-official>=2.5.1 in /usr/local/lib/python3.10/dist-packages (from object-detection==0.1) (2.13.0)\n",
            "Requirement already satisfied: tensorflow_io in /usr/local/lib/python3.10/dist-packages (from object-detection==0.1) (0.32.0)\n",
            "Requirement already satisfied: keras in /usr/local/lib/python3.10/dist-packages (from object-detection==0.1) (2.13.1)\n",
            "Requirement already satisfied: pyparsing==2.4.7 in /usr/local/lib/python3.10/dist-packages (from object-detection==0.1) (2.4.7)\n",
            "Requirement already satisfied: sacrebleu<=2.2.0 in /usr/local/lib/python3.10/dist-packages (from object-detection==0.1) (2.2.0)\n",
            "Requirement already satisfied: portalocker in /usr/local/lib/python3.10/dist-packages (from sacrebleu<=2.2.0->object-detection==0.1) (2.7.0)\n",
            "Requirement already satisfied: regex in /usr/local/lib/python3.10/dist-packages (from sacrebleu<=2.2.0->object-detection==0.1) (2022.10.31)\n",
            "Requirement already satisfied: tabulate>=0.8.9 in /usr/local/lib/python3.10/dist-packages (from sacrebleu<=2.2.0->object-detection==0.1) (0.8.10)\n",
            "Requirement already satisfied: numpy>=1.17 in /usr/local/lib/python3.10/dist-packages (from sacrebleu<=2.2.0->object-detection==0.1) (1.25.1)\n",
            "Requirement already satisfied: colorama in /usr/local/lib/python3.10/dist-packages (from sacrebleu<=2.2.0->object-detection==0.1) (0.4.6)\n",
            "Requirement already satisfied: gin-config in /usr/local/lib/python3.10/dist-packages (from tf-models-official>=2.5.1->object-detection==0.1) (0.5.0)\n",
            "Requirement already satisfied: google-api-python-client>=1.6.7 in /usr/local/lib/python3.10/dist-packages (from tf-models-official>=2.5.1->object-detection==0.1) (2.84.0)\n",
            "Requirement already satisfied: immutabledict in /usr/local/lib/python3.10/dist-packages (from tf-models-official>=2.5.1->object-detection==0.1) (2.2.5)\n",
            "Requirement already satisfied: kaggle>=1.3.9 in /usr/local/lib/python3.10/dist-packages (from tf-models-official>=2.5.1->object-detection==0.1) (1.5.13)\n",
            "Requirement already satisfied: oauth2client in /usr/local/lib/python3.10/dist-packages (from tf-models-official>=2.5.1->object-detection==0.1) (4.1.3)\n",
            "Requirement already satisfied: opencv-python-headless in /usr/local/lib/python3.10/dist-packages (from tf-models-official>=2.5.1->object-detection==0.1) (4.7.0.72)\n",
            "Requirement already satisfied: psutil>=5.4.3 in /usr/local/lib/python3.10/dist-packages (from tf-models-official>=2.5.1->object-detection==0.1) (5.9.5)\n",
            "Requirement already satisfied: py-cpuinfo>=3.3.0 in /usr/local/lib/python3.10/dist-packages (from tf-models-official>=2.5.1->object-detection==0.1) (9.0.0)\n",
            "Requirement already satisfied: pyyaml<6.0,>=5.1 in /usr/local/lib/python3.10/dist-packages (from tf-models-official>=2.5.1->object-detection==0.1) (5.4.1)\n",
            "Requirement already satisfied: sentencepiece in /usr/local/lib/python3.10/dist-packages (from tf-models-official>=2.5.1->object-detection==0.1) (0.1.99)\n",
            "Requirement already satisfied: seqeval in /usr/local/lib/python3.10/dist-packages (from tf-models-official>=2.5.1->object-detection==0.1) (1.2.2)\n",
            "Requirement already satisfied: tensorflow-datasets in /usr/local/lib/python3.10/dist-packages (from tf-models-official>=2.5.1->object-detection==0.1) (4.9.2)\n",
            "Requirement already satisfied: tensorflow-hub>=0.6.0 in /usr/local/lib/python3.10/dist-packages (from tf-models-official>=2.5.1->object-detection==0.1) (0.13.0)\n",
            "Requirement already satisfied: tensorflow-model-optimization>=0.4.1 in /usr/local/lib/python3.10/dist-packages (from tf-models-official>=2.5.1->object-detection==0.1) (0.7.5)\n",
            "Requirement already satisfied: tensorflow-text~=2.13.0 in /usr/local/lib/python3.10/dist-packages (from tf-models-official>=2.5.1->object-detection==0.1) (2.13.0)\n",
            "Requirement already satisfied: tensorflow~=2.13.0 in /usr/local/lib/python3.10/dist-packages (from tf-models-official>=2.5.1->object-detection==0.1) (2.13.0)\n",
            "Requirement already satisfied: python-dateutil>=2.8.1 in /usr/local/lib/python3.10/dist-packages (from pandas->object-detection==0.1) (2.8.2)\n",
            "Requirement already satisfied: pytz>=2020.1 in /usr/local/lib/python3.10/dist-packages (from pandas->object-detection==0.1) (2022.7.1)\n",
            "Requirement already satisfied: absl-py>=0.2.2 in /usr/local/lib/python3.10/dist-packages (from tf-slim->object-detection==0.1) (1.4.0)\n",
            "Requirement already satisfied: crcmod<2.0,>=1.7 in /usr/local/lib/python3.10/dist-packages (from apache-beam->object-detection==0.1) (1.7)\n",
            "Requirement already satisfied: orjson<4.0 in /usr/local/lib/python3.10/dist-packages (from apache-beam->object-detection==0.1) (3.9.2)\n",
            "Requirement already satisfied: dill<0.3.2,>=0.3.1.1 in /usr/local/lib/python3.10/dist-packages (from apache-beam->object-detection==0.1) (0.3.1.1)\n",
            "Requirement already satisfied: cloudpickle~=2.2.1 in /usr/local/lib/python3.10/dist-packages (from apache-beam->object-detection==0.1) (2.2.1)\n",
            "Requirement already satisfied: fastavro<2,>=0.23.6 in /usr/local/lib/python3.10/dist-packages (from apache-beam->object-detection==0.1) (1.8.0)\n",
            "Requirement already satisfied: fasteners<1.0,>=0.3 in /usr/local/lib/python3.10/dist-packages (from apache-beam->object-detection==0.1) (0.18)\n",
            "Requirement already satisfied: grpcio!=1.48.0,<2,>=1.33.1 in /usr/local/lib/python3.10/dist-packages (from apache-beam->object-detection==0.1) (1.56.0)\n",
            "Requirement already satisfied: hdfs<3.0.0,>=2.1.0 in /usr/local/lib/python3.10/dist-packages (from apache-beam->object-detection==0.1) (2.7.0)\n",
            "Requirement already satisfied: httplib2<0.23.0,>=0.8 in /usr/local/lib/python3.10/dist-packages (from apache-beam->object-detection==0.1) (0.21.0)\n",
            "Collecting numpy>=1.17 (from sacrebleu<=2.2.0->object-detection==0.1)\n",
            "  Downloading numpy-1.24.4-cp310-cp310-manylinux_2_17_x86_64.manylinux2014_x86_64.whl (17.3 MB)\n",
            "\u001b[2K     \u001b[90m━━━━━━━━━━━━━━━━━━━━━━━━━━━━━━━━━━━━━━━━\u001b[0m \u001b[32m17.3/17.3 MB\u001b[0m \u001b[31m65.1 MB/s\u001b[0m eta \u001b[36m0:00:00\u001b[0m\n",
            "\u001b[?25hRequirement already satisfied: objsize<0.7.0,>=0.6.1 in /usr/local/lib/python3.10/dist-packages (from apache-beam->object-detection==0.1) (0.6.1)\n",
            "Requirement already satisfied: pymongo<5.0.0,>=3.8.0 in /usr/local/lib/python3.10/dist-packages (from apache-beam->object-detection==0.1) (4.4.0)\n",
            "Requirement already satisfied: proto-plus<2,>=1.7.1 in /usr/local/lib/python3.10/dist-packages (from apache-beam->object-detection==0.1) (1.22.3)\n",
            "Requirement already satisfied: protobuf<4.24.0,>=3.20.3 in /usr/local/lib/python3.10/dist-packages (from apache-beam->object-detection==0.1) (3.20.3)\n",
            "Requirement already satisfied: pydot<2,>=1.2.0 in /usr/local/lib/python3.10/dist-packages (from apache-beam->object-detection==0.1) (1.4.2)\n",
            "Requirement already satisfied: requests<3.0.0,>=2.24.0 in /usr/local/lib/python3.10/dist-packages (from apache-beam->object-detection==0.1) (2.27.1)\n",
            "Requirement already satisfied: typing-extensions>=3.7.0 in /usr/local/lib/python3.10/dist-packages (from apache-beam->object-detection==0.1) (4.5.0)\n",
            "Requirement already satisfied: zstandard<1,>=0.18.0 in /usr/local/lib/python3.10/dist-packages (from apache-beam->object-detection==0.1) (0.21.0)\n",
            "Requirement already satisfied: pyarrow<12.0.0,>=3.0.0 in /usr/local/lib/python3.10/dist-packages (from apache-beam->object-detection==0.1) (9.0.0)\n",
            "Requirement already satisfied: cycler>=0.10.0 in /usr/local/lib/python3.10/dist-packages (from lvis->object-detection==0.1) (0.11.0)\n",
            "Requirement already satisfied: kiwisolver>=1.1.0 in /usr/local/lib/python3.10/dist-packages (from lvis->object-detection==0.1) (1.4.4)\n",
            "Requirement already satisfied: opencv-python>=4.1.0.25 in /usr/local/lib/python3.10/dist-packages (from lvis->object-detection==0.1) (4.7.0.72)\n",
            "Requirement already satisfied: contourpy>=1.0.1 in /usr/local/lib/python3.10/dist-packages (from matplotlib->object-detection==0.1) (1.1.0)\n",
            "Requirement already satisfied: fonttools>=4.22.0 in /usr/local/lib/python3.10/dist-packages (from matplotlib->object-detection==0.1) (4.40.0)\n",
            "Requirement already satisfied: packaging>=20.0 in /usr/local/lib/python3.10/dist-packages (from matplotlib->object-detection==0.1) (23.1)\n",
            "Requirement already satisfied: tensorflow-io-gcs-filesystem==0.32.0 in /usr/local/lib/python3.10/dist-packages (from tensorflow_io->object-detection==0.1) (0.32.0)\n",
            "Requirement already satisfied: google-auth<3.0.0dev,>=1.19.0 in /usr/local/lib/python3.10/dist-packages (from google-api-python-client>=1.6.7->tf-models-official>=2.5.1->object-detection==0.1) (2.17.3)\n",
            "Requirement already satisfied: google-auth-httplib2>=0.1.0 in /usr/local/lib/python3.10/dist-packages (from google-api-python-client>=1.6.7->tf-models-official>=2.5.1->object-detection==0.1) (0.1.0)\n",
            "Requirement already satisfied: google-api-core!=2.0.*,!=2.1.*,!=2.2.*,!=2.3.0,<3.0.0dev,>=1.31.5 in /usr/local/lib/python3.10/dist-packages (from google-api-python-client>=1.6.7->tf-models-official>=2.5.1->object-detection==0.1) (2.11.1)\n",
            "Requirement already satisfied: uritemplate<5,>=3.0.1 in /usr/local/lib/python3.10/dist-packages (from google-api-python-client>=1.6.7->tf-models-official>=2.5.1->object-detection==0.1) (4.1.1)\n",
            "Requirement already satisfied: docopt in /usr/local/lib/python3.10/dist-packages (from hdfs<3.0.0,>=2.1.0->apache-beam->object-detection==0.1) (0.6.2)\n",
            "Requirement already satisfied: certifi in /usr/local/lib/python3.10/dist-packages (from kaggle>=1.3.9->tf-models-official>=2.5.1->object-detection==0.1) (2023.5.7)\n",
            "Requirement already satisfied: tqdm in /usr/local/lib/python3.10/dist-packages (from kaggle>=1.3.9->tf-models-official>=2.5.1->object-detection==0.1) (4.65.0)\n",
            "Requirement already satisfied: python-slugify in /usr/local/lib/python3.10/dist-packages (from kaggle>=1.3.9->tf-models-official>=2.5.1->object-detection==0.1) (8.0.1)\n",
            "Requirement already satisfied: urllib3 in /usr/local/lib/python3.10/dist-packages (from kaggle>=1.3.9->tf-models-official>=2.5.1->object-detection==0.1) (1.26.16)\n",
            "Requirement already satisfied: dnspython<3.0.0,>=1.16.0 in /usr/local/lib/python3.10/dist-packages (from pymongo<5.0.0,>=3.8.0->apache-beam->object-detection==0.1) (2.3.0)\n",
            "Requirement already satisfied: charset-normalizer~=2.0.0 in /usr/local/lib/python3.10/dist-packages (from requests<3.0.0,>=2.24.0->apache-beam->object-detection==0.1) (2.0.12)\n",
            "Requirement already satisfied: idna<4,>=2.5 in /usr/local/lib/python3.10/dist-packages (from requests<3.0.0,>=2.24.0->apache-beam->object-detection==0.1) (3.4)\n",
            "Requirement already satisfied: astunparse>=1.6.0 in /usr/local/lib/python3.10/dist-packages (from tensorflow~=2.13.0->tf-models-official>=2.5.1->object-detection==0.1) (1.6.3)\n",
            "Requirement already satisfied: flatbuffers>=23.1.21 in /usr/local/lib/python3.10/dist-packages (from tensorflow~=2.13.0->tf-models-official>=2.5.1->object-detection==0.1) (23.5.26)\n",
            "Requirement already satisfied: gast<=0.4.0,>=0.2.1 in /usr/local/lib/python3.10/dist-packages (from tensorflow~=2.13.0->tf-models-official>=2.5.1->object-detection==0.1) (0.4.0)\n",
            "Requirement already satisfied: google-pasta>=0.1.1 in /usr/local/lib/python3.10/dist-packages (from tensorflow~=2.13.0->tf-models-official>=2.5.1->object-detection==0.1) (0.2.0)\n",
            "Requirement already satisfied: h5py>=2.9.0 in /usr/local/lib/python3.10/dist-packages (from tensorflow~=2.13.0->tf-models-official>=2.5.1->object-detection==0.1) (3.8.0)\n",
            "Requirement already satisfied: libclang>=13.0.0 in /usr/local/lib/python3.10/dist-packages (from tensorflow~=2.13.0->tf-models-official>=2.5.1->object-detection==0.1) (16.0.0)\n",
            "  Using cached numpy-1.24.3-cp310-cp310-manylinux_2_17_x86_64.manylinux2014_x86_64.whl (17.3 MB)\n",
            "Requirement already satisfied: opt-einsum>=2.3.2 in /usr/local/lib/python3.10/dist-packages (from tensorflow~=2.13.0->tf-models-official>=2.5.1->object-detection==0.1) (3.3.0)\n",
            "Requirement already satisfied: setuptools in /usr/local/lib/python3.10/dist-packages (from tensorflow~=2.13.0->tf-models-official>=2.5.1->object-detection==0.1) (67.7.2)\n",
            "Requirement already satisfied: tensorboard<2.14,>=2.13 in /usr/local/lib/python3.10/dist-packages (from tensorflow~=2.13.0->tf-models-official>=2.5.1->object-detection==0.1) (2.13.0)\n",
            "Requirement already satisfied: tensorflow-estimator<2.14,>=2.13.0 in /usr/local/lib/python3.10/dist-packages (from tensorflow~=2.13.0->tf-models-official>=2.5.1->object-detection==0.1) (2.13.0)\n",
            "Requirement already satisfied: termcolor>=1.1.0 in /usr/local/lib/python3.10/dist-packages (from tensorflow~=2.13.0->tf-models-official>=2.5.1->object-detection==0.1) (2.3.0)\n",
            "Requirement already satisfied: wrapt>=1.11.0 in /usr/local/lib/python3.10/dist-packages (from tensorflow~=2.13.0->tf-models-official>=2.5.1->object-detection==0.1) (1.14.1)\n",
            "Requirement already satisfied: dm-tree~=0.1.1 in /usr/local/lib/python3.10/dist-packages (from tensorflow-model-optimization>=0.4.1->tf-models-official>=2.5.1->object-detection==0.1) (0.1.8)\n",
            "Requirement already satisfied: pyasn1>=0.1.7 in /usr/local/lib/python3.10/dist-packages (from oauth2client->tf-models-official>=2.5.1->object-detection==0.1) (0.5.0)\n",
            "Requirement already satisfied: pyasn1-modules>=0.0.5 in /usr/local/lib/python3.10/dist-packages (from oauth2client->tf-models-official>=2.5.1->object-detection==0.1) (0.3.0)\n",
            "Requirement already satisfied: rsa>=3.1.4 in /usr/local/lib/python3.10/dist-packages (from oauth2client->tf-models-official>=2.5.1->object-detection==0.1) (4.9)\n",
            "Requirement already satisfied: scikit-learn>=0.21.3 in /usr/local/lib/python3.10/dist-packages (from seqeval->tf-models-official>=2.5.1->object-detection==0.1) (1.2.2)\n",
            "Requirement already satisfied: array-record in /usr/local/lib/python3.10/dist-packages (from tensorflow-datasets->tf-models-official>=2.5.1->object-detection==0.1) (0.4.0)\n",
            "Requirement already satisfied: click in /usr/local/lib/python3.10/dist-packages (from tensorflow-datasets->tf-models-official>=2.5.1->object-detection==0.1) (8.1.3)\n",
            "Requirement already satisfied: etils[enp,epath]>=0.9.0 in /usr/local/lib/python3.10/dist-packages (from tensorflow-datasets->tf-models-official>=2.5.1->object-detection==0.1) (1.3.0)\n",
            "Requirement already satisfied: promise in /usr/local/lib/python3.10/dist-packages (from tensorflow-datasets->tf-models-official>=2.5.1->object-detection==0.1) (2.3)\n",
            "Requirement already satisfied: tensorflow-metadata in /usr/local/lib/python3.10/dist-packages (from tensorflow-datasets->tf-models-official>=2.5.1->object-detection==0.1) (1.13.1)\n",
            "Requirement already satisfied: toml in /usr/local/lib/python3.10/dist-packages (from tensorflow-datasets->tf-models-official>=2.5.1->object-detection==0.1) (0.10.2)\n",
            "Requirement already satisfied: wheel<1.0,>=0.23.0 in /usr/local/lib/python3.10/dist-packages (from astunparse>=1.6.0->tensorflow~=2.13.0->tf-models-official>=2.5.1->object-detection==0.1) (0.40.0)\n",
            "Requirement already satisfied: importlib_resources in /usr/local/lib/python3.10/dist-packages (from etils[enp,epath]>=0.9.0->tensorflow-datasets->tf-models-official>=2.5.1->object-detection==0.1) (5.12.0)\n",
            "Requirement already satisfied: zipp in /usr/local/lib/python3.10/dist-packages (from etils[enp,epath]>=0.9.0->tensorflow-datasets->tf-models-official>=2.5.1->object-detection==0.1) (3.15.0)\n",
            "Requirement already satisfied: googleapis-common-protos<2.0.dev0,>=1.56.2 in /usr/local/lib/python3.10/dist-packages (from google-api-core!=2.0.*,!=2.1.*,!=2.2.*,!=2.3.0,<3.0.0dev,>=1.31.5->google-api-python-client>=1.6.7->tf-models-official>=2.5.1->object-detection==0.1) (1.59.1)\n",
            "Requirement already satisfied: cachetools<6.0,>=2.0.0 in /usr/local/lib/python3.10/dist-packages (from google-auth<3.0.0dev,>=1.19.0->google-api-python-client>=1.6.7->tf-models-official>=2.5.1->object-detection==0.1) (5.3.1)\n",
            "Requirement already satisfied: joblib>=1.1.1 in /usr/local/lib/python3.10/dist-packages (from scikit-learn>=0.21.3->seqeval->tf-models-official>=2.5.1->object-detection==0.1) (1.2.0)\n",
            "Requirement already satisfied: threadpoolctl>=2.0.0 in /usr/local/lib/python3.10/dist-packages (from scikit-learn>=0.21.3->seqeval->tf-models-official>=2.5.1->object-detection==0.1) (3.1.0)\n",
            "Requirement already satisfied: google-auth-oauthlib<1.1,>=0.5 in /usr/local/lib/python3.10/dist-packages (from tensorboard<2.14,>=2.13->tensorflow~=2.13.0->tf-models-official>=2.5.1->object-detection==0.1) (1.0.0)\n",
            "Requirement already satisfied: markdown>=2.6.8 in /usr/local/lib/python3.10/dist-packages (from tensorboard<2.14,>=2.13->tensorflow~=2.13.0->tf-models-official>=2.5.1->object-detection==0.1) (3.4.3)\n",
            "Requirement already satisfied: tensorboard-data-server<0.8.0,>=0.7.0 in /usr/local/lib/python3.10/dist-packages (from tensorboard<2.14,>=2.13->tensorflow~=2.13.0->tf-models-official>=2.5.1->object-detection==0.1) (0.7.1)\n",
            "Requirement already satisfied: werkzeug>=1.0.1 in /usr/local/lib/python3.10/dist-packages (from tensorboard<2.14,>=2.13->tensorflow~=2.13.0->tf-models-official>=2.5.1->object-detection==0.1) (2.3.6)\n",
            "Requirement already satisfied: text-unidecode>=1.3 in /usr/local/lib/python3.10/dist-packages (from python-slugify->kaggle>=1.3.9->tf-models-official>=2.5.1->object-detection==0.1) (1.3)\n",
            "Requirement already satisfied: requests-oauthlib>=0.7.0 in /usr/local/lib/python3.10/dist-packages (from google-auth-oauthlib<1.1,>=0.5->tensorboard<2.14,>=2.13->tensorflow~=2.13.0->tf-models-official>=2.5.1->object-detection==0.1) (1.3.1)\n",
            "Requirement already satisfied: MarkupSafe>=2.1.1 in /usr/local/lib/python3.10/dist-packages (from werkzeug>=1.0.1->tensorboard<2.14,>=2.13->tensorflow~=2.13.0->tf-models-official>=2.5.1->object-detection==0.1) (2.1.3)\n",
            "Requirement already satisfied: oauthlib>=3.0.0 in /usr/local/lib/python3.10/dist-packages (from requests-oauthlib>=0.7.0->google-auth-oauthlib<1.1,>=0.5->tensorboard<2.14,>=2.13->tensorflow~=2.13.0->tf-models-official>=2.5.1->object-detection==0.1) (3.2.2)\n",
            "Building wheels for collected packages: object-detection\n",
            "  Building wheel for object-detection (setup.py) ... \u001b[?25l\u001b[?25hdone\n",
            "  Created wheel for object-detection: filename=object_detection-0.1-py3-none-any.whl size=1696986 sha256=f0486d8d0e47e7b17aa7cc5e081f7c08796d9dfc021860faba8b98dc0a94735c\n",
            "  Stored in directory: /tmp/pip-ephem-wheel-cache-x1rafvcj/wheels/fb/c9/43/709f88e66b36649c7a29812ca4f6236f31caed949aabc3e335\n",
            "Successfully built object-detection\n",
            "Installing collected packages: numpy, object-detection\n",
            "  Attempting uninstall: numpy\n",
            "    Found existing installation: numpy 1.25.1\n",
            "    Uninstalling numpy-1.25.1:\n",
            "      Successfully uninstalled numpy-1.25.1\n",
            "  Attempting uninstall: object-detection\n",
            "    Found existing installation: object-detection 0.1\n",
            "    Uninstalling object-detection-0.1:\n",
            "      Successfully uninstalled object-detection-0.1\n",
            "\u001b[31mERROR: pip's dependency resolver does not currently take into account all the packages that are installed. This behaviour is the source of the following dependency conflicts.\n",
            "numba 0.56.4 requires numpy<1.24,>=1.18, but you have numpy 1.24.3 which is incompatible.\u001b[0m\u001b[31m\n",
            "\u001b[0mSuccessfully installed numpy-1.24.3 object-detection-0.1\n"
          ]
        }
      ],
      "source": [
        "# Install Tensorflow Object Detection\n",
        "if os.name=='posix':\n",
        "    !apt-get install protobuf-compiler\n",
        "    !cd Tensorflow/models/research && protoc object_detection/protos/*.proto --python_out=. && cp object_detection/packages/tf2/setup.py . && python -m pip install .\n",
        "\n",
        "if os.name=='nt':\n",
        "    url=\"https://github.com/protocolbuffers/protobuf/releases/download/v3.15.6/protoc-3.15.6-win64.zip\"\n",
        "    wget.download(url)\n",
        "    !move protoc-3.15.6-win64.zip {paths['PROTOC_PATH']}\n",
        "    !cd {paths['PROTOC_PATH']} && tar -xf protoc-3.15.6-win64.zip\n",
        "    os.environ['PATH'] += os.pathsep + os.path.abspath(os.path.join(paths['PROTOC_PATH'], 'bin'))\n",
        "    !cd Tensorflow/models/research && protoc object_detection/protos/*.proto --python_out=. && copy object_detection\\\\packages\\\\tf2\\\\setup.py setup.py && python setup.py build && python setup.py install\n",
        "    !cd Tensorflow/models/research/slim && pip install -e ."
      ]
    },
    {
      "cell_type": "code",
      "execution_count": null,
      "metadata": {
        "id": "gZTOD-QToodo",
        "scrolled": true
      },
      "outputs": [],
      "source": [
        "!pip list"
      ]
    },
    {
      "cell_type": "code",
      "execution_count": 9,
      "metadata": {
        "colab": {
          "base_uri": "https://localhost:8080/"
        },
        "id": "Gyd_Qy5aoodo",
        "outputId": "86631aed-4863-4d19-a77f-f7c65210a612",
        "scrolled": true
      },
      "outputs": [
        {
          "output_type": "stream",
          "name": "stdout",
          "text": [
            "2023-07-10 08:52:23.646312: I tensorflow/core/platform/cpu_feature_guard.cc:182] This TensorFlow binary is optimized to use available CPU instructions in performance-critical operations.\n",
            "To enable the following instructions: AVX2 AVX512F FMA, in other operations, rebuild TensorFlow with the appropriate compiler flags.\n",
            "2023-07-10 08:52:24.645835: W tensorflow/compiler/tf2tensorrt/utils/py_utils.cc:38] TF-TRT Warning: Could not find TensorRT\n",
            "/usr/local/lib/python3.10/dist-packages/tensorflow_io/python/ops/__init__.py:98: UserWarning: unable to load libtensorflow_io_plugins.so: unable to open file: libtensorflow_io_plugins.so, from paths: ['/usr/local/lib/python3.10/dist-packages/tensorflow_io/python/ops/libtensorflow_io_plugins.so']\n",
            "caused by: ['/usr/local/lib/python3.10/dist-packages/tensorflow_io/python/ops/libtensorflow_io_plugins.so: undefined symbol: _ZN3tsl6Status12empty_stringB5cxx11Ev']\n",
            "  warnings.warn(f\"unable to load libtensorflow_io_plugins.so: {e}\")\n",
            "/usr/local/lib/python3.10/dist-packages/tensorflow_io/python/ops/__init__.py:104: UserWarning: file system plugins are not loaded: unable to open file: libtensorflow_io.so, from paths: ['/usr/local/lib/python3.10/dist-packages/tensorflow_io/python/ops/libtensorflow_io.so']\n",
            "caused by: ['/usr/local/lib/python3.10/dist-packages/tensorflow_io/python/ops/libtensorflow_io.so: undefined symbol: _ZNK10tensorflow4data11DatasetBase8FinalizeEPNS_15OpKernelContextESt8functionIFN3tsl8StatusOrISt10unique_ptrIS1_NS5_4core15RefCountDeleterEEEEvEE']\n",
            "  warnings.warn(f\"file system plugins are not loaded: {e}\")\n",
            "2023-07-10 08:52:27.846832: I tensorflow/compiler/xla/stream_executor/cuda/cuda_gpu_executor.cc:995] successful NUMA node read from SysFS had negative value (-1), but there must be at least one NUMA node, so returning NUMA node zero. See more at https://github.com/torvalds/linux/blob/v6.0/Documentation/ABI/testing/sysfs-bus-pci#L344-L355\n",
            "2023-07-10 08:52:27.892828: I tensorflow/compiler/xla/stream_executor/cuda/cuda_gpu_executor.cc:995] successful NUMA node read from SysFS had negative value (-1), but there must be at least one NUMA node, so returning NUMA node zero. See more at https://github.com/torvalds/linux/blob/v6.0/Documentation/ABI/testing/sysfs-bus-pci#L344-L355\n",
            "2023-07-10 08:52:27.893255: I tensorflow/compiler/xla/stream_executor/cuda/cuda_gpu_executor.cc:995] successful NUMA node read from SysFS had negative value (-1), but there must be at least one NUMA node, so returning NUMA node zero. See more at https://github.com/torvalds/linux/blob/v6.0/Documentation/ABI/testing/sysfs-bus-pci#L344-L355\n",
            "Running tests under Python 3.10.12: /usr/bin/python3\n",
            "[ RUN      ] ModelBuilderTF2Test.test_create_center_net_deepmac\n",
            "2023-07-10 08:52:27.917943: I tensorflow/compiler/xla/stream_executor/cuda/cuda_gpu_executor.cc:995] successful NUMA node read from SysFS had negative value (-1), but there must be at least one NUMA node, so returning NUMA node zero. See more at https://github.com/torvalds/linux/blob/v6.0/Documentation/ABI/testing/sysfs-bus-pci#L344-L355\n",
            "2023-07-10 08:52:27.918332: I tensorflow/compiler/xla/stream_executor/cuda/cuda_gpu_executor.cc:995] successful NUMA node read from SysFS had negative value (-1), but there must be at least one NUMA node, so returning NUMA node zero. See more at https://github.com/torvalds/linux/blob/v6.0/Documentation/ABI/testing/sysfs-bus-pci#L344-L355\n",
            "2023-07-10 08:52:27.918625: I tensorflow/compiler/xla/stream_executor/cuda/cuda_gpu_executor.cc:995] successful NUMA node read from SysFS had negative value (-1), but there must be at least one NUMA node, so returning NUMA node zero. See more at https://github.com/torvalds/linux/blob/v6.0/Documentation/ABI/testing/sysfs-bus-pci#L344-L355\n",
            "2023-07-10 08:52:29.939176: I tensorflow/compiler/xla/stream_executor/cuda/cuda_gpu_executor.cc:995] successful NUMA node read from SysFS had negative value (-1), but there must be at least one NUMA node, so returning NUMA node zero. See more at https://github.com/torvalds/linux/blob/v6.0/Documentation/ABI/testing/sysfs-bus-pci#L344-L355\n",
            "2023-07-10 08:52:29.960985: I tensorflow/compiler/xla/stream_executor/cuda/cuda_gpu_executor.cc:995] successful NUMA node read from SysFS had negative value (-1), but there must be at least one NUMA node, so returning NUMA node zero. See more at https://github.com/torvalds/linux/blob/v6.0/Documentation/ABI/testing/sysfs-bus-pci#L344-L355\n",
            "2023-07-10 08:52:29.962887: I tensorflow/compiler/xla/stream_executor/cuda/cuda_gpu_executor.cc:995] successful NUMA node read from SysFS had negative value (-1), but there must be at least one NUMA node, so returning NUMA node zero. See more at https://github.com/torvalds/linux/blob/v6.0/Documentation/ABI/testing/sysfs-bus-pci#L344-L355\n",
            "2023-07-10 08:52:29.963092: W tensorflow/core/common_runtime/gpu/gpu_bfc_allocator.cc:47] Overriding orig_value setting because the TF_FORCE_GPU_ALLOW_GROWTH environment variable is set. Original config value was 0.\n",
            "2023-07-10 08:52:29.963146: I tensorflow/core/common_runtime/gpu/gpu_device.cc:1639] Created device /job:localhost/replica:0/task:0/device:GPU:0 with 13692 MB memory:  -> device: 0, name: Tesla T4, pci bus id: 0000:00:04.0, compute capability: 7.5\n",
            "WARNING:tensorflow:`tf.keras.layers.experimental.SyncBatchNormalization` endpoint is deprecated and will be removed in a future release. Please use `tf.keras.layers.BatchNormalization` with parameter `synchronized` set to True.\n",
            "W0710 08:52:30.065740 140385878046528 batch_normalization.py:1531] `tf.keras.layers.experimental.SyncBatchNormalization` endpoint is deprecated and will be removed in a future release. Please use `tf.keras.layers.BatchNormalization` with parameter `synchronized` set to True.\n",
            "W0710 08:52:31.658713 140385878046528 model_builder.py:1112] Building experimental DeepMAC meta-arch. Some features may be omitted.\n",
            "INFO:tensorflow:time(__main__.ModelBuilderTF2Test.test_create_center_net_deepmac): 5.17s\n",
            "I0710 08:52:33.067970 140385878046528 test_util.py:2462] time(__main__.ModelBuilderTF2Test.test_create_center_net_deepmac): 5.17s\n",
            "[       OK ] ModelBuilderTF2Test.test_create_center_net_deepmac\n",
            "[ RUN      ] ModelBuilderTF2Test.test_create_center_net_model0 (customize_head_params=True)\n",
            "INFO:tensorflow:time(__main__.ModelBuilderTF2Test.test_create_center_net_model0 (customize_head_params=True)): 2.03s\n",
            "I0710 08:52:35.101281 140385878046528 test_util.py:2462] time(__main__.ModelBuilderTF2Test.test_create_center_net_model0 (customize_head_params=True)): 2.03s\n",
            "[       OK ] ModelBuilderTF2Test.test_create_center_net_model0 (customize_head_params=True)\n",
            "[ RUN      ] ModelBuilderTF2Test.test_create_center_net_model1 (customize_head_params=False)\n",
            "INFO:tensorflow:time(__main__.ModelBuilderTF2Test.test_create_center_net_model1 (customize_head_params=False)): 1.2s\n",
            "I0710 08:52:36.319999 140385878046528 test_util.py:2462] time(__main__.ModelBuilderTF2Test.test_create_center_net_model1 (customize_head_params=False)): 1.2s\n",
            "[       OK ] ModelBuilderTF2Test.test_create_center_net_model1 (customize_head_params=False)\n",
            "[ RUN      ] ModelBuilderTF2Test.test_create_center_net_model_from_keypoints\n",
            "INFO:tensorflow:time(__main__.ModelBuilderTF2Test.test_create_center_net_model_from_keypoints): 1.09s\n",
            "I0710 08:52:37.412940 140385878046528 test_util.py:2462] time(__main__.ModelBuilderTF2Test.test_create_center_net_model_from_keypoints): 1.09s\n",
            "[       OK ] ModelBuilderTF2Test.test_create_center_net_model_from_keypoints\n",
            "[ RUN      ] ModelBuilderTF2Test.test_create_center_net_model_mobilenet\n",
            "INFO:tensorflow:time(__main__.ModelBuilderTF2Test.test_create_center_net_model_mobilenet): 7.29s\n",
            "I0710 08:52:44.717309 140385878046528 test_util.py:2462] time(__main__.ModelBuilderTF2Test.test_create_center_net_model_mobilenet): 7.29s\n",
            "[       OK ] ModelBuilderTF2Test.test_create_center_net_model_mobilenet\n",
            "[ RUN      ] ModelBuilderTF2Test.test_create_experimental_model\n",
            "INFO:tensorflow:time(__main__.ModelBuilderTF2Test.test_create_experimental_model): 0.0s\n",
            "I0710 08:52:44.727232 140385878046528 test_util.py:2462] time(__main__.ModelBuilderTF2Test.test_create_experimental_model): 0.0s\n",
            "[       OK ] ModelBuilderTF2Test.test_create_experimental_model\n",
            "[ RUN      ] ModelBuilderTF2Test.test_create_faster_rcnn_from_config_with_crop_feature0 (True)\n",
            "INFO:tensorflow:time(__main__.ModelBuilderTF2Test.test_create_faster_rcnn_from_config_with_crop_feature0 (True)): 0.04s\n",
            "I0710 08:52:44.772049 140385878046528 test_util.py:2462] time(__main__.ModelBuilderTF2Test.test_create_faster_rcnn_from_config_with_crop_feature0 (True)): 0.04s\n",
            "[       OK ] ModelBuilderTF2Test.test_create_faster_rcnn_from_config_with_crop_feature0 (True)\n",
            "[ RUN      ] ModelBuilderTF2Test.test_create_faster_rcnn_from_config_with_crop_feature1 (False)\n",
            "INFO:tensorflow:time(__main__.ModelBuilderTF2Test.test_create_faster_rcnn_from_config_with_crop_feature1 (False)): 0.08s\n",
            "I0710 08:52:44.850642 140385878046528 test_util.py:2462] time(__main__.ModelBuilderTF2Test.test_create_faster_rcnn_from_config_with_crop_feature1 (False)): 0.08s\n",
            "[       OK ] ModelBuilderTF2Test.test_create_faster_rcnn_from_config_with_crop_feature1 (False)\n",
            "[ RUN      ] ModelBuilderTF2Test.test_create_faster_rcnn_model_from_config_with_example_miner\n",
            "INFO:tensorflow:time(__main__.ModelBuilderTF2Test.test_create_faster_rcnn_model_from_config_with_example_miner): 0.04s\n",
            "I0710 08:52:44.890590 140385878046528 test_util.py:2462] time(__main__.ModelBuilderTF2Test.test_create_faster_rcnn_model_from_config_with_example_miner): 0.04s\n",
            "[       OK ] ModelBuilderTF2Test.test_create_faster_rcnn_model_from_config_with_example_miner\n",
            "[ RUN      ] ModelBuilderTF2Test.test_create_faster_rcnn_models_from_config_faster_rcnn_with_matmul\n",
            "INFO:tensorflow:time(__main__.ModelBuilderTF2Test.test_create_faster_rcnn_models_from_config_faster_rcnn_with_matmul): 0.33s\n",
            "I0710 08:52:45.217082 140385878046528 test_util.py:2462] time(__main__.ModelBuilderTF2Test.test_create_faster_rcnn_models_from_config_faster_rcnn_with_matmul): 0.33s\n",
            "[       OK ] ModelBuilderTF2Test.test_create_faster_rcnn_models_from_config_faster_rcnn_with_matmul\n",
            "[ RUN      ] ModelBuilderTF2Test.test_create_faster_rcnn_models_from_config_faster_rcnn_without_matmul\n",
            "INFO:tensorflow:time(__main__.ModelBuilderTF2Test.test_create_faster_rcnn_models_from_config_faster_rcnn_without_matmul): 0.22s\n",
            "I0710 08:52:45.436237 140385878046528 test_util.py:2462] time(__main__.ModelBuilderTF2Test.test_create_faster_rcnn_models_from_config_faster_rcnn_without_matmul): 0.22s\n",
            "[       OK ] ModelBuilderTF2Test.test_create_faster_rcnn_models_from_config_faster_rcnn_without_matmul\n",
            "[ RUN      ] ModelBuilderTF2Test.test_create_faster_rcnn_models_from_config_mask_rcnn_with_matmul\n",
            "INFO:tensorflow:time(__main__.ModelBuilderTF2Test.test_create_faster_rcnn_models_from_config_mask_rcnn_with_matmul): 0.25s\n",
            "I0710 08:52:45.683096 140385878046528 test_util.py:2462] time(__main__.ModelBuilderTF2Test.test_create_faster_rcnn_models_from_config_mask_rcnn_with_matmul): 0.25s\n",
            "[       OK ] ModelBuilderTF2Test.test_create_faster_rcnn_models_from_config_mask_rcnn_with_matmul\n",
            "[ RUN      ] ModelBuilderTF2Test.test_create_faster_rcnn_models_from_config_mask_rcnn_without_matmul\n",
            "INFO:tensorflow:time(__main__.ModelBuilderTF2Test.test_create_faster_rcnn_models_from_config_mask_rcnn_without_matmul): 0.34s\n",
            "I0710 08:52:46.019375 140385878046528 test_util.py:2462] time(__main__.ModelBuilderTF2Test.test_create_faster_rcnn_models_from_config_mask_rcnn_without_matmul): 0.34s\n",
            "[       OK ] ModelBuilderTF2Test.test_create_faster_rcnn_models_from_config_mask_rcnn_without_matmul\n",
            "[ RUN      ] ModelBuilderTF2Test.test_create_rfcn_model_from_config\n",
            "INFO:tensorflow:time(__main__.ModelBuilderTF2Test.test_create_rfcn_model_from_config): 0.24s\n",
            "I0710 08:52:46.261193 140385878046528 test_util.py:2462] time(__main__.ModelBuilderTF2Test.test_create_rfcn_model_from_config): 0.24s\n",
            "[       OK ] ModelBuilderTF2Test.test_create_rfcn_model_from_config\n",
            "[ RUN      ] ModelBuilderTF2Test.test_create_ssd_fpn_model_from_config\n",
            "INFO:tensorflow:time(__main__.ModelBuilderTF2Test.test_create_ssd_fpn_model_from_config): 0.06s\n",
            "I0710 08:52:46.323667 140385878046528 test_util.py:2462] time(__main__.ModelBuilderTF2Test.test_create_ssd_fpn_model_from_config): 0.06s\n",
            "[       OK ] ModelBuilderTF2Test.test_create_ssd_fpn_model_from_config\n",
            "[ RUN      ] ModelBuilderTF2Test.test_create_ssd_models_from_config\n",
            "I0710 08:52:46.859976 140385878046528 ssd_efficientnet_bifpn_feature_extractor.py:150] EfficientDet EfficientNet backbone version: efficientnet-b0\n",
            "I0710 08:52:46.860190 140385878046528 ssd_efficientnet_bifpn_feature_extractor.py:152] EfficientDet BiFPN num filters: 64\n",
            "I0710 08:52:46.860292 140385878046528 ssd_efficientnet_bifpn_feature_extractor.py:153] EfficientDet BiFPN num iterations: 3\n",
            "I0710 08:52:46.871477 140385878046528 efficientnet_model.py:143] round_filter input=32 output=32\n",
            "I0710 08:52:47.030107 140385878046528 efficientnet_model.py:143] round_filter input=32 output=32\n",
            "I0710 08:52:47.030354 140385878046528 efficientnet_model.py:143] round_filter input=16 output=16\n",
            "I0710 08:52:47.168649 140385878046528 efficientnet_model.py:143] round_filter input=16 output=16\n",
            "I0710 08:52:47.168847 140385878046528 efficientnet_model.py:143] round_filter input=24 output=24\n",
            "I0710 08:52:47.678452 140385878046528 efficientnet_model.py:143] round_filter input=24 output=24\n",
            "I0710 08:52:47.678681 140385878046528 efficientnet_model.py:143] round_filter input=40 output=40\n",
            "I0710 08:52:48.229478 140385878046528 efficientnet_model.py:143] round_filter input=40 output=40\n",
            "I0710 08:52:48.229713 140385878046528 efficientnet_model.py:143] round_filter input=80 output=80\n",
            "I0710 08:52:48.864110 140385878046528 efficientnet_model.py:143] round_filter input=80 output=80\n",
            "I0710 08:52:48.864342 140385878046528 efficientnet_model.py:143] round_filter input=112 output=112\n",
            "I0710 08:52:49.405391 140385878046528 efficientnet_model.py:143] round_filter input=112 output=112\n",
            "I0710 08:52:49.405656 140385878046528 efficientnet_model.py:143] round_filter input=192 output=192\n",
            "I0710 08:52:50.216901 140385878046528 efficientnet_model.py:143] round_filter input=192 output=192\n",
            "I0710 08:52:50.217181 140385878046528 efficientnet_model.py:143] round_filter input=320 output=320\n",
            "I0710 08:52:50.399904 140385878046528 efficientnet_model.py:143] round_filter input=1280 output=1280\n",
            "I0710 08:52:50.504002 140385878046528 efficientnet_model.py:453] Building model efficientnet with params ModelConfig(width_coefficient=1.0, depth_coefficient=1.0, resolution=224, dropout_rate=0.2, blocks=(BlockConfig(input_filters=32, output_filters=16, kernel_size=3, num_repeat=1, expand_ratio=1, strides=(1, 1), se_ratio=0.25, id_skip=True, fused_conv=False, conv_type='depthwise'), BlockConfig(input_filters=16, output_filters=24, kernel_size=3, num_repeat=2, expand_ratio=6, strides=(2, 2), se_ratio=0.25, id_skip=True, fused_conv=False, conv_type='depthwise'), BlockConfig(input_filters=24, output_filters=40, kernel_size=5, num_repeat=2, expand_ratio=6, strides=(2, 2), se_ratio=0.25, id_skip=True, fused_conv=False, conv_type='depthwise'), BlockConfig(input_filters=40, output_filters=80, kernel_size=3, num_repeat=3, expand_ratio=6, strides=(2, 2), se_ratio=0.25, id_skip=True, fused_conv=False, conv_type='depthwise'), BlockConfig(input_filters=80, output_filters=112, kernel_size=5, num_repeat=3, expand_ratio=6, strides=(1, 1), se_ratio=0.25, id_skip=True, fused_conv=False, conv_type='depthwise'), BlockConfig(input_filters=112, output_filters=192, kernel_size=5, num_repeat=4, expand_ratio=6, strides=(2, 2), se_ratio=0.25, id_skip=True, fused_conv=False, conv_type='depthwise'), BlockConfig(input_filters=192, output_filters=320, kernel_size=3, num_repeat=1, expand_ratio=6, strides=(1, 1), se_ratio=0.25, id_skip=True, fused_conv=False, conv_type='depthwise')), stem_base_filters=32, top_base_filters=1280, activation='simple_swish', batch_norm='default', bn_momentum=0.99, bn_epsilon=0.001, weight_decay=5e-06, drop_connect_rate=0.2, depth_divisor=8, min_depth=None, use_se=True, input_channels=3, num_classes=1000, model_name='efficientnet', rescale_input=False, data_format='channels_last', dtype='float32')\n",
            "I0710 08:52:50.732817 140385878046528 ssd_efficientnet_bifpn_feature_extractor.py:150] EfficientDet EfficientNet backbone version: efficientnet-b1\n",
            "I0710 08:52:50.744614 140385878046528 ssd_efficientnet_bifpn_feature_extractor.py:152] EfficientDet BiFPN num filters: 88\n",
            "I0710 08:52:50.744796 140385878046528 ssd_efficientnet_bifpn_feature_extractor.py:153] EfficientDet BiFPN num iterations: 4\n",
            "I0710 08:52:50.748387 140385878046528 efficientnet_model.py:143] round_filter input=32 output=32\n",
            "I0710 08:52:50.835734 140385878046528 efficientnet_model.py:143] round_filter input=32 output=32\n",
            "I0710 08:52:50.835931 140385878046528 efficientnet_model.py:143] round_filter input=16 output=16\n",
            "I0710 08:52:51.212029 140385878046528 efficientnet_model.py:143] round_filter input=16 output=16\n",
            "I0710 08:52:51.218621 140385878046528 efficientnet_model.py:143] round_filter input=24 output=24\n",
            "I0710 08:52:51.856498 140385878046528 efficientnet_model.py:143] round_filter input=24 output=24\n",
            "I0710 08:52:51.856731 140385878046528 efficientnet_model.py:143] round_filter input=40 output=40\n",
            "I0710 08:52:52.208749 140385878046528 efficientnet_model.py:143] round_filter input=40 output=40\n",
            "I0710 08:52:52.208935 140385878046528 efficientnet_model.py:143] round_filter input=80 output=80\n",
            "I0710 08:52:52.860668 140385878046528 efficientnet_model.py:143] round_filter input=80 output=80\n",
            "I0710 08:52:52.860832 140385878046528 efficientnet_model.py:143] round_filter input=112 output=112\n",
            "I0710 08:52:53.303241 140385878046528 efficientnet_model.py:143] round_filter input=112 output=112\n",
            "I0710 08:52:53.303464 140385878046528 efficientnet_model.py:143] round_filter input=192 output=192\n",
            "I0710 08:52:53.997883 140385878046528 efficientnet_model.py:143] round_filter input=192 output=192\n",
            "I0710 08:52:53.998107 140385878046528 efficientnet_model.py:143] round_filter input=320 output=320\n",
            "I0710 08:52:54.288372 140385878046528 efficientnet_model.py:143] round_filter input=1280 output=1280\n",
            "I0710 08:52:54.340534 140385878046528 efficientnet_model.py:453] Building model efficientnet with params ModelConfig(width_coefficient=1.0, depth_coefficient=1.1, resolution=240, dropout_rate=0.2, blocks=(BlockConfig(input_filters=32, output_filters=16, kernel_size=3, num_repeat=1, expand_ratio=1, strides=(1, 1), se_ratio=0.25, id_skip=True, fused_conv=False, conv_type='depthwise'), BlockConfig(input_filters=16, output_filters=24, kernel_size=3, num_repeat=2, expand_ratio=6, strides=(2, 2), se_ratio=0.25, id_skip=True, fused_conv=False, conv_type='depthwise'), BlockConfig(input_filters=24, output_filters=40, kernel_size=5, num_repeat=2, expand_ratio=6, strides=(2, 2), se_ratio=0.25, id_skip=True, fused_conv=False, conv_type='depthwise'), BlockConfig(input_filters=40, output_filters=80, kernel_size=3, num_repeat=3, expand_ratio=6, strides=(2, 2), se_ratio=0.25, id_skip=True, fused_conv=False, conv_type='depthwise'), BlockConfig(input_filters=80, output_filters=112, kernel_size=5, num_repeat=3, expand_ratio=6, strides=(1, 1), se_ratio=0.25, id_skip=True, fused_conv=False, conv_type='depthwise'), BlockConfig(input_filters=112, output_filters=192, kernel_size=5, num_repeat=4, expand_ratio=6, strides=(2, 2), se_ratio=0.25, id_skip=True, fused_conv=False, conv_type='depthwise'), BlockConfig(input_filters=192, output_filters=320, kernel_size=3, num_repeat=1, expand_ratio=6, strides=(1, 1), se_ratio=0.25, id_skip=True, fused_conv=False, conv_type='depthwise')), stem_base_filters=32, top_base_filters=1280, activation='simple_swish', batch_norm='default', bn_momentum=0.99, bn_epsilon=0.001, weight_decay=5e-06, drop_connect_rate=0.2, depth_divisor=8, min_depth=None, use_se=True, input_channels=3, num_classes=1000, model_name='efficientnet', rescale_input=False, data_format='channels_last', dtype='float32')\n",
            "I0710 08:52:54.458947 140385878046528 ssd_efficientnet_bifpn_feature_extractor.py:150] EfficientDet EfficientNet backbone version: efficientnet-b2\n",
            "I0710 08:52:54.459166 140385878046528 ssd_efficientnet_bifpn_feature_extractor.py:152] EfficientDet BiFPN num filters: 112\n",
            "I0710 08:52:54.459249 140385878046528 ssd_efficientnet_bifpn_feature_extractor.py:153] EfficientDet BiFPN num iterations: 5\n",
            "I0710 08:52:54.462211 140385878046528 efficientnet_model.py:143] round_filter input=32 output=32\n",
            "I0710 08:52:54.492932 140385878046528 efficientnet_model.py:143] round_filter input=32 output=32\n",
            "I0710 08:52:54.493104 140385878046528 efficientnet_model.py:143] round_filter input=16 output=16\n",
            "I0710 08:52:54.732277 140385878046528 efficientnet_model.py:143] round_filter input=16 output=16\n",
            "I0710 08:52:54.732481 140385878046528 efficientnet_model.py:143] round_filter input=24 output=24\n",
            "I0710 08:52:55.178709 140385878046528 efficientnet_model.py:143] round_filter input=24 output=24\n",
            "I0710 08:52:55.178930 140385878046528 efficientnet_model.py:143] round_filter input=40 output=48\n",
            "I0710 08:52:55.649722 140385878046528 efficientnet_model.py:143] round_filter input=40 output=48\n",
            "I0710 08:52:55.649961 140385878046528 efficientnet_model.py:143] round_filter input=80 output=88\n",
            "I0710 08:52:56.282730 140385878046528 efficientnet_model.py:143] round_filter input=80 output=88\n",
            "I0710 08:52:56.282942 140385878046528 efficientnet_model.py:143] round_filter input=112 output=120\n",
            "I0710 08:52:56.901790 140385878046528 efficientnet_model.py:143] round_filter input=112 output=120\n",
            "I0710 08:52:56.902249 140385878046528 efficientnet_model.py:143] round_filter input=192 output=208\n",
            "I0710 08:52:57.689415 140385878046528 efficientnet_model.py:143] round_filter input=192 output=208\n",
            "I0710 08:52:57.689652 140385878046528 efficientnet_model.py:143] round_filter input=320 output=352\n",
            "I0710 08:52:58.050029 140385878046528 efficientnet_model.py:143] round_filter input=1280 output=1408\n",
            "I0710 08:52:58.123460 140385878046528 efficientnet_model.py:453] Building model efficientnet with params ModelConfig(width_coefficient=1.1, depth_coefficient=1.2, resolution=260, dropout_rate=0.3, blocks=(BlockConfig(input_filters=32, output_filters=16, kernel_size=3, num_repeat=1, expand_ratio=1, strides=(1, 1), se_ratio=0.25, id_skip=True, fused_conv=False, conv_type='depthwise'), BlockConfig(input_filters=16, output_filters=24, kernel_size=3, num_repeat=2, expand_ratio=6, strides=(2, 2), se_ratio=0.25, id_skip=True, fused_conv=False, conv_type='depthwise'), BlockConfig(input_filters=24, output_filters=40, kernel_size=5, num_repeat=2, expand_ratio=6, strides=(2, 2), se_ratio=0.25, id_skip=True, fused_conv=False, conv_type='depthwise'), BlockConfig(input_filters=40, output_filters=80, kernel_size=3, num_repeat=3, expand_ratio=6, strides=(2, 2), se_ratio=0.25, id_skip=True, fused_conv=False, conv_type='depthwise'), BlockConfig(input_filters=80, output_filters=112, kernel_size=5, num_repeat=3, expand_ratio=6, strides=(1, 1), se_ratio=0.25, id_skip=True, fused_conv=False, conv_type='depthwise'), BlockConfig(input_filters=112, output_filters=192, kernel_size=5, num_repeat=4, expand_ratio=6, strides=(2, 2), se_ratio=0.25, id_skip=True, fused_conv=False, conv_type='depthwise'), BlockConfig(input_filters=192, output_filters=320, kernel_size=3, num_repeat=1, expand_ratio=6, strides=(1, 1), se_ratio=0.25, id_skip=True, fused_conv=False, conv_type='depthwise')), stem_base_filters=32, top_base_filters=1280, activation='simple_swish', batch_norm='default', bn_momentum=0.99, bn_epsilon=0.001, weight_decay=5e-06, drop_connect_rate=0.2, depth_divisor=8, min_depth=None, use_se=True, input_channels=3, num_classes=1000, model_name='efficientnet', rescale_input=False, data_format='channels_last', dtype='float32')\n",
            "I0710 08:52:58.235800 140385878046528 ssd_efficientnet_bifpn_feature_extractor.py:150] EfficientDet EfficientNet backbone version: efficientnet-b3\n",
            "I0710 08:52:58.236018 140385878046528 ssd_efficientnet_bifpn_feature_extractor.py:152] EfficientDet BiFPN num filters: 160\n",
            "I0710 08:52:58.236111 140385878046528 ssd_efficientnet_bifpn_feature_extractor.py:153] EfficientDet BiFPN num iterations: 6\n",
            "I0710 08:52:58.239409 140385878046528 efficientnet_model.py:143] round_filter input=32 output=40\n",
            "I0710 08:52:58.275539 140385878046528 efficientnet_model.py:143] round_filter input=32 output=40\n",
            "I0710 08:52:58.275705 140385878046528 efficientnet_model.py:143] round_filter input=16 output=24\n",
            "I0710 08:52:58.542461 140385878046528 efficientnet_model.py:143] round_filter input=16 output=24\n",
            "I0710 08:52:58.542707 140385878046528 efficientnet_model.py:143] round_filter input=24 output=32\n",
            "I0710 08:52:59.043184 140385878046528 efficientnet_model.py:143] round_filter input=24 output=32\n",
            "I0710 08:52:59.043430 140385878046528 efficientnet_model.py:143] round_filter input=40 output=48\n",
            "I0710 08:52:59.521755 140385878046528 efficientnet_model.py:143] round_filter input=40 output=48\n",
            "I0710 08:52:59.521971 140385878046528 efficientnet_model.py:143] round_filter input=80 output=96\n",
            "I0710 08:53:00.330697 140385878046528 efficientnet_model.py:143] round_filter input=80 output=96\n",
            "I0710 08:53:00.330949 140385878046528 efficientnet_model.py:143] round_filter input=112 output=136\n",
            "I0710 08:53:01.139155 140385878046528 efficientnet_model.py:143] round_filter input=112 output=136\n",
            "I0710 08:53:01.139391 140385878046528 efficientnet_model.py:143] round_filter input=192 output=232\n",
            "I0710 08:53:02.135074 140385878046528 efficientnet_model.py:143] round_filter input=192 output=232\n",
            "I0710 08:53:02.135291 140385878046528 efficientnet_model.py:143] round_filter input=320 output=384\n",
            "I0710 08:53:02.462012 140385878046528 efficientnet_model.py:143] round_filter input=1280 output=1536\n",
            "I0710 08:53:02.529828 140385878046528 efficientnet_model.py:453] Building model efficientnet with params ModelConfig(width_coefficient=1.2, depth_coefficient=1.4, resolution=300, dropout_rate=0.3, blocks=(BlockConfig(input_filters=32, output_filters=16, kernel_size=3, num_repeat=1, expand_ratio=1, strides=(1, 1), se_ratio=0.25, id_skip=True, fused_conv=False, conv_type='depthwise'), BlockConfig(input_filters=16, output_filters=24, kernel_size=3, num_repeat=2, expand_ratio=6, strides=(2, 2), se_ratio=0.25, id_skip=True, fused_conv=False, conv_type='depthwise'), BlockConfig(input_filters=24, output_filters=40, kernel_size=5, num_repeat=2, expand_ratio=6, strides=(2, 2), se_ratio=0.25, id_skip=True, fused_conv=False, conv_type='depthwise'), BlockConfig(input_filters=40, output_filters=80, kernel_size=3, num_repeat=3, expand_ratio=6, strides=(2, 2), se_ratio=0.25, id_skip=True, fused_conv=False, conv_type='depthwise'), BlockConfig(input_filters=80, output_filters=112, kernel_size=5, num_repeat=3, expand_ratio=6, strides=(1, 1), se_ratio=0.25, id_skip=True, fused_conv=False, conv_type='depthwise'), BlockConfig(input_filters=112, output_filters=192, kernel_size=5, num_repeat=4, expand_ratio=6, strides=(2, 2), se_ratio=0.25, id_skip=True, fused_conv=False, conv_type='depthwise'), BlockConfig(input_filters=192, output_filters=320, kernel_size=3, num_repeat=1, expand_ratio=6, strides=(1, 1), se_ratio=0.25, id_skip=True, fused_conv=False, conv_type='depthwise')), stem_base_filters=32, top_base_filters=1280, activation='simple_swish', batch_norm='default', bn_momentum=0.99, bn_epsilon=0.001, weight_decay=5e-06, drop_connect_rate=0.2, depth_divisor=8, min_depth=None, use_se=True, input_channels=3, num_classes=1000, model_name='efficientnet', rescale_input=False, data_format='channels_last', dtype='float32')\n",
            "I0710 08:53:02.658548 140385878046528 ssd_efficientnet_bifpn_feature_extractor.py:150] EfficientDet EfficientNet backbone version: efficientnet-b4\n",
            "I0710 08:53:02.658773 140385878046528 ssd_efficientnet_bifpn_feature_extractor.py:152] EfficientDet BiFPN num filters: 224\n",
            "I0710 08:53:02.658881 140385878046528 ssd_efficientnet_bifpn_feature_extractor.py:153] EfficientDet BiFPN num iterations: 7\n",
            "I0710 08:53:02.661932 140385878046528 efficientnet_model.py:143] round_filter input=32 output=48\n",
            "I0710 08:53:02.695998 140385878046528 efficientnet_model.py:143] round_filter input=32 output=48\n",
            "I0710 08:53:02.696146 140385878046528 efficientnet_model.py:143] round_filter input=16 output=24\n",
            "I0710 08:53:02.977781 140385878046528 efficientnet_model.py:143] round_filter input=16 output=24\n",
            "I0710 08:53:02.978027 140385878046528 efficientnet_model.py:143] round_filter input=24 output=32\n",
            "I0710 08:53:03.632307 140385878046528 efficientnet_model.py:143] round_filter input=24 output=32\n",
            "I0710 08:53:03.632552 140385878046528 efficientnet_model.py:143] round_filter input=40 output=56\n",
            "I0710 08:53:04.311847 140385878046528 efficientnet_model.py:143] round_filter input=40 output=56\n",
            "I0710 08:53:04.312077 140385878046528 efficientnet_model.py:143] round_filter input=80 output=112\n",
            "I0710 08:53:05.670398 140385878046528 efficientnet_model.py:143] round_filter input=80 output=112\n",
            "I0710 08:53:05.670657 140385878046528 efficientnet_model.py:143] round_filter input=112 output=160\n",
            "I0710 08:53:06.629036 140385878046528 efficientnet_model.py:143] round_filter input=112 output=160\n",
            "I0710 08:53:06.629322 140385878046528 efficientnet_model.py:143] round_filter input=192 output=272\n",
            "I0710 08:53:07.733701 140385878046528 efficientnet_model.py:143] round_filter input=192 output=272\n",
            "I0710 08:53:07.733886 140385878046528 efficientnet_model.py:143] round_filter input=320 output=448\n",
            "I0710 08:53:07.948463 140385878046528 efficientnet_model.py:143] round_filter input=1280 output=1792\n",
            "I0710 08:53:07.992876 140385878046528 efficientnet_model.py:453] Building model efficientnet with params ModelConfig(width_coefficient=1.4, depth_coefficient=1.8, resolution=380, dropout_rate=0.4, blocks=(BlockConfig(input_filters=32, output_filters=16, kernel_size=3, num_repeat=1, expand_ratio=1, strides=(1, 1), se_ratio=0.25, id_skip=True, fused_conv=False, conv_type='depthwise'), BlockConfig(input_filters=16, output_filters=24, kernel_size=3, num_repeat=2, expand_ratio=6, strides=(2, 2), se_ratio=0.25, id_skip=True, fused_conv=False, conv_type='depthwise'), BlockConfig(input_filters=24, output_filters=40, kernel_size=5, num_repeat=2, expand_ratio=6, strides=(2, 2), se_ratio=0.25, id_skip=True, fused_conv=False, conv_type='depthwise'), BlockConfig(input_filters=40, output_filters=80, kernel_size=3, num_repeat=3, expand_ratio=6, strides=(2, 2), se_ratio=0.25, id_skip=True, fused_conv=False, conv_type='depthwise'), BlockConfig(input_filters=80, output_filters=112, kernel_size=5, num_repeat=3, expand_ratio=6, strides=(1, 1), se_ratio=0.25, id_skip=True, fused_conv=False, conv_type='depthwise'), BlockConfig(input_filters=112, output_filters=192, kernel_size=5, num_repeat=4, expand_ratio=6, strides=(2, 2), se_ratio=0.25, id_skip=True, fused_conv=False, conv_type='depthwise'), BlockConfig(input_filters=192, output_filters=320, kernel_size=3, num_repeat=1, expand_ratio=6, strides=(1, 1), se_ratio=0.25, id_skip=True, fused_conv=False, conv_type='depthwise')), stem_base_filters=32, top_base_filters=1280, activation='simple_swish', batch_norm='default', bn_momentum=0.99, bn_epsilon=0.001, weight_decay=5e-06, drop_connect_rate=0.2, depth_divisor=8, min_depth=None, use_se=True, input_channels=3, num_classes=1000, model_name='efficientnet', rescale_input=False, data_format='channels_last', dtype='float32')\n",
            "I0710 08:53:08.072750 140385878046528 ssd_efficientnet_bifpn_feature_extractor.py:150] EfficientDet EfficientNet backbone version: efficientnet-b5\n",
            "I0710 08:53:08.072900 140385878046528 ssd_efficientnet_bifpn_feature_extractor.py:152] EfficientDet BiFPN num filters: 288\n",
            "I0710 08:53:08.072978 140385878046528 ssd_efficientnet_bifpn_feature_extractor.py:153] EfficientDet BiFPN num iterations: 7\n",
            "I0710 08:53:08.074997 140385878046528 efficientnet_model.py:143] round_filter input=32 output=48\n",
            "I0710 08:53:08.094531 140385878046528 efficientnet_model.py:143] round_filter input=32 output=48\n",
            "I0710 08:53:08.094655 140385878046528 efficientnet_model.py:143] round_filter input=16 output=24\n",
            "I0710 08:53:08.341307 140385878046528 efficientnet_model.py:143] round_filter input=16 output=24\n",
            "I0710 08:53:08.341477 140385878046528 efficientnet_model.py:143] round_filter input=24 output=40\n",
            "I0710 08:53:08.846017 140385878046528 efficientnet_model.py:143] round_filter input=24 output=40\n",
            "I0710 08:53:08.846242 140385878046528 efficientnet_model.py:143] round_filter input=40 output=64\n",
            "I0710 08:53:09.373750 140385878046528 efficientnet_model.py:143] round_filter input=40 output=64\n",
            "I0710 08:53:09.373922 140385878046528 efficientnet_model.py:143] round_filter input=80 output=128\n",
            "I0710 08:53:10.142125 140385878046528 efficientnet_model.py:143] round_filter input=80 output=128\n",
            "I0710 08:53:10.142310 140385878046528 efficientnet_model.py:143] round_filter input=112 output=176\n",
            "I0710 08:53:10.921267 140385878046528 efficientnet_model.py:143] round_filter input=112 output=176\n",
            "I0710 08:53:10.921454 140385878046528 efficientnet_model.py:143] round_filter input=192 output=304\n",
            "I0710 08:53:11.853420 140385878046528 efficientnet_model.py:143] round_filter input=192 output=304\n",
            "I0710 08:53:11.853606 140385878046528 efficientnet_model.py:143] round_filter input=320 output=512\n",
            "I0710 08:53:12.174591 140385878046528 efficientnet_model.py:143] round_filter input=1280 output=2048\n",
            "I0710 08:53:12.222908 140385878046528 efficientnet_model.py:453] Building model efficientnet with params ModelConfig(width_coefficient=1.6, depth_coefficient=2.2, resolution=456, dropout_rate=0.4, blocks=(BlockConfig(input_filters=32, output_filters=16, kernel_size=3, num_repeat=1, expand_ratio=1, strides=(1, 1), se_ratio=0.25, id_skip=True, fused_conv=False, conv_type='depthwise'), BlockConfig(input_filters=16, output_filters=24, kernel_size=3, num_repeat=2, expand_ratio=6, strides=(2, 2), se_ratio=0.25, id_skip=True, fused_conv=False, conv_type='depthwise'), BlockConfig(input_filters=24, output_filters=40, kernel_size=5, num_repeat=2, expand_ratio=6, strides=(2, 2), se_ratio=0.25, id_skip=True, fused_conv=False, conv_type='depthwise'), BlockConfig(input_filters=40, output_filters=80, kernel_size=3, num_repeat=3, expand_ratio=6, strides=(2, 2), se_ratio=0.25, id_skip=True, fused_conv=False, conv_type='depthwise'), BlockConfig(input_filters=80, output_filters=112, kernel_size=5, num_repeat=3, expand_ratio=6, strides=(1, 1), se_ratio=0.25, id_skip=True, fused_conv=False, conv_type='depthwise'), BlockConfig(input_filters=112, output_filters=192, kernel_size=5, num_repeat=4, expand_ratio=6, strides=(2, 2), se_ratio=0.25, id_skip=True, fused_conv=False, conv_type='depthwise'), BlockConfig(input_filters=192, output_filters=320, kernel_size=3, num_repeat=1, expand_ratio=6, strides=(1, 1), se_ratio=0.25, id_skip=True, fused_conv=False, conv_type='depthwise')), stem_base_filters=32, top_base_filters=1280, activation='simple_swish', batch_norm='default', bn_momentum=0.99, bn_epsilon=0.001, weight_decay=5e-06, drop_connect_rate=0.2, depth_divisor=8, min_depth=None, use_se=True, input_channels=3, num_classes=1000, model_name='efficientnet', rescale_input=False, data_format='channels_last', dtype='float32')\n",
            "I0710 08:53:12.316276 140385878046528 ssd_efficientnet_bifpn_feature_extractor.py:150] EfficientDet EfficientNet backbone version: efficientnet-b6\n",
            "I0710 08:53:12.316448 140385878046528 ssd_efficientnet_bifpn_feature_extractor.py:152] EfficientDet BiFPN num filters: 384\n",
            "I0710 08:53:12.316552 140385878046528 ssd_efficientnet_bifpn_feature_extractor.py:153] EfficientDet BiFPN num iterations: 8\n",
            "I0710 08:53:12.318503 140385878046528 efficientnet_model.py:143] round_filter input=32 output=56\n",
            "I0710 08:53:12.340425 140385878046528 efficientnet_model.py:143] round_filter input=32 output=56\n",
            "I0710 08:53:12.340553 140385878046528 efficientnet_model.py:143] round_filter input=16 output=32\n",
            "I0710 08:53:12.605637 140385878046528 efficientnet_model.py:143] round_filter input=16 output=32\n",
            "I0710 08:53:12.605852 140385878046528 efficientnet_model.py:143] round_filter input=24 output=40\n",
            "I0710 08:53:13.246159 140385878046528 efficientnet_model.py:143] round_filter input=24 output=40\n",
            "I0710 08:53:13.246375 140385878046528 efficientnet_model.py:143] round_filter input=40 output=72\n",
            "I0710 08:53:13.884589 140385878046528 efficientnet_model.py:143] round_filter input=40 output=72\n",
            "I0710 08:53:13.884772 140385878046528 efficientnet_model.py:143] round_filter input=80 output=144\n",
            "I0710 08:53:15.041571 140385878046528 efficientnet_model.py:143] round_filter input=80 output=144\n",
            "I0710 08:53:15.041749 140385878046528 efficientnet_model.py:143] round_filter input=112 output=200\n",
            "I0710 08:53:15.931922 140385878046528 efficientnet_model.py:143] round_filter input=112 output=200\n",
            "I0710 08:53:15.932118 140385878046528 efficientnet_model.py:143] round_filter input=192 output=344\n",
            "I0710 08:53:17.128633 140385878046528 efficientnet_model.py:143] round_filter input=192 output=344\n",
            "I0710 08:53:17.128839 140385878046528 efficientnet_model.py:143] round_filter input=320 output=576\n",
            "I0710 08:53:17.486666 140385878046528 efficientnet_model.py:143] round_filter input=1280 output=2304\n",
            "I0710 08:53:17.561575 140385878046528 efficientnet_model.py:453] Building model efficientnet with params ModelConfig(width_coefficient=1.8, depth_coefficient=2.6, resolution=528, dropout_rate=0.5, blocks=(BlockConfig(input_filters=32, output_filters=16, kernel_size=3, num_repeat=1, expand_ratio=1, strides=(1, 1), se_ratio=0.25, id_skip=True, fused_conv=False, conv_type='depthwise'), BlockConfig(input_filters=16, output_filters=24, kernel_size=3, num_repeat=2, expand_ratio=6, strides=(2, 2), se_ratio=0.25, id_skip=True, fused_conv=False, conv_type='depthwise'), BlockConfig(input_filters=24, output_filters=40, kernel_size=5, num_repeat=2, expand_ratio=6, strides=(2, 2), se_ratio=0.25, id_skip=True, fused_conv=False, conv_type='depthwise'), BlockConfig(input_filters=40, output_filters=80, kernel_size=3, num_repeat=3, expand_ratio=6, strides=(2, 2), se_ratio=0.25, id_skip=True, fused_conv=False, conv_type='depthwise'), BlockConfig(input_filters=80, output_filters=112, kernel_size=5, num_repeat=3, expand_ratio=6, strides=(1, 1), se_ratio=0.25, id_skip=True, fused_conv=False, conv_type='depthwise'), BlockConfig(input_filters=112, output_filters=192, kernel_size=5, num_repeat=4, expand_ratio=6, strides=(2, 2), se_ratio=0.25, id_skip=True, fused_conv=False, conv_type='depthwise'), BlockConfig(input_filters=192, output_filters=320, kernel_size=3, num_repeat=1, expand_ratio=6, strides=(1, 1), se_ratio=0.25, id_skip=True, fused_conv=False, conv_type='depthwise')), stem_base_filters=32, top_base_filters=1280, activation='simple_swish', batch_norm='default', bn_momentum=0.99, bn_epsilon=0.001, weight_decay=5e-06, drop_connect_rate=0.2, depth_divisor=8, min_depth=None, use_se=True, input_channels=3, num_classes=1000, model_name='efficientnet', rescale_input=False, data_format='channels_last', dtype='float32')\n",
            "I0710 08:53:17.763954 140385878046528 ssd_efficientnet_bifpn_feature_extractor.py:150] EfficientDet EfficientNet backbone version: efficientnet-b7\n",
            "I0710 08:53:17.764162 140385878046528 ssd_efficientnet_bifpn_feature_extractor.py:152] EfficientDet BiFPN num filters: 384\n",
            "I0710 08:53:17.764248 140385878046528 ssd_efficientnet_bifpn_feature_extractor.py:153] EfficientDet BiFPN num iterations: 8\n",
            "I0710 08:53:17.767318 140385878046528 efficientnet_model.py:143] round_filter input=32 output=64\n",
            "I0710 08:53:17.802317 140385878046528 efficientnet_model.py:143] round_filter input=32 output=64\n",
            "I0710 08:53:17.802487 140385878046528 efficientnet_model.py:143] round_filter input=16 output=32\n",
            "I0710 08:53:18.293815 140385878046528 efficientnet_model.py:143] round_filter input=16 output=32\n",
            "I0710 08:53:18.294037 140385878046528 efficientnet_model.py:143] round_filter input=24 output=48\n",
            "I0710 08:53:19.318430 140385878046528 efficientnet_model.py:143] round_filter input=24 output=48\n",
            "I0710 08:53:19.318679 140385878046528 efficientnet_model.py:143] round_filter input=40 output=80\n",
            "I0710 08:53:20.360946 140385878046528 efficientnet_model.py:143] round_filter input=40 output=80\n",
            "I0710 08:53:20.361188 140385878046528 efficientnet_model.py:143] round_filter input=80 output=160\n",
            "I0710 08:53:21.876426 140385878046528 efficientnet_model.py:143] round_filter input=80 output=160\n",
            "I0710 08:53:21.876675 140385878046528 efficientnet_model.py:143] round_filter input=112 output=224\n",
            "I0710 08:53:23.409993 140385878046528 efficientnet_model.py:143] round_filter input=112 output=224\n",
            "I0710 08:53:23.410225 140385878046528 efficientnet_model.py:143] round_filter input=192 output=384\n",
            "I0710 08:53:25.421529 140385878046528 efficientnet_model.py:143] round_filter input=192 output=384\n",
            "I0710 08:53:25.421792 140385878046528 efficientnet_model.py:143] round_filter input=320 output=640\n",
            "I0710 08:53:26.080936 140385878046528 efficientnet_model.py:143] round_filter input=1280 output=2560\n",
            "I0710 08:53:26.153969 140385878046528 efficientnet_model.py:453] Building model efficientnet with params ModelConfig(width_coefficient=2.0, depth_coefficient=3.1, resolution=600, dropout_rate=0.5, blocks=(BlockConfig(input_filters=32, output_filters=16, kernel_size=3, num_repeat=1, expand_ratio=1, strides=(1, 1), se_ratio=0.25, id_skip=True, fused_conv=False, conv_type='depthwise'), BlockConfig(input_filters=16, output_filters=24, kernel_size=3, num_repeat=2, expand_ratio=6, strides=(2, 2), se_ratio=0.25, id_skip=True, fused_conv=False, conv_type='depthwise'), BlockConfig(input_filters=24, output_filters=40, kernel_size=5, num_repeat=2, expand_ratio=6, strides=(2, 2), se_ratio=0.25, id_skip=True, fused_conv=False, conv_type='depthwise'), BlockConfig(input_filters=40, output_filters=80, kernel_size=3, num_repeat=3, expand_ratio=6, strides=(2, 2), se_ratio=0.25, id_skip=True, fused_conv=False, conv_type='depthwise'), BlockConfig(input_filters=80, output_filters=112, kernel_size=5, num_repeat=3, expand_ratio=6, strides=(1, 1), se_ratio=0.25, id_skip=True, fused_conv=False, conv_type='depthwise'), BlockConfig(input_filters=112, output_filters=192, kernel_size=5, num_repeat=4, expand_ratio=6, strides=(2, 2), se_ratio=0.25, id_skip=True, fused_conv=False, conv_type='depthwise'), BlockConfig(input_filters=192, output_filters=320, kernel_size=3, num_repeat=1, expand_ratio=6, strides=(1, 1), se_ratio=0.25, id_skip=True, fused_conv=False, conv_type='depthwise')), stem_base_filters=32, top_base_filters=1280, activation='simple_swish', batch_norm='default', bn_momentum=0.99, bn_epsilon=0.001, weight_decay=5e-06, drop_connect_rate=0.2, depth_divisor=8, min_depth=None, use_se=True, input_channels=3, num_classes=1000, model_name='efficientnet', rescale_input=False, data_format='channels_last', dtype='float32')\n",
            "INFO:tensorflow:time(__main__.ModelBuilderTF2Test.test_create_ssd_models_from_config): 40.06s\n",
            "I0710 08:53:26.386048 140385878046528 test_util.py:2462] time(__main__.ModelBuilderTF2Test.test_create_ssd_models_from_config): 40.06s\n",
            "[       OK ] ModelBuilderTF2Test.test_create_ssd_models_from_config\n",
            "[ RUN      ] ModelBuilderTF2Test.test_invalid_faster_rcnn_batchnorm_update\n",
            "INFO:tensorflow:time(__main__.ModelBuilderTF2Test.test_invalid_faster_rcnn_batchnorm_update): 0.0s\n",
            "I0710 08:53:26.427541 140385878046528 test_util.py:2462] time(__main__.ModelBuilderTF2Test.test_invalid_faster_rcnn_batchnorm_update): 0.0s\n",
            "[       OK ] ModelBuilderTF2Test.test_invalid_faster_rcnn_batchnorm_update\n",
            "[ RUN      ] ModelBuilderTF2Test.test_invalid_first_stage_nms_iou_threshold\n",
            "INFO:tensorflow:time(__main__.ModelBuilderTF2Test.test_invalid_first_stage_nms_iou_threshold): 0.0s\n",
            "I0710 08:53:26.430404 140385878046528 test_util.py:2462] time(__main__.ModelBuilderTF2Test.test_invalid_first_stage_nms_iou_threshold): 0.0s\n",
            "[       OK ] ModelBuilderTF2Test.test_invalid_first_stage_nms_iou_threshold\n",
            "[ RUN      ] ModelBuilderTF2Test.test_invalid_model_config_proto\n",
            "INFO:tensorflow:time(__main__.ModelBuilderTF2Test.test_invalid_model_config_proto): 0.0s\n",
            "I0710 08:53:26.431171 140385878046528 test_util.py:2462] time(__main__.ModelBuilderTF2Test.test_invalid_model_config_proto): 0.0s\n",
            "[       OK ] ModelBuilderTF2Test.test_invalid_model_config_proto\n",
            "[ RUN      ] ModelBuilderTF2Test.test_invalid_second_stage_batch_size\n",
            "INFO:tensorflow:time(__main__.ModelBuilderTF2Test.test_invalid_second_stage_batch_size): 0.0s\n",
            "I0710 08:53:26.433465 140385878046528 test_util.py:2462] time(__main__.ModelBuilderTF2Test.test_invalid_second_stage_batch_size): 0.0s\n",
            "[       OK ] ModelBuilderTF2Test.test_invalid_second_stage_batch_size\n",
            "[ RUN      ] ModelBuilderTF2Test.test_session\n",
            "[  SKIPPED ] ModelBuilderTF2Test.test_session\n",
            "[ RUN      ] ModelBuilderTF2Test.test_unknown_faster_rcnn_feature_extractor\n",
            "INFO:tensorflow:time(__main__.ModelBuilderTF2Test.test_unknown_faster_rcnn_feature_extractor): 0.0s\n",
            "I0710 08:53:26.435581 140385878046528 test_util.py:2462] time(__main__.ModelBuilderTF2Test.test_unknown_faster_rcnn_feature_extractor): 0.0s\n",
            "[       OK ] ModelBuilderTF2Test.test_unknown_faster_rcnn_feature_extractor\n",
            "[ RUN      ] ModelBuilderTF2Test.test_unknown_meta_architecture\n",
            "INFO:tensorflow:time(__main__.ModelBuilderTF2Test.test_unknown_meta_architecture): 0.0s\n",
            "I0710 08:53:26.436162 140385878046528 test_util.py:2462] time(__main__.ModelBuilderTF2Test.test_unknown_meta_architecture): 0.0s\n",
            "[       OK ] ModelBuilderTF2Test.test_unknown_meta_architecture\n",
            "[ RUN      ] ModelBuilderTF2Test.test_unknown_ssd_feature_extractor\n",
            "INFO:tensorflow:time(__main__.ModelBuilderTF2Test.test_unknown_ssd_feature_extractor): 0.0s\n",
            "I0710 08:53:26.437692 140385878046528 test_util.py:2462] time(__main__.ModelBuilderTF2Test.test_unknown_ssd_feature_extractor): 0.0s\n",
            "[       OK ] ModelBuilderTF2Test.test_unknown_ssd_feature_extractor\n",
            "----------------------------------------------------------------------\n",
            "Ran 24 tests in 58.539s\n",
            "\n",
            "OK (skipped=1)\n"
          ]
        }
      ],
      "source": [
        "VERIFICATION_SCRIPT = os.path.join(paths['APIMODEL_PATH'], 'research', 'object_detection', 'builders', 'model_builder_tf2_test.py')\n",
        "# Verify Installation\n",
        "!python {VERIFICATION_SCRIPT}"
      ]
    },
    {
      "cell_type": "code",
      "execution_count": null,
      "metadata": {
        "id": "d0URSy9voodo"
      },
      "outputs": [],
      "source": [
        "!pip uninstall protobuf matplotlib -y\n",
        "!pip install protobuf matplotlib==3.2"
      ]
    },
    {
      "cell_type": "code",
      "execution_count": null,
      "metadata": {
        "id": "NVHgj_3foodo"
      },
      "outputs": [],
      "source": [
        "!pip install Pillow"
      ]
    },
    {
      "cell_type": "code",
      "execution_count": null,
      "metadata": {
        "id": "oEZbSMXUoodo"
      },
      "outputs": [],
      "source": [
        "!pip install pyyaml"
      ]
    },
    {
      "cell_type": "code",
      "execution_count": null,
      "metadata": {
        "id": "cUiWF6O9oodo"
      },
      "outputs": [],
      "source": [
        "!pip list"
      ]
    },
    {
      "cell_type": "code",
      "execution_count": 10,
      "metadata": {
        "id": "vgs3zzNdoodo"
      },
      "outputs": [],
      "source": [
        "import object_detection"
      ]
    },
    {
      "cell_type": "code",
      "execution_count": 11,
      "metadata": {
        "colab": {
          "base_uri": "https://localhost:8080/"
        },
        "id": "csofht2npfDE",
        "outputId": "01e97b6d-e37c-4cc7-a5ca-a0e3912ad8e3"
      },
      "outputs": [
        {
          "output_type": "stream",
          "name": "stdout",
          "text": [
            "--2023-07-10 08:53:40--  http://download.tensorflow.org/models/object_detection/tf2/20200711/ssd_mobilenet_v2_fpnlite_320x320_coco17_tpu-8.tar.gz\n",
            "Resolving download.tensorflow.org (download.tensorflow.org)... 172.217.194.128, 2404:6800:4003:c04::80\n",
            "Connecting to download.tensorflow.org (download.tensorflow.org)|172.217.194.128|:80... connected.\n",
            "HTTP request sent, awaiting response... 200 OK\n",
            "Length: 20515344 (20M) [application/x-tar]\n",
            "Saving to: ‘ssd_mobilenet_v2_fpnlite_320x320_coco17_tpu-8.tar.gz’\n",
            "\n",
            "ssd_mobilenet_v2_fp 100%[===================>]  19.56M  54.9MB/s    in 0.4s    \n",
            "\n",
            "2023-07-10 08:53:40 (54.9 MB/s) - ‘ssd_mobilenet_v2_fpnlite_320x320_coco17_tpu-8.tar.gz’ saved [20515344/20515344]\n",
            "\n",
            "ssd_mobilenet_v2_fpnlite_320x320_coco17_tpu-8/\n",
            "ssd_mobilenet_v2_fpnlite_320x320_coco17_tpu-8/checkpoint/\n",
            "ssd_mobilenet_v2_fpnlite_320x320_coco17_tpu-8/checkpoint/ckpt-0.data-00000-of-00001\n",
            "ssd_mobilenet_v2_fpnlite_320x320_coco17_tpu-8/checkpoint/checkpoint\n",
            "ssd_mobilenet_v2_fpnlite_320x320_coco17_tpu-8/checkpoint/ckpt-0.index\n",
            "ssd_mobilenet_v2_fpnlite_320x320_coco17_tpu-8/pipeline.config\n",
            "ssd_mobilenet_v2_fpnlite_320x320_coco17_tpu-8/saved_model/\n",
            "ssd_mobilenet_v2_fpnlite_320x320_coco17_tpu-8/saved_model/saved_model.pb\n",
            "ssd_mobilenet_v2_fpnlite_320x320_coco17_tpu-8/saved_model/variables/\n",
            "ssd_mobilenet_v2_fpnlite_320x320_coco17_tpu-8/saved_model/variables/variables.data-00000-of-00001\n",
            "ssd_mobilenet_v2_fpnlite_320x320_coco17_tpu-8/saved_model/variables/variables.index\n"
          ]
        }
      ],
      "source": [
        "if os.name =='posix':\n",
        "    !wget {PRETRAINED_MODEL_URL}\n",
        "    !mv {PRETRAINED_MODEL_NAME+'.tar.gz'} {paths['PRETRAINED_MODEL_PATH']}\n",
        "    !cd {paths['PRETRAINED_MODEL_PATH']} && tar -zxvf {PRETRAINED_MODEL_NAME+'.tar.gz'}\n",
        "if os.name == 'nt':\n",
        "    wget.download(PRETRAINED_MODEL_URL)\n",
        "    !move {PRETRAINED_MODEL_NAME+'.tar.gz'} {paths['PRETRAINED_MODEL_PATH']}\n",
        "    !cd {paths['PRETRAINED_MODEL_PATH']} && tar -zxvf {PRETRAINED_MODEL_NAME+'.tar.gz'}"
      ]
    },
    {
      "cell_type": "markdown",
      "metadata": {
        "id": "M5KJTnkfpfDC"
      },
      "source": [
        "# 2. Create Label Map"
      ]
    },
    {
      "cell_type": "code",
      "execution_count": 12,
      "metadata": {
        "id": "p1BVDWo7pfDC"
      },
      "outputs": [],
      "source": [
        "labels = [{'name':'licence', 'id':1}]\n",
        "\n",
        "with open(files['LABELMAP'], 'w') as f:\n",
        "    for label in labels:\n",
        "        f.write('item { \\n')\n",
        "        f.write('\\tname:\\'{}\\'\\n'.format(label['name']))\n",
        "        f.write('\\tid:{}\\n'.format(label['id']))\n",
        "        f.write('}\\n')"
      ]
    },
    {
      "cell_type": "markdown",
      "metadata": {
        "id": "C88zyVELpfDC"
      },
      "source": [
        "# 3. Create TF records"
      ]
    },
    {
      "cell_type": "code",
      "execution_count": 17,
      "metadata": {
        "id": "kvf5WccwrFGq"
      },
      "outputs": [],
      "source": [
        "# OPTIONAL IF RUNNING ON COLAB\n",
        "ARCHIVE_FILES = os.path.join(paths['IMAGE_PATH'], 'archive.tar.gz')\n",
        "if os.path.exists(ARCHIVE_FILES):\n",
        "  !tar -zxvf {ARCHIVE_FILES}"
      ]
    },
    {
      "cell_type": "code",
      "execution_count": 18,
      "metadata": {
        "colab": {
          "base_uri": "https://localhost:8080/"
        },
        "id": "KWpb_BVUpfDD",
        "outputId": "b440878d-9acd-4a38-bb3c-44450dd56334"
      },
      "outputs": [
        {
          "output_type": "stream",
          "name": "stdout",
          "text": [
            "Cloning into 'Tensorflow/scripts'...\n",
            "remote: Enumerating objects: 3, done.\u001b[K\n",
            "remote: Counting objects: 100% (3/3), done.\u001b[K\n",
            "remote: Compressing objects: 100% (2/2), done.\u001b[K\n",
            "remote: Total 3 (delta 0), reused 1 (delta 0), pack-reused 0\u001b[K\n",
            "Unpacking objects: 100% (3/3), 2.67 KiB | 2.67 MiB/s, done.\n"
          ]
        }
      ],
      "source": [
        "if not os.path.exists(files['TF_RECORD_SCRIPT']):\n",
        "    !git clone https://github.com/nicknochnack/GenerateTFRecord {paths['SCRIPTS_PATH']}"
      ]
    },
    {
      "cell_type": "code",
      "execution_count": null,
      "metadata": {
        "id": "Fdtldm1Soodp"
      },
      "outputs": [],
      "source": [
        "!pip install pytz"
      ]
    },
    {
      "cell_type": "code",
      "execution_count": 19,
      "metadata": {
        "colab": {
          "base_uri": "https://localhost:8080/"
        },
        "id": "UPFToGZqpfDD",
        "outputId": "fdda9320-7040-4190-ddeb-5515e9101385"
      },
      "outputs": [
        {
          "output_type": "stream",
          "name": "stdout",
          "text": [
            "Successfully created the TFRecord file: Tensorflow/workspace/annotations/train.record\n",
            "Successfully created the TFRecord file: Tensorflow/workspace/annotations/test.record\n"
          ]
        }
      ],
      "source": [
        "!python {files['TF_RECORD_SCRIPT']} -x {os.path.join(paths['IMAGE_PATH'], 'train')} -l {files['LABELMAP']} -o {os.path.join(paths['ANNOTATION_PATH'], 'train.record')}\n",
        "!python {files['TF_RECORD_SCRIPT']} -x {os.path.join(paths['IMAGE_PATH'], 'test')} -l {files['LABELMAP']} -o {os.path.join(paths['ANNOTATION_PATH'], 'test.record')}"
      ]
    },
    {
      "cell_type": "markdown",
      "metadata": {
        "id": "qT4QU7pLpfDE"
      },
      "source": [
        "# 4. Copy Model Config to Training Folder"
      ]
    },
    {
      "cell_type": "code",
      "execution_count": 20,
      "metadata": {
        "id": "cOjuTFbwpfDF"
      },
      "outputs": [],
      "source": [
        "if os.name =='posix':\n",
        "    !cp {os.path.join(paths['PRETRAINED_MODEL_PATH'], PRETRAINED_MODEL_NAME, 'pipeline.config')} {os.path.join(paths['CHECKPOINT_PATH'])}\n",
        "if os.name == 'nt':\n",
        "    !copy {os.path.join(paths['PRETRAINED_MODEL_PATH'], PRETRAINED_MODEL_NAME, 'pipeline.config')} {os.path.join(paths['CHECKPOINT_PATH'])}"
      ]
    },
    {
      "cell_type": "markdown",
      "metadata": {
        "id": "Ga8gpNslpfDF"
      },
      "source": [
        "# 5. Update Config For Transfer Learning"
      ]
    },
    {
      "cell_type": "code",
      "execution_count": 21,
      "metadata": {
        "id": "Z9hRrO_ppfDF"
      },
      "outputs": [],
      "source": [
        "import tensorflow as tf\n",
        "from object_detection.utils import config_util\n",
        "from object_detection.protos import pipeline_pb2\n",
        "from google.protobuf import text_format"
      ]
    },
    {
      "cell_type": "code",
      "execution_count": 22,
      "metadata": {
        "id": "c2A0mn4ipfDF"
      },
      "outputs": [],
      "source": [
        "config = config_util.get_configs_from_pipeline_file(files['PIPELINE_CONFIG'])"
      ]
    },
    {
      "cell_type": "code",
      "execution_count": 23,
      "metadata": {
        "colab": {
          "base_uri": "https://localhost:8080/"
        },
        "id": "uQA13-afpfDF",
        "outputId": "86dac5df-24da-451a-cfa1-648c7daf903c"
      },
      "outputs": [
        {
          "output_type": "execute_result",
          "data": {
            "text/plain": [
              "{'model': ssd {\n",
              "   num_classes: 90\n",
              "   image_resizer {\n",
              "     fixed_shape_resizer {\n",
              "       height: 320\n",
              "       width: 320\n",
              "     }\n",
              "   }\n",
              "   feature_extractor {\n",
              "     type: \"ssd_mobilenet_v2_fpn_keras\"\n",
              "     depth_multiplier: 1.0\n",
              "     min_depth: 16\n",
              "     conv_hyperparams {\n",
              "       regularizer {\n",
              "         l2_regularizer {\n",
              "           weight: 3.9999998989515007e-05\n",
              "         }\n",
              "       }\n",
              "       initializer {\n",
              "         random_normal_initializer {\n",
              "           mean: 0.0\n",
              "           stddev: 0.009999999776482582\n",
              "         }\n",
              "       }\n",
              "       activation: RELU_6\n",
              "       batch_norm {\n",
              "         decay: 0.996999979019165\n",
              "         scale: true\n",
              "         epsilon: 0.0010000000474974513\n",
              "       }\n",
              "     }\n",
              "     use_depthwise: true\n",
              "     override_base_feature_extractor_hyperparams: true\n",
              "     fpn {\n",
              "       min_level: 3\n",
              "       max_level: 7\n",
              "       additional_layer_depth: 128\n",
              "     }\n",
              "   }\n",
              "   box_coder {\n",
              "     faster_rcnn_box_coder {\n",
              "       y_scale: 10.0\n",
              "       x_scale: 10.0\n",
              "       height_scale: 5.0\n",
              "       width_scale: 5.0\n",
              "     }\n",
              "   }\n",
              "   matcher {\n",
              "     argmax_matcher {\n",
              "       matched_threshold: 0.5\n",
              "       unmatched_threshold: 0.5\n",
              "       ignore_thresholds: false\n",
              "       negatives_lower_than_unmatched: true\n",
              "       force_match_for_each_row: true\n",
              "       use_matmul_gather: true\n",
              "     }\n",
              "   }\n",
              "   similarity_calculator {\n",
              "     iou_similarity {\n",
              "     }\n",
              "   }\n",
              "   box_predictor {\n",
              "     weight_shared_convolutional_box_predictor {\n",
              "       conv_hyperparams {\n",
              "         regularizer {\n",
              "           l2_regularizer {\n",
              "             weight: 3.9999998989515007e-05\n",
              "           }\n",
              "         }\n",
              "         initializer {\n",
              "           random_normal_initializer {\n",
              "             mean: 0.0\n",
              "             stddev: 0.009999999776482582\n",
              "           }\n",
              "         }\n",
              "         activation: RELU_6\n",
              "         batch_norm {\n",
              "           decay: 0.996999979019165\n",
              "           scale: true\n",
              "           epsilon: 0.0010000000474974513\n",
              "         }\n",
              "       }\n",
              "       depth: 128\n",
              "       num_layers_before_predictor: 4\n",
              "       kernel_size: 3\n",
              "       class_prediction_bias_init: -4.599999904632568\n",
              "       share_prediction_tower: true\n",
              "       use_depthwise: true\n",
              "     }\n",
              "   }\n",
              "   anchor_generator {\n",
              "     multiscale_anchor_generator {\n",
              "       min_level: 3\n",
              "       max_level: 7\n",
              "       anchor_scale: 4.0\n",
              "       aspect_ratios: 1.0\n",
              "       aspect_ratios: 2.0\n",
              "       aspect_ratios: 0.5\n",
              "       scales_per_octave: 2\n",
              "     }\n",
              "   }\n",
              "   post_processing {\n",
              "     batch_non_max_suppression {\n",
              "       score_threshold: 9.99999993922529e-09\n",
              "       iou_threshold: 0.6000000238418579\n",
              "       max_detections_per_class: 100\n",
              "       max_total_detections: 100\n",
              "       use_static_shapes: false\n",
              "     }\n",
              "     score_converter: SIGMOID\n",
              "   }\n",
              "   normalize_loss_by_num_matches: true\n",
              "   loss {\n",
              "     localization_loss {\n",
              "       weighted_smooth_l1 {\n",
              "       }\n",
              "     }\n",
              "     classification_loss {\n",
              "       weighted_sigmoid_focal {\n",
              "         gamma: 2.0\n",
              "         alpha: 0.25\n",
              "       }\n",
              "     }\n",
              "     classification_weight: 1.0\n",
              "     localization_weight: 1.0\n",
              "   }\n",
              "   encode_background_as_zeros: true\n",
              "   normalize_loc_loss_by_codesize: true\n",
              "   inplace_batchnorm_update: true\n",
              "   freeze_batchnorm: false\n",
              " },\n",
              " 'train_config': batch_size: 128\n",
              " data_augmentation_options {\n",
              "   random_horizontal_flip {\n",
              "   }\n",
              " }\n",
              " data_augmentation_options {\n",
              "   random_crop_image {\n",
              "     min_object_covered: 0.0\n",
              "     min_aspect_ratio: 0.75\n",
              "     max_aspect_ratio: 3.0\n",
              "     min_area: 0.75\n",
              "     max_area: 1.0\n",
              "     overlap_thresh: 0.0\n",
              "   }\n",
              " }\n",
              " sync_replicas: true\n",
              " optimizer {\n",
              "   momentum_optimizer {\n",
              "     learning_rate {\n",
              "       cosine_decay_learning_rate {\n",
              "         learning_rate_base: 0.07999999821186066\n",
              "         total_steps: 50000\n",
              "         warmup_learning_rate: 0.026666000485420227\n",
              "         warmup_steps: 1000\n",
              "       }\n",
              "     }\n",
              "     momentum_optimizer_value: 0.8999999761581421\n",
              "   }\n",
              "   use_moving_average: false\n",
              " }\n",
              " fine_tune_checkpoint: \"PATH_TO_BE_CONFIGURED\"\n",
              " num_steps: 50000\n",
              " startup_delay_steps: 0.0\n",
              " replicas_to_aggregate: 8\n",
              " max_number_of_boxes: 100\n",
              " unpad_groundtruth_tensors: false\n",
              " fine_tune_checkpoint_type: \"classification\"\n",
              " fine_tune_checkpoint_version: V2,\n",
              " 'train_input_config': label_map_path: \"PATH_TO_BE_CONFIGURED\"\n",
              " tf_record_input_reader {\n",
              "   input_path: \"PATH_TO_BE_CONFIGURED\"\n",
              " },\n",
              " 'eval_config': metrics_set: \"coco_detection_metrics\"\n",
              " use_moving_averages: false,\n",
              " 'eval_input_configs': [label_map_path: \"PATH_TO_BE_CONFIGURED\"\n",
              " shuffle: false\n",
              " num_epochs: 1\n",
              " tf_record_input_reader {\n",
              "   input_path: \"PATH_TO_BE_CONFIGURED\"\n",
              " }\n",
              " ],\n",
              " 'eval_input_config': label_map_path: \"PATH_TO_BE_CONFIGURED\"\n",
              " shuffle: false\n",
              " num_epochs: 1\n",
              " tf_record_input_reader {\n",
              "   input_path: \"PATH_TO_BE_CONFIGURED\"\n",
              " }}"
            ]
          },
          "metadata": {},
          "execution_count": 23
        }
      ],
      "source": [
        "config"
      ]
    },
    {
      "cell_type": "code",
      "execution_count": 24,
      "metadata": {
        "id": "9vK5lotDpfDF"
      },
      "outputs": [],
      "source": [
        "pipeline_config = pipeline_pb2.TrainEvalPipelineConfig()\n",
        "with tf.io.gfile.GFile(files['PIPELINE_CONFIG'], \"r\") as f:\n",
        "    proto_str = f.read()\n",
        "    text_format.Merge(proto_str, pipeline_config)"
      ]
    },
    {
      "cell_type": "code",
      "execution_count": 25,
      "metadata": {
        "id": "rP43Ph0JpfDG"
      },
      "outputs": [],
      "source": [
        "pipeline_config.model.ssd.num_classes = len(labels)\n",
        "pipeline_config.train_config.batch_size = 4\n",
        "pipeline_config.train_config.fine_tune_checkpoint = os.path.join(paths['PRETRAINED_MODEL_PATH'], PRETRAINED_MODEL_NAME, 'checkpoint', 'ckpt-0')\n",
        "pipeline_config.train_config.fine_tune_checkpoint_type = \"detection\"\n",
        "pipeline_config.train_input_reader.label_map_path= files['LABELMAP']\n",
        "pipeline_config.train_input_reader.tf_record_input_reader.input_path[:] = [os.path.join(paths['ANNOTATION_PATH'], 'train.record')]\n",
        "pipeline_config.eval_input_reader[0].label_map_path = files['LABELMAP']\n",
        "pipeline_config.eval_input_reader[0].tf_record_input_reader.input_path[:] = [os.path.join(paths['ANNOTATION_PATH'], 'test.record')]"
      ]
    },
    {
      "cell_type": "code",
      "execution_count": 26,
      "metadata": {
        "id": "oJvfgwWqpfDG"
      },
      "outputs": [],
      "source": [
        "config_text = text_format.MessageToString(pipeline_config)\n",
        "with tf.io.gfile.GFile(files['PIPELINE_CONFIG'], \"wb\") as f:\n",
        "    f.write(config_text)"
      ]
    },
    {
      "cell_type": "markdown",
      "metadata": {
        "id": "Zr3ON7xMpfDG"
      },
      "source": [
        "# 6. Train the model"
      ]
    },
    {
      "cell_type": "code",
      "execution_count": 27,
      "metadata": {
        "id": "B-Y2UQmQpfDG"
      },
      "outputs": [],
      "source": [
        "TRAINING_SCRIPT = os.path.join(paths['APIMODEL_PATH'], 'research', 'object_detection', 'model_main_tf2.py')"
      ]
    },
    {
      "cell_type": "code",
      "execution_count": 28,
      "metadata": {
        "id": "jMP2XDfQpfDH"
      },
      "outputs": [],
      "source": [
        "command = \"python {} --model_dir={} --pipeline_config_path={} --num_train_steps=10000\".format(TRAINING_SCRIPT, paths['CHECKPOINT_PATH'],files['PIPELINE_CONFIG'])"
      ]
    },
    {
      "cell_type": "code",
      "execution_count": 29,
      "metadata": {
        "colab": {
          "base_uri": "https://localhost:8080/"
        },
        "id": "A4OXXi-ApfDH",
        "outputId": "f2ebc5a8-6cf5-46a1-8d9e-20d5983a75c2"
      },
      "outputs": [
        {
          "output_type": "stream",
          "name": "stdout",
          "text": [
            "python Tensorflow/models/research/object_detection/model_main_tf2.py --model_dir=Tensorflow/workspace/models/my_ssd_mobnet --pipeline_config_path=Tensorflow/workspace/models/my_ssd_mobnet/pipeline.config --num_train_steps=10000\n"
          ]
        }
      ],
      "source": [
        "print(command)"
      ]
    },
    {
      "cell_type": "code",
      "execution_count": 30,
      "metadata": {
        "colab": {
          "base_uri": "https://localhost:8080/"
        },
        "id": "i3ZsJR-qpfDH",
        "outputId": "e01d86ab-7256-4088-f44b-41d436d9aafc"
      },
      "outputs": [
        {
          "output_type": "stream",
          "name": "stdout",
          "text": [
            "2023-07-10 08:27:44.629490: W tensorflow/compiler/tf2tensorrt/utils/py_utils.cc:38] TF-TRT Warning: Could not find TensorRT\n",
            "/usr/local/lib/python3.10/dist-packages/tensorflow_io/python/ops/__init__.py:98: UserWarning: unable to load libtensorflow_io_plugins.so: unable to open file: libtensorflow_io_plugins.so, from paths: ['/usr/local/lib/python3.10/dist-packages/tensorflow_io/python/ops/libtensorflow_io_plugins.so']\n",
            "caused by: ['/usr/local/lib/python3.10/dist-packages/tensorflow_io/python/ops/libtensorflow_io_plugins.so: undefined symbol: _ZN3tsl6Status12empty_stringB5cxx11Ev']\n",
            "  warnings.warn(f\"unable to load libtensorflow_io_plugins.so: {e}\")\n",
            "/usr/local/lib/python3.10/dist-packages/tensorflow_io/python/ops/__init__.py:104: UserWarning: file system plugins are not loaded: unable to open file: libtensorflow_io.so, from paths: ['/usr/local/lib/python3.10/dist-packages/tensorflow_io/python/ops/libtensorflow_io.so']\n",
            "caused by: ['/usr/local/lib/python3.10/dist-packages/tensorflow_io/python/ops/libtensorflow_io.so: undefined symbol: _ZNK10tensorflow4data11DatasetBase8FinalizeEPNS_15OpKernelContextESt8functionIFN3tsl8StatusOrISt10unique_ptrIS1_NS5_4core15RefCountDeleterEEEEvEE']\n",
            "  warnings.warn(f\"file system plugins are not loaded: {e}\")\n",
            "2023-07-10 08:27:48.488306: W tensorflow/core/common_runtime/gpu/gpu_bfc_allocator.cc:47] Overriding orig_value setting because the TF_FORCE_GPU_ALLOW_GROWTH environment variable is set. Original config value was 0.\n",
            "INFO:tensorflow:Using MirroredStrategy with devices ('/job:localhost/replica:0/task:0/device:GPU:0',)\n",
            "I0710 08:27:48.489312 140419466164032 mirrored_strategy.py:419] Using MirroredStrategy with devices ('/job:localhost/replica:0/task:0/device:GPU:0',)\n",
            "INFO:tensorflow:Maybe overwriting train_steps: 10000\n",
            "I0710 08:27:48.515890 140419466164032 config_util.py:552] Maybe overwriting train_steps: 10000\n",
            "INFO:tensorflow:Maybe overwriting use_bfloat16: False\n",
            "I0710 08:27:48.516107 140419466164032 config_util.py:552] Maybe overwriting use_bfloat16: False\n",
            "WARNING:tensorflow:From /usr/local/lib/python3.10/dist-packages/object_detection/model_lib_v2.py:563: StrategyBase.experimental_distribute_datasets_from_function (from tensorflow.python.distribute.distribute_lib) is deprecated and will be removed in a future version.\n",
            "Instructions for updating:\n",
            "rename to distribute_datasets_from_function\n",
            "W0710 08:27:48.715252 140419466164032 deprecation.py:364] From /usr/local/lib/python3.10/dist-packages/object_detection/model_lib_v2.py:563: StrategyBase.experimental_distribute_datasets_from_function (from tensorflow.python.distribute.distribute_lib) is deprecated and will be removed in a future version.\n",
            "Instructions for updating:\n",
            "rename to distribute_datasets_from_function\n",
            "INFO:tensorflow:Reading unweighted datasets: ['Tensorflow/workspace/annotations/train.record']\n",
            "I0710 08:27:48.723116 140419466164032 dataset_builder.py:162] Reading unweighted datasets: ['Tensorflow/workspace/annotations/train.record']\n",
            "INFO:tensorflow:Reading record datasets for input file: ['Tensorflow/workspace/annotations/train.record']\n",
            "I0710 08:27:48.723322 140419466164032 dataset_builder.py:79] Reading record datasets for input file: ['Tensorflow/workspace/annotations/train.record']\n",
            "INFO:tensorflow:Number of filenames to read: 1\n",
            "I0710 08:27:48.723421 140419466164032 dataset_builder.py:80] Number of filenames to read: 1\n",
            "WARNING:tensorflow:num_readers has been reduced to 1 to match input file shards.\n",
            "W0710 08:27:48.723507 140419466164032 dataset_builder.py:86] num_readers has been reduced to 1 to match input file shards.\n",
            "WARNING:tensorflow:From /usr/local/lib/python3.10/dist-packages/object_detection/builders/dataset_builder.py:100: parallel_interleave (from tensorflow.python.data.experimental.ops.interleave_ops) is deprecated and will be removed in a future version.\n",
            "Instructions for updating:\n",
            "Use `tf.data.Dataset.interleave(map_func, cycle_length, block_length, num_parallel_calls=tf.data.AUTOTUNE)` instead. If sloppy execution is desired, use `tf.data.Options.deterministic`.\n",
            "W0710 08:27:48.730790 140419466164032 deprecation.py:364] From /usr/local/lib/python3.10/dist-packages/object_detection/builders/dataset_builder.py:100: parallel_interleave (from tensorflow.python.data.experimental.ops.interleave_ops) is deprecated and will be removed in a future version.\n",
            "Instructions for updating:\n",
            "Use `tf.data.Dataset.interleave(map_func, cycle_length, block_length, num_parallel_calls=tf.data.AUTOTUNE)` instead. If sloppy execution is desired, use `tf.data.Options.deterministic`.\n",
            "WARNING:tensorflow:From /usr/local/lib/python3.10/dist-packages/object_detection/builders/dataset_builder.py:235: DatasetV1.map_with_legacy_function (from tensorflow.python.data.ops.dataset_ops) is deprecated and will be removed in a future version.\n",
            "Instructions for updating:\n",
            "Use `tf.data.Dataset.map()\n",
            "W0710 08:27:48.750800 140419466164032 deprecation.py:364] From /usr/local/lib/python3.10/dist-packages/object_detection/builders/dataset_builder.py:235: DatasetV1.map_with_legacy_function (from tensorflow.python.data.ops.dataset_ops) is deprecated and will be removed in a future version.\n",
            "Instructions for updating:\n",
            "Use `tf.data.Dataset.map()\n",
            "WARNING:tensorflow:From /usr/local/lib/python3.10/dist-packages/tensorflow/python/util/dispatch.py:1176: sparse_to_dense (from tensorflow.python.ops.sparse_ops) is deprecated and will be removed in a future version.\n",
            "Instructions for updating:\n",
            "Create a `tf.sparse.SparseTensor` and use `tf.sparse.to_dense` instead.\n",
            "W0710 08:27:55.797343 140419466164032 deprecation.py:364] From /usr/local/lib/python3.10/dist-packages/tensorflow/python/util/dispatch.py:1176: sparse_to_dense (from tensorflow.python.ops.sparse_ops) is deprecated and will be removed in a future version.\n",
            "Instructions for updating:\n",
            "Create a `tf.sparse.SparseTensor` and use `tf.sparse.to_dense` instead.\n",
            "WARNING:tensorflow:From /usr/local/lib/python3.10/dist-packages/tensorflow/python/util/dispatch.py:1176: sample_distorted_bounding_box (from tensorflow.python.ops.image_ops_impl) is deprecated and will be removed in a future version.\n",
            "Instructions for updating:\n",
            "`seed2` arg is deprecated.Use sample_distorted_bounding_box_v2 instead.\n",
            "W0710 08:28:00.561385 140419466164032 deprecation.py:364] From /usr/local/lib/python3.10/dist-packages/tensorflow/python/util/dispatch.py:1176: sample_distorted_bounding_box (from tensorflow.python.ops.image_ops_impl) is deprecated and will be removed in a future version.\n",
            "Instructions for updating:\n",
            "`seed2` arg is deprecated.Use sample_distorted_bounding_box_v2 instead.\n",
            "WARNING:tensorflow:From /usr/local/lib/python3.10/dist-packages/tensorflow/python/util/dispatch.py:1176: to_float (from tensorflow.python.ops.math_ops) is deprecated and will be removed in a future version.\n",
            "Instructions for updating:\n",
            "Use `tf.cast` instead.\n",
            "W0710 08:28:03.028825 140419466164032 deprecation.py:364] From /usr/local/lib/python3.10/dist-packages/tensorflow/python/util/dispatch.py:1176: to_float (from tensorflow.python.ops.math_ops) is deprecated and will be removed in a future version.\n",
            "Instructions for updating:\n",
            "Use `tf.cast` instead.\n",
            "/usr/local/lib/python3.10/dist-packages/keras/src/backend.py:452: UserWarning: `tf.keras.backend.set_learning_phase` is deprecated and will be removed after 2020-10-11. To update it, simply pass a True/False value to the `training` argument of the `__call__` method of your layer or model.\n",
            "  warnings.warn(\n",
            "I0710 08:28:13.982589 140413946033920 api.py:460] feature_map_spatial_dims: [(40, 40), (20, 20), (10, 10), (5, 5), (3, 3)]\n",
            "I0710 08:28:24.285286 140413946033920 api.py:460] feature_map_spatial_dims: [(40, 40), (20, 20), (10, 10), (5, 5), (3, 3)]\n",
            "INFO:tensorflow:Reduce to /job:localhost/replica:0/task:0/device:CPU:0 then broadcast to ('/job:localhost/replica:0/task:0/device:CPU:0',).\n",
            "I0710 08:28:38.334250 140419466164032 cross_device_ops.py:617] Reduce to /job:localhost/replica:0/task:0/device:CPU:0 then broadcast to ('/job:localhost/replica:0/task:0/device:CPU:0',).\n",
            "INFO:tensorflow:Reduce to /job:localhost/replica:0/task:0/device:CPU:0 then broadcast to ('/job:localhost/replica:0/task:0/device:CPU:0',).\n",
            "I0710 08:28:38.337191 140419466164032 cross_device_ops.py:617] Reduce to /job:localhost/replica:0/task:0/device:CPU:0 then broadcast to ('/job:localhost/replica:0/task:0/device:CPU:0',).\n",
            "INFO:tensorflow:Reduce to /job:localhost/replica:0/task:0/device:CPU:0 then broadcast to ('/job:localhost/replica:0/task:0/device:CPU:0',).\n",
            "I0710 08:28:38.338308 140419466164032 cross_device_ops.py:617] Reduce to /job:localhost/replica:0/task:0/device:CPU:0 then broadcast to ('/job:localhost/replica:0/task:0/device:CPU:0',).\n",
            "INFO:tensorflow:Reduce to /job:localhost/replica:0/task:0/device:CPU:0 then broadcast to ('/job:localhost/replica:0/task:0/device:CPU:0',).\n",
            "I0710 08:28:38.339230 140419466164032 cross_device_ops.py:617] Reduce to /job:localhost/replica:0/task:0/device:CPU:0 then broadcast to ('/job:localhost/replica:0/task:0/device:CPU:0',).\n",
            "INFO:tensorflow:Reduce to /job:localhost/replica:0/task:0/device:CPU:0 then broadcast to ('/job:localhost/replica:0/task:0/device:CPU:0',).\n",
            "I0710 08:28:38.343059 140419466164032 cross_device_ops.py:617] Reduce to /job:localhost/replica:0/task:0/device:CPU:0 then broadcast to ('/job:localhost/replica:0/task:0/device:CPU:0',).\n",
            "INFO:tensorflow:Reduce to /job:localhost/replica:0/task:0/device:CPU:0 then broadcast to ('/job:localhost/replica:0/task:0/device:CPU:0',).\n",
            "I0710 08:28:38.343970 140419466164032 cross_device_ops.py:617] Reduce to /job:localhost/replica:0/task:0/device:CPU:0 then broadcast to ('/job:localhost/replica:0/task:0/device:CPU:0',).\n",
            "INFO:tensorflow:Reduce to /job:localhost/replica:0/task:0/device:CPU:0 then broadcast to ('/job:localhost/replica:0/task:0/device:CPU:0',).\n",
            "I0710 08:28:38.344956 140419466164032 cross_device_ops.py:617] Reduce to /job:localhost/replica:0/task:0/device:CPU:0 then broadcast to ('/job:localhost/replica:0/task:0/device:CPU:0',).\n",
            "INFO:tensorflow:Reduce to /job:localhost/replica:0/task:0/device:CPU:0 then broadcast to ('/job:localhost/replica:0/task:0/device:CPU:0',).\n",
            "I0710 08:28:38.345941 140419466164032 cross_device_ops.py:617] Reduce to /job:localhost/replica:0/task:0/device:CPU:0 then broadcast to ('/job:localhost/replica:0/task:0/device:CPU:0',).\n",
            "INFO:tensorflow:Reduce to /job:localhost/replica:0/task:0/device:CPU:0 then broadcast to ('/job:localhost/replica:0/task:0/device:CPU:0',).\n",
            "I0710 08:28:38.351064 140419466164032 cross_device_ops.py:617] Reduce to /job:localhost/replica:0/task:0/device:CPU:0 then broadcast to ('/job:localhost/replica:0/task:0/device:CPU:0',).\n",
            "INFO:tensorflow:Reduce to /job:localhost/replica:0/task:0/device:CPU:0 then broadcast to ('/job:localhost/replica:0/task:0/device:CPU:0',).\n",
            "I0710 08:28:38.352062 140419466164032 cross_device_ops.py:617] Reduce to /job:localhost/replica:0/task:0/device:CPU:0 then broadcast to ('/job:localhost/replica:0/task:0/device:CPU:0',).\n",
            "WARNING:tensorflow:From /usr/local/lib/python3.10/dist-packages/tensorflow/python/util/deprecation.py:648: calling map_fn_v2 (from tensorflow.python.ops.map_fn) with dtype is deprecated and will be removed in a future version.\n",
            "Instructions for updating:\n",
            "Use fn_output_signature instead\n",
            "W0710 08:28:39.851850 140415112771328 deprecation.py:569] From /usr/local/lib/python3.10/dist-packages/tensorflow/python/util/deprecation.py:648: calling map_fn_v2 (from tensorflow.python.ops.map_fn) with dtype is deprecated and will be removed in a future version.\n",
            "Instructions for updating:\n",
            "Use fn_output_signature instead\n",
            "I0710 08:28:41.045362 140415112771328 api.py:460] feature_map_spatial_dims: [(40, 40), (20, 20), (10, 10), (5, 5), (3, 3)]\n",
            "I0710 08:28:49.208629 140415112771328 api.py:460] feature_map_spatial_dims: [(40, 40), (20, 20), (10, 10), (5, 5), (3, 3)]\n",
            "I0710 08:28:56.651099 140415112771328 api.py:460] feature_map_spatial_dims: [(40, 40), (20, 20), (10, 10), (5, 5), (3, 3)]\n",
            "I0710 08:29:02.031914 140415112771328 api.py:460] feature_map_spatial_dims: [(40, 40), (20, 20), (10, 10), (5, 5), (3, 3)]\n",
            "INFO:tensorflow:Step 100 per-step time 0.491s\n",
            "I0710 08:29:28.369005 140419466164032 model_lib_v2.py:705] Step 100 per-step time 0.491s\n",
            "INFO:tensorflow:{'Loss/classification_loss': 0.4242501,\n",
            " 'Loss/localization_loss': 0.45612904,\n",
            " 'Loss/regularization_loss': 0.15443118,\n",
            " 'Loss/total_loss': 1.0348103,\n",
            " 'learning_rate': 0.0319994}\n",
            "I0710 08:29:28.369376 140419466164032 model_lib_v2.py:708] {'Loss/classification_loss': 0.4242501,\n",
            " 'Loss/localization_loss': 0.45612904,\n",
            " 'Loss/regularization_loss': 0.15443118,\n",
            " 'Loss/total_loss': 1.0348103,\n",
            " 'learning_rate': 0.0319994}\n",
            "INFO:tensorflow:Step 200 per-step time 0.099s\n",
            "I0710 08:29:38.247115 140419466164032 model_lib_v2.py:705] Step 200 per-step time 0.099s\n",
            "INFO:tensorflow:{'Loss/classification_loss': 0.40209195,\n",
            " 'Loss/localization_loss': 0.49988896,\n",
            " 'Loss/regularization_loss': 0.15466703,\n",
            " 'Loss/total_loss': 1.0566479,\n",
            " 'learning_rate': 0.0373328}\n",
            "I0710 08:29:38.247498 140419466164032 model_lib_v2.py:708] {'Loss/classification_loss': 0.40209195,\n",
            " 'Loss/localization_loss': 0.49988896,\n",
            " 'Loss/regularization_loss': 0.15466703,\n",
            " 'Loss/total_loss': 1.0566479,\n",
            " 'learning_rate': 0.0373328}\n",
            "INFO:tensorflow:Step 300 per-step time 0.083s\n",
            "I0710 08:29:46.570873 140419466164032 model_lib_v2.py:705] Step 300 per-step time 0.083s\n",
            "INFO:tensorflow:{'Loss/classification_loss': 0.20134412,\n",
            " 'Loss/localization_loss': 0.27098238,\n",
            " 'Loss/regularization_loss': 0.15496272,\n",
            " 'Loss/total_loss': 0.62728924,\n",
            " 'learning_rate': 0.0426662}\n",
            "I0710 08:29:46.571199 140419466164032 model_lib_v2.py:708] {'Loss/classification_loss': 0.20134412,\n",
            " 'Loss/localization_loss': 0.27098238,\n",
            " 'Loss/regularization_loss': 0.15496272,\n",
            " 'Loss/total_loss': 0.62728924,\n",
            " 'learning_rate': 0.0426662}\n",
            "INFO:tensorflow:Step 400 per-step time 0.064s\n",
            "I0710 08:29:52.927251 140419466164032 model_lib_v2.py:705] Step 400 per-step time 0.064s\n",
            "INFO:tensorflow:{'Loss/classification_loss': 0.20042953,\n",
            " 'Loss/localization_loss': 0.25967056,\n",
            " 'Loss/regularization_loss': 0.15508716,\n",
            " 'Loss/total_loss': 0.6151872,\n",
            " 'learning_rate': 0.047999598}\n",
            "I0710 08:29:52.927613 140419466164032 model_lib_v2.py:708] {'Loss/classification_loss': 0.20042953,\n",
            " 'Loss/localization_loss': 0.25967056,\n",
            " 'Loss/regularization_loss': 0.15508716,\n",
            " 'Loss/total_loss': 0.6151872,\n",
            " 'learning_rate': 0.047999598}\n",
            "INFO:tensorflow:Step 500 per-step time 0.099s\n",
            "I0710 08:30:02.866331 140419466164032 model_lib_v2.py:705] Step 500 per-step time 0.099s\n",
            "INFO:tensorflow:{'Loss/classification_loss': 0.42015606,\n",
            " 'Loss/localization_loss': 0.36457565,\n",
            " 'Loss/regularization_loss': 0.15512349,\n",
            " 'Loss/total_loss': 0.9398552,\n",
            " 'learning_rate': 0.053333}\n",
            "I0710 08:30:02.866733 140419466164032 model_lib_v2.py:708] {'Loss/classification_loss': 0.42015606,\n",
            " 'Loss/localization_loss': 0.36457565,\n",
            " 'Loss/regularization_loss': 0.15512349,\n",
            " 'Loss/total_loss': 0.9398552,\n",
            " 'learning_rate': 0.053333}\n",
            "INFO:tensorflow:Step 600 per-step time 0.079s\n",
            "I0710 08:30:10.755357 140419466164032 model_lib_v2.py:705] Step 600 per-step time 0.079s\n",
            "INFO:tensorflow:{'Loss/classification_loss': 0.21434866,\n",
            " 'Loss/localization_loss': 0.28146186,\n",
            " 'Loss/regularization_loss': 0.15522163,\n",
            " 'Loss/total_loss': 0.65103215,\n",
            " 'learning_rate': 0.0586664}\n",
            "I0710 08:30:10.755688 140419466164032 model_lib_v2.py:708] {'Loss/classification_loss': 0.21434866,\n",
            " 'Loss/localization_loss': 0.28146186,\n",
            " 'Loss/regularization_loss': 0.15522163,\n",
            " 'Loss/total_loss': 0.65103215,\n",
            " 'learning_rate': 0.0586664}\n",
            "INFO:tensorflow:Step 700 per-step time 0.064s\n",
            "I0710 08:30:17.189231 140419466164032 model_lib_v2.py:705] Step 700 per-step time 0.064s\n",
            "INFO:tensorflow:{'Loss/classification_loss': 0.20612787,\n",
            " 'Loss/localization_loss': 0.25073558,\n",
            " 'Loss/regularization_loss': 0.15529838,\n",
            " 'Loss/total_loss': 0.6121619,\n",
            " 'learning_rate': 0.0639998}\n",
            "I0710 08:30:17.189553 140419466164032 model_lib_v2.py:708] {'Loss/classification_loss': 0.20612787,\n",
            " 'Loss/localization_loss': 0.25073558,\n",
            " 'Loss/regularization_loss': 0.15529838,\n",
            " 'Loss/total_loss': 0.6121619,\n",
            " 'learning_rate': 0.0639998}\n",
            "INFO:tensorflow:Step 800 per-step time 0.100s\n",
            "I0710 08:30:27.228961 140419466164032 model_lib_v2.py:705] Step 800 per-step time 0.100s\n",
            "INFO:tensorflow:{'Loss/classification_loss': 0.2435338,\n",
            " 'Loss/localization_loss': 0.39697322,\n",
            " 'Loss/regularization_loss': 0.15535018,\n",
            " 'Loss/total_loss': 0.7958572,\n",
            " 'learning_rate': 0.069333196}\n",
            "I0710 08:30:27.229369 140419466164032 model_lib_v2.py:708] {'Loss/classification_loss': 0.2435338,\n",
            " 'Loss/localization_loss': 0.39697322,\n",
            " 'Loss/regularization_loss': 0.15535018,\n",
            " 'Loss/total_loss': 0.7958572,\n",
            " 'learning_rate': 0.069333196}\n",
            "INFO:tensorflow:Step 900 per-step time 0.081s\n",
            "I0710 08:30:35.294787 140419466164032 model_lib_v2.py:705] Step 900 per-step time 0.081s\n",
            "INFO:tensorflow:{'Loss/classification_loss': 0.39455298,\n",
            " 'Loss/localization_loss': 0.20356818,\n",
            " 'Loss/regularization_loss': 0.15546703,\n",
            " 'Loss/total_loss': 0.7535882,\n",
            " 'learning_rate': 0.074666604}\n",
            "I0710 08:30:35.295101 140419466164032 model_lib_v2.py:708] {'Loss/classification_loss': 0.39455298,\n",
            " 'Loss/localization_loss': 0.20356818,\n",
            " 'Loss/regularization_loss': 0.15546703,\n",
            " 'Loss/total_loss': 0.7535882,\n",
            " 'learning_rate': 0.074666604}\n",
            "INFO:tensorflow:Step 1000 per-step time 0.069s\n",
            "I0710 08:30:42.194082 140419466164032 model_lib_v2.py:705] Step 1000 per-step time 0.069s\n",
            "INFO:tensorflow:{'Loss/classification_loss': 0.261814,\n",
            " 'Loss/localization_loss': 0.21618965,\n",
            " 'Loss/regularization_loss': 0.15548414,\n",
            " 'Loss/total_loss': 0.6334878,\n",
            " 'learning_rate': 0.08}\n",
            "I0710 08:30:42.194460 140419466164032 model_lib_v2.py:708] {'Loss/classification_loss': 0.261814,\n",
            " 'Loss/localization_loss': 0.21618965,\n",
            " 'Loss/regularization_loss': 0.15548414,\n",
            " 'Loss/total_loss': 0.6334878,\n",
            " 'learning_rate': 0.08}\n",
            "INFO:tensorflow:Step 1100 per-step time 0.122s\n",
            "I0710 08:30:54.387590 140419466164032 model_lib_v2.py:705] Step 1100 per-step time 0.122s\n",
            "INFO:tensorflow:{'Loss/classification_loss': 0.14962381,\n",
            " 'Loss/localization_loss': 0.13753806,\n",
            " 'Loss/regularization_loss': 0.15575786,\n",
            " 'Loss/total_loss': 0.44291973,\n",
            " 'learning_rate': 0.07999918}\n",
            "I0710 08:30:54.388020 140419466164032 model_lib_v2.py:708] {'Loss/classification_loss': 0.14962381,\n",
            " 'Loss/localization_loss': 0.13753806,\n",
            " 'Loss/regularization_loss': 0.15575786,\n",
            " 'Loss/total_loss': 0.44291973,\n",
            " 'learning_rate': 0.07999918}\n",
            "INFO:tensorflow:Step 1200 per-step time 0.067s\n",
            "I0710 08:31:01.106378 140419466164032 model_lib_v2.py:705] Step 1200 per-step time 0.067s\n",
            "INFO:tensorflow:{'Loss/classification_loss': 0.28978264,\n",
            " 'Loss/localization_loss': 0.3824234,\n",
            " 'Loss/regularization_loss': 0.15566799,\n",
            " 'Loss/total_loss': 0.82787406,\n",
            " 'learning_rate': 0.079996705}\n",
            "I0710 08:31:01.106703 140419466164032 model_lib_v2.py:708] {'Loss/classification_loss': 0.28978264,\n",
            " 'Loss/localization_loss': 0.3824234,\n",
            " 'Loss/regularization_loss': 0.15566799,\n",
            " 'Loss/total_loss': 0.82787406,\n",
            " 'learning_rate': 0.079996705}\n",
            "INFO:tensorflow:Step 1300 per-step time 0.081s\n",
            "I0710 08:31:09.194646 140419466164032 model_lib_v2.py:705] Step 1300 per-step time 0.081s\n",
            "INFO:tensorflow:{'Loss/classification_loss': 0.23483244,\n",
            " 'Loss/localization_loss': 0.24398133,\n",
            " 'Loss/regularization_loss': 0.15575218,\n",
            " 'Loss/total_loss': 0.63456595,\n",
            " 'learning_rate': 0.0799926}\n",
            "I0710 08:31:09.195019 140419466164032 model_lib_v2.py:708] {'Loss/classification_loss': 0.23483244,\n",
            " 'Loss/localization_loss': 0.24398133,\n",
            " 'Loss/regularization_loss': 0.15575218,\n",
            " 'Loss/total_loss': 0.63456595,\n",
            " 'learning_rate': 0.0799926}\n",
            "INFO:tensorflow:Step 1400 per-step time 0.101s\n",
            "I0710 08:31:19.258364 140419466164032 model_lib_v2.py:705] Step 1400 per-step time 0.101s\n",
            "INFO:tensorflow:{'Loss/classification_loss': 0.16334663,\n",
            " 'Loss/localization_loss': 0.12864916,\n",
            " 'Loss/regularization_loss': 0.15568565,\n",
            " 'Loss/total_loss': 0.44768143,\n",
            " 'learning_rate': 0.07998685}\n",
            "I0710 08:31:19.258689 140419466164032 model_lib_v2.py:708] {'Loss/classification_loss': 0.16334663,\n",
            " 'Loss/localization_loss': 0.12864916,\n",
            " 'Loss/regularization_loss': 0.15568565,\n",
            " 'Loss/total_loss': 0.44768143,\n",
            " 'learning_rate': 0.07998685}\n",
            "INFO:tensorflow:Step 1500 per-step time 0.066s\n",
            "I0710 08:31:25.814311 140419466164032 model_lib_v2.py:705] Step 1500 per-step time 0.066s\n",
            "INFO:tensorflow:{'Loss/classification_loss': 0.1405694,\n",
            " 'Loss/localization_loss': 0.1607164,\n",
            " 'Loss/regularization_loss': 0.15543932,\n",
            " 'Loss/total_loss': 0.45672512,\n",
            " 'learning_rate': 0.07997945}\n",
            "I0710 08:31:25.814643 140419466164032 model_lib_v2.py:708] {'Loss/classification_loss': 0.1405694,\n",
            " 'Loss/localization_loss': 0.1607164,\n",
            " 'Loss/regularization_loss': 0.15543932,\n",
            " 'Loss/total_loss': 0.45672512,\n",
            " 'learning_rate': 0.07997945}\n",
            "INFO:tensorflow:Step 1600 per-step time 0.084s\n",
            "I0710 08:31:34.230238 140419466164032 model_lib_v2.py:705] Step 1600 per-step time 0.084s\n",
            "INFO:tensorflow:{'Loss/classification_loss': 0.25418252,\n",
            " 'Loss/localization_loss': 0.13944116,\n",
            " 'Loss/regularization_loss': 0.15525211,\n",
            " 'Loss/total_loss': 0.5488758,\n",
            " 'learning_rate': 0.079970405}\n",
            "I0710 08:31:34.230623 140419466164032 model_lib_v2.py:708] {'Loss/classification_loss': 0.25418252,\n",
            " 'Loss/localization_loss': 0.13944116,\n",
            " 'Loss/regularization_loss': 0.15525211,\n",
            " 'Loss/total_loss': 0.5488758,\n",
            " 'learning_rate': 0.079970405}\n",
            "INFO:tensorflow:Step 1700 per-step time 0.097s\n",
            "I0710 08:31:43.935892 140419466164032 model_lib_v2.py:705] Step 1700 per-step time 0.097s\n",
            "INFO:tensorflow:{'Loss/classification_loss': 0.14189002,\n",
            " 'Loss/localization_loss': 0.12982732,\n",
            " 'Loss/regularization_loss': 0.1551133,\n",
            " 'Loss/total_loss': 0.42683065,\n",
            " 'learning_rate': 0.07995972}\n",
            "I0710 08:31:43.936162 140419466164032 model_lib_v2.py:708] {'Loss/classification_loss': 0.14189002,\n",
            " 'Loss/localization_loss': 0.12982732,\n",
            " 'Loss/regularization_loss': 0.1551133,\n",
            " 'Loss/total_loss': 0.42683065,\n",
            " 'learning_rate': 0.07995972}\n",
            "INFO:tensorflow:Step 1800 per-step time 0.067s\n",
            "I0710 08:31:50.614347 140419466164032 model_lib_v2.py:705] Step 1800 per-step time 0.067s\n",
            "INFO:tensorflow:{'Loss/classification_loss': 0.3104576,\n",
            " 'Loss/localization_loss': 0.32625765,\n",
            " 'Loss/regularization_loss': 0.15471822,\n",
            " 'Loss/total_loss': 0.79143345,\n",
            " 'learning_rate': 0.0799474}\n",
            "I0710 08:31:50.614894 140419466164032 model_lib_v2.py:708] {'Loss/classification_loss': 0.3104576,\n",
            " 'Loss/localization_loss': 0.32625765,\n",
            " 'Loss/regularization_loss': 0.15471822,\n",
            " 'Loss/total_loss': 0.79143345,\n",
            " 'learning_rate': 0.0799474}\n",
            "INFO:tensorflow:Step 1900 per-step time 0.087s\n",
            "I0710 08:31:59.302814 140419466164032 model_lib_v2.py:705] Step 1900 per-step time 0.087s\n",
            "INFO:tensorflow:{'Loss/classification_loss': 0.15171885,\n",
            " 'Loss/localization_loss': 0.11242876,\n",
            " 'Loss/regularization_loss': 0.15436475,\n",
            " 'Loss/total_loss': 0.41851234,\n",
            " 'learning_rate': 0.07993342}\n",
            "I0710 08:31:59.303209 140419466164032 model_lib_v2.py:708] {'Loss/classification_loss': 0.15171885,\n",
            " 'Loss/localization_loss': 0.11242876,\n",
            " 'Loss/regularization_loss': 0.15436475,\n",
            " 'Loss/total_loss': 0.41851234,\n",
            " 'learning_rate': 0.07993342}\n",
            "INFO:tensorflow:Step 2000 per-step time 0.093s\n",
            "I0710 08:32:08.591823 140419466164032 model_lib_v2.py:705] Step 2000 per-step time 0.093s\n",
            "INFO:tensorflow:{'Loss/classification_loss': 0.15014784,\n",
            " 'Loss/localization_loss': 0.12946342,\n",
            " 'Loss/regularization_loss': 0.15408103,\n",
            " 'Loss/total_loss': 0.43369228,\n",
            " 'learning_rate': 0.07991781}\n",
            "I0710 08:32:08.592121 140419466164032 model_lib_v2.py:708] {'Loss/classification_loss': 0.15014784,\n",
            " 'Loss/localization_loss': 0.12946342,\n",
            " 'Loss/regularization_loss': 0.15408103,\n",
            " 'Loss/total_loss': 0.43369228,\n",
            " 'learning_rate': 0.07991781}\n",
            "INFO:tensorflow:Step 2100 per-step time 0.078s\n",
            "I0710 08:32:16.373422 140419466164032 model_lib_v2.py:705] Step 2100 per-step time 0.078s\n",
            "INFO:tensorflow:{'Loss/classification_loss': 0.09992267,\n",
            " 'Loss/localization_loss': 0.08040048,\n",
            " 'Loss/regularization_loss': 0.15374394,\n",
            " 'Loss/total_loss': 0.3340671,\n",
            " 'learning_rate': 0.07990056}\n",
            "I0710 08:32:16.373754 140419466164032 model_lib_v2.py:708] {'Loss/classification_loss': 0.09992267,\n",
            " 'Loss/localization_loss': 0.08040048,\n",
            " 'Loss/regularization_loss': 0.15374394,\n",
            " 'Loss/total_loss': 0.3340671,\n",
            " 'learning_rate': 0.07990056}\n",
            "INFO:tensorflow:Step 2200 per-step time 0.098s\n",
            "I0710 08:32:26.162642 140419466164032 model_lib_v2.py:705] Step 2200 per-step time 0.098s\n",
            "INFO:tensorflow:{'Loss/classification_loss': 0.27025777,\n",
            " 'Loss/localization_loss': 0.19157764,\n",
            " 'Loss/regularization_loss': 0.1535485,\n",
            " 'Loss/total_loss': 0.6153839,\n",
            " 'learning_rate': 0.07988167}\n",
            "I0710 08:32:26.163071 140419466164032 model_lib_v2.py:708] {'Loss/classification_loss': 0.27025777,\n",
            " 'Loss/localization_loss': 0.19157764,\n",
            " 'Loss/regularization_loss': 0.1535485,\n",
            " 'Loss/total_loss': 0.6153839,\n",
            " 'learning_rate': 0.07988167}\n",
            "INFO:tensorflow:Step 2300 per-step time 0.085s\n",
            "I0710 08:32:34.609634 140419466164032 model_lib_v2.py:705] Step 2300 per-step time 0.085s\n",
            "INFO:tensorflow:{'Loss/classification_loss': 0.14496353,\n",
            " 'Loss/localization_loss': 0.1773474,\n",
            " 'Loss/regularization_loss': 0.1532163,\n",
            " 'Loss/total_loss': 0.47552723,\n",
            " 'learning_rate': 0.07986114}\n",
            "I0710 08:32:34.609982 140419466164032 model_lib_v2.py:708] {'Loss/classification_loss': 0.14496353,\n",
            " 'Loss/localization_loss': 0.1773474,\n",
            " 'Loss/regularization_loss': 0.1532163,\n",
            " 'Loss/total_loss': 0.47552723,\n",
            " 'learning_rate': 0.07986114}\n",
            "INFO:tensorflow:Step 2400 per-step time 0.067s\n",
            "I0710 08:32:41.354629 140419466164032 model_lib_v2.py:705] Step 2400 per-step time 0.067s\n",
            "INFO:tensorflow:{'Loss/classification_loss': 0.16905269,\n",
            " 'Loss/localization_loss': 0.1515792,\n",
            " 'Loss/regularization_loss': 0.15282904,\n",
            " 'Loss/total_loss': 0.4734609,\n",
            " 'learning_rate': 0.07983897}\n",
            "I0710 08:32:41.354935 140419466164032 model_lib_v2.py:708] {'Loss/classification_loss': 0.16905269,\n",
            " 'Loss/localization_loss': 0.1515792,\n",
            " 'Loss/regularization_loss': 0.15282904,\n",
            " 'Loss/total_loss': 0.4734609,\n",
            " 'learning_rate': 0.07983897}\n",
            "INFO:tensorflow:Step 2500 per-step time 0.103s\n",
            "I0710 08:32:51.699719 140419466164032 model_lib_v2.py:705] Step 2500 per-step time 0.103s\n",
            "INFO:tensorflow:{'Loss/classification_loss': 0.23672992,\n",
            " 'Loss/localization_loss': 0.2738256,\n",
            " 'Loss/regularization_loss': 0.15253071,\n",
            " 'Loss/total_loss': 0.66308624,\n",
            " 'learning_rate': 0.079815164}\n",
            "I0710 08:32:51.700235 140419466164032 model_lib_v2.py:708] {'Loss/classification_loss': 0.23672992,\n",
            " 'Loss/localization_loss': 0.2738256,\n",
            " 'Loss/regularization_loss': 0.15253071,\n",
            " 'Loss/total_loss': 0.66308624,\n",
            " 'learning_rate': 0.079815164}\n",
            "INFO:tensorflow:Step 2600 per-step time 0.080s\n",
            "I0710 08:32:59.701458 140419466164032 model_lib_v2.py:705] Step 2600 per-step time 0.080s\n",
            "INFO:tensorflow:{'Loss/classification_loss': 0.23290259,\n",
            " 'Loss/localization_loss': 0.21121532,\n",
            " 'Loss/regularization_loss': 0.15218243,\n",
            " 'Loss/total_loss': 0.59630036,\n",
            " 'learning_rate': 0.07978972}\n",
            "I0710 08:32:59.701775 140419466164032 model_lib_v2.py:708] {'Loss/classification_loss': 0.23290259,\n",
            " 'Loss/localization_loss': 0.21121532,\n",
            " 'Loss/regularization_loss': 0.15218243,\n",
            " 'Loss/total_loss': 0.59630036,\n",
            " 'learning_rate': 0.07978972}\n",
            "INFO:tensorflow:Step 2700 per-step time 0.066s\n",
            "I0710 08:33:06.286198 140419466164032 model_lib_v2.py:705] Step 2700 per-step time 0.066s\n",
            "INFO:tensorflow:{'Loss/classification_loss': 0.15230253,\n",
            " 'Loss/localization_loss': 0.15800084,\n",
            " 'Loss/regularization_loss': 0.15180233,\n",
            " 'Loss/total_loss': 0.46210572,\n",
            " 'learning_rate': 0.07976264}\n",
            "I0710 08:33:06.286587 140419466164032 model_lib_v2.py:708] {'Loss/classification_loss': 0.15230253,\n",
            " 'Loss/localization_loss': 0.15800084,\n",
            " 'Loss/regularization_loss': 0.15180233,\n",
            " 'Loss/total_loss': 0.46210572,\n",
            " 'learning_rate': 0.07976264}\n",
            "INFO:tensorflow:Step 2800 per-step time 0.101s\n",
            "I0710 08:33:16.405744 140419466164032 model_lib_v2.py:705] Step 2800 per-step time 0.101s\n",
            "INFO:tensorflow:{'Loss/classification_loss': 0.15009493,\n",
            " 'Loss/localization_loss': 0.12232743,\n",
            " 'Loss/regularization_loss': 0.15147182,\n",
            " 'Loss/total_loss': 0.4238942,\n",
            " 'learning_rate': 0.07973392}\n",
            "I0710 08:33:16.406347 140419466164032 model_lib_v2.py:708] {'Loss/classification_loss': 0.15009493,\n",
            " 'Loss/localization_loss': 0.12232743,\n",
            " 'Loss/regularization_loss': 0.15147182,\n",
            " 'Loss/total_loss': 0.4238942,\n",
            " 'learning_rate': 0.07973392}\n",
            "INFO:tensorflow:Step 2900 per-step time 0.079s\n",
            "I0710 08:33:24.332828 140419466164032 model_lib_v2.py:705] Step 2900 per-step time 0.079s\n",
            "INFO:tensorflow:{'Loss/classification_loss': 0.12926073,\n",
            " 'Loss/localization_loss': 0.11535167,\n",
            " 'Loss/regularization_loss': 0.15112917,\n",
            " 'Loss/total_loss': 0.39574158,\n",
            " 'learning_rate': 0.07970358}\n",
            "I0710 08:33:24.333112 140419466164032 model_lib_v2.py:708] {'Loss/classification_loss': 0.12926073,\n",
            " 'Loss/localization_loss': 0.11535167,\n",
            " 'Loss/regularization_loss': 0.15112917,\n",
            " 'Loss/total_loss': 0.39574158,\n",
            " 'learning_rate': 0.07970358}\n",
            "INFO:tensorflow:Step 3000 per-step time 0.070s\n",
            "I0710 08:33:31.314003 140419466164032 model_lib_v2.py:705] Step 3000 per-step time 0.070s\n",
            "INFO:tensorflow:{'Loss/classification_loss': 0.14268072,\n",
            " 'Loss/localization_loss': 0.1611642,\n",
            " 'Loss/regularization_loss': 0.1508146,\n",
            " 'Loss/total_loss': 0.45465952,\n",
            " 'learning_rate': 0.0796716}\n",
            "I0710 08:33:31.314361 140419466164032 model_lib_v2.py:708] {'Loss/classification_loss': 0.14268072,\n",
            " 'Loss/localization_loss': 0.1611642,\n",
            " 'Loss/regularization_loss': 0.1508146,\n",
            " 'Loss/total_loss': 0.45465952,\n",
            " 'learning_rate': 0.0796716}\n",
            "INFO:tensorflow:Step 3100 per-step time 0.116s\n",
            "I0710 08:33:42.941814 140419466164032 model_lib_v2.py:705] Step 3100 per-step time 0.116s\n",
            "INFO:tensorflow:{'Loss/classification_loss': 0.15101703,\n",
            " 'Loss/localization_loss': 0.14236398,\n",
            " 'Loss/regularization_loss': 0.15044475,\n",
            " 'Loss/total_loss': 0.44382575,\n",
            " 'learning_rate': 0.07963799}\n",
            "I0710 08:33:42.942205 140419466164032 model_lib_v2.py:708] {'Loss/classification_loss': 0.15101703,\n",
            " 'Loss/localization_loss': 0.14236398,\n",
            " 'Loss/regularization_loss': 0.15044475,\n",
            " 'Loss/total_loss': 0.44382575,\n",
            " 'learning_rate': 0.07963799}\n",
            "INFO:tensorflow:Step 3200 per-step time 0.071s\n",
            "I0710 08:33:50.040841 140419466164032 model_lib_v2.py:705] Step 3200 per-step time 0.071s\n",
            "INFO:tensorflow:{'Loss/classification_loss': 0.1221466,\n",
            " 'Loss/localization_loss': 0.11128437,\n",
            " 'Loss/regularization_loss': 0.15001573,\n",
            " 'Loss/total_loss': 0.3834467,\n",
            " 'learning_rate': 0.07960275}\n",
            "I0710 08:33:50.041147 140419466164032 model_lib_v2.py:708] {'Loss/classification_loss': 0.1221466,\n",
            " 'Loss/localization_loss': 0.11128437,\n",
            " 'Loss/regularization_loss': 0.15001573,\n",
            " 'Loss/total_loss': 0.3834467,\n",
            " 'learning_rate': 0.07960275}\n",
            "INFO:tensorflow:Step 3300 per-step time 0.080s\n",
            "I0710 08:33:58.038587 140419466164032 model_lib_v2.py:705] Step 3300 per-step time 0.080s\n",
            "INFO:tensorflow:{'Loss/classification_loss': 0.11489363,\n",
            " 'Loss/localization_loss': 0.109197065,\n",
            " 'Loss/regularization_loss': 0.14964056,\n",
            " 'Loss/total_loss': 0.37373126,\n",
            " 'learning_rate': 0.07956588}\n",
            "I0710 08:33:58.039021 140419466164032 model_lib_v2.py:708] {'Loss/classification_loss': 0.11489363,\n",
            " 'Loss/localization_loss': 0.109197065,\n",
            " 'Loss/regularization_loss': 0.14964056,\n",
            " 'Loss/total_loss': 0.37373126,\n",
            " 'learning_rate': 0.07956588}\n",
            "INFO:tensorflow:Step 3400 per-step time 0.103s\n",
            "I0710 08:34:08.311028 140419466164032 model_lib_v2.py:705] Step 3400 per-step time 0.103s\n",
            "INFO:tensorflow:{'Loss/classification_loss': 0.09211415,\n",
            " 'Loss/localization_loss': 0.10877039,\n",
            " 'Loss/regularization_loss': 0.14925684,\n",
            " 'Loss/total_loss': 0.3501414,\n",
            " 'learning_rate': 0.079527386}\n",
            "I0710 08:34:08.311331 140419466164032 model_lib_v2.py:708] {'Loss/classification_loss': 0.09211415,\n",
            " 'Loss/localization_loss': 0.10877039,\n",
            " 'Loss/regularization_loss': 0.14925684,\n",
            " 'Loss/total_loss': 0.3501414,\n",
            " 'learning_rate': 0.079527386}\n",
            "INFO:tensorflow:Step 3500 per-step time 0.066s\n",
            "I0710 08:34:14.901016 140419466164032 model_lib_v2.py:705] Step 3500 per-step time 0.066s\n",
            "INFO:tensorflow:{'Loss/classification_loss': 0.27011654,\n",
            " 'Loss/localization_loss': 0.16396478,\n",
            " 'Loss/regularization_loss': 0.14882149,\n",
            " 'Loss/total_loss': 0.5829028,\n",
            " 'learning_rate': 0.07948727}\n",
            "I0710 08:34:14.901393 140419466164032 model_lib_v2.py:708] {'Loss/classification_loss': 0.27011654,\n",
            " 'Loss/localization_loss': 0.16396478,\n",
            " 'Loss/regularization_loss': 0.14882149,\n",
            " 'Loss/total_loss': 0.5829028,\n",
            " 'learning_rate': 0.07948727}\n",
            "INFO:tensorflow:Step 3600 per-step time 0.086s\n",
            "I0710 08:34:23.469687 140419466164032 model_lib_v2.py:705] Step 3600 per-step time 0.086s\n",
            "INFO:tensorflow:{'Loss/classification_loss': 0.13145156,\n",
            " 'Loss/localization_loss': 0.083911814,\n",
            " 'Loss/regularization_loss': 0.14828172,\n",
            " 'Loss/total_loss': 0.3636451,\n",
            " 'learning_rate': 0.079445526}\n",
            "I0710 08:34:23.470058 140419466164032 model_lib_v2.py:708] {'Loss/classification_loss': 0.13145156,\n",
            " 'Loss/localization_loss': 0.083911814,\n",
            " 'Loss/regularization_loss': 0.14828172,\n",
            " 'Loss/total_loss': 0.3636451,\n",
            " 'learning_rate': 0.079445526}\n",
            "INFO:tensorflow:Step 3700 per-step time 0.098s\n",
            "I0710 08:34:33.250733 140419466164032 model_lib_v2.py:705] Step 3700 per-step time 0.098s\n",
            "INFO:tensorflow:{'Loss/classification_loss': 0.13929994,\n",
            " 'Loss/localization_loss': 0.13834347,\n",
            " 'Loss/regularization_loss': 0.14795318,\n",
            " 'Loss/total_loss': 0.4255966,\n",
            " 'learning_rate': 0.07940216}\n",
            "I0710 08:34:33.251091 140419466164032 model_lib_v2.py:708] {'Loss/classification_loss': 0.13929994,\n",
            " 'Loss/localization_loss': 0.13834347,\n",
            " 'Loss/regularization_loss': 0.14795318,\n",
            " 'Loss/total_loss': 0.4255966,\n",
            " 'learning_rate': 0.07940216}\n",
            "INFO:tensorflow:Step 3800 per-step time 0.067s\n",
            "I0710 08:34:39.956965 140419466164032 model_lib_v2.py:705] Step 3800 per-step time 0.067s\n",
            "INFO:tensorflow:{'Loss/classification_loss': 0.15271047,\n",
            " 'Loss/localization_loss': 0.07859485,\n",
            " 'Loss/regularization_loss': 0.1474951,\n",
            " 'Loss/total_loss': 0.37880042,\n",
            " 'learning_rate': 0.079357184}\n",
            "I0710 08:34:39.957265 140419466164032 model_lib_v2.py:708] {'Loss/classification_loss': 0.15271047,\n",
            " 'Loss/localization_loss': 0.07859485,\n",
            " 'Loss/regularization_loss': 0.1474951,\n",
            " 'Loss/total_loss': 0.37880042,\n",
            " 'learning_rate': 0.079357184}\n",
            "INFO:tensorflow:Step 3900 per-step time 0.092s\n",
            "I0710 08:34:49.145667 140419466164032 model_lib_v2.py:705] Step 3900 per-step time 0.092s\n",
            "INFO:tensorflow:{'Loss/classification_loss': 0.22357287,\n",
            " 'Loss/localization_loss': 0.23783046,\n",
            " 'Loss/regularization_loss': 0.14707585,\n",
            " 'Loss/total_loss': 0.60847914,\n",
            " 'learning_rate': 0.07931058}\n",
            "I0710 08:34:49.146058 140419466164032 model_lib_v2.py:708] {'Loss/classification_loss': 0.22357287,\n",
            " 'Loss/localization_loss': 0.23783046,\n",
            " 'Loss/regularization_loss': 0.14707585,\n",
            " 'Loss/total_loss': 0.60847914,\n",
            " 'learning_rate': 0.07931058}\n",
            "INFO:tensorflow:Step 4000 per-step time 0.093s\n",
            "I0710 08:34:58.420975 140419466164032 model_lib_v2.py:705] Step 4000 per-step time 0.093s\n",
            "INFO:tensorflow:{'Loss/classification_loss': 0.08775097,\n",
            " 'Loss/localization_loss': 0.074177355,\n",
            " 'Loss/regularization_loss': 0.1466374,\n",
            " 'Loss/total_loss': 0.30856574,\n",
            " 'learning_rate': 0.07926236}\n",
            "I0710 08:34:58.421278 140419466164032 model_lib_v2.py:708] {'Loss/classification_loss': 0.08775097,\n",
            " 'Loss/localization_loss': 0.074177355,\n",
            " 'Loss/regularization_loss': 0.1466374,\n",
            " 'Loss/total_loss': 0.30856574,\n",
            " 'learning_rate': 0.07926236}\n",
            "INFO:tensorflow:Step 4100 per-step time 0.079s\n",
            "I0710 08:35:06.297738 140419466164032 model_lib_v2.py:705] Step 4100 per-step time 0.079s\n",
            "INFO:tensorflow:{'Loss/classification_loss': 0.11118464,\n",
            " 'Loss/localization_loss': 0.062144533,\n",
            " 'Loss/regularization_loss': 0.14623606,\n",
            " 'Loss/total_loss': 0.31956524,\n",
            " 'learning_rate': 0.07921253}\n",
            "I0710 08:35:06.298036 140419466164032 model_lib_v2.py:708] {'Loss/classification_loss': 0.11118464,\n",
            " 'Loss/localization_loss': 0.062144533,\n",
            " 'Loss/regularization_loss': 0.14623606,\n",
            " 'Loss/total_loss': 0.31956524,\n",
            " 'learning_rate': 0.07921253}\n",
            "INFO:tensorflow:Step 4200 per-step time 0.099s\n",
            "I0710 08:35:16.245318 140419466164032 model_lib_v2.py:705] Step 4200 per-step time 0.099s\n",
            "INFO:tensorflow:{'Loss/classification_loss': 0.1424311,\n",
            " 'Loss/localization_loss': 0.21968386,\n",
            " 'Loss/regularization_loss': 0.14585054,\n",
            " 'Loss/total_loss': 0.5079655,\n",
            " 'learning_rate': 0.07916109}\n",
            "I0710 08:35:16.245733 140419466164032 model_lib_v2.py:708] {'Loss/classification_loss': 0.1424311,\n",
            " 'Loss/localization_loss': 0.21968386,\n",
            " 'Loss/regularization_loss': 0.14585054,\n",
            " 'Loss/total_loss': 0.5079655,\n",
            " 'learning_rate': 0.07916109}\n",
            "INFO:tensorflow:Step 4300 per-step time 0.081s\n",
            "I0710 08:35:24.365948 140419466164032 model_lib_v2.py:705] Step 4300 per-step time 0.081s\n",
            "INFO:tensorflow:{'Loss/classification_loss': 0.11935171,\n",
            " 'Loss/localization_loss': 0.079451144,\n",
            " 'Loss/regularization_loss': 0.14554955,\n",
            " 'Loss/total_loss': 0.34435242,\n",
            " 'learning_rate': 0.07910804}\n",
            "I0710 08:35:24.366268 140419466164032 model_lib_v2.py:708] {'Loss/classification_loss': 0.11935171,\n",
            " 'Loss/localization_loss': 0.079451144,\n",
            " 'Loss/regularization_loss': 0.14554955,\n",
            " 'Loss/total_loss': 0.34435242,\n",
            " 'learning_rate': 0.07910804}\n",
            "INFO:tensorflow:Step 4400 per-step time 0.067s\n",
            "I0710 08:35:31.073591 140419466164032 model_lib_v2.py:705] Step 4400 per-step time 0.067s\n",
            "INFO:tensorflow:{'Loss/classification_loss': 0.10924784,\n",
            " 'Loss/localization_loss': 0.10378976,\n",
            " 'Loss/regularization_loss': 0.14507425,\n",
            " 'Loss/total_loss': 0.35811186,\n",
            " 'learning_rate': 0.07905338}\n",
            "I0710 08:35:31.073980 140419466164032 model_lib_v2.py:708] {'Loss/classification_loss': 0.10924784,\n",
            " 'Loss/localization_loss': 0.10378976,\n",
            " 'Loss/regularization_loss': 0.14507425,\n",
            " 'Loss/total_loss': 0.35811186,\n",
            " 'learning_rate': 0.07905338}\n",
            "INFO:tensorflow:Step 4500 per-step time 0.102s\n",
            "I0710 08:35:41.253559 140419466164032 model_lib_v2.py:705] Step 4500 per-step time 0.102s\n",
            "INFO:tensorflow:{'Loss/classification_loss': 0.12479498,\n",
            " 'Loss/localization_loss': 0.09270067,\n",
            " 'Loss/regularization_loss': 0.14457394,\n",
            " 'Loss/total_loss': 0.3620696,\n",
            " 'learning_rate': 0.07899711}\n",
            "I0710 08:35:41.253885 140419466164032 model_lib_v2.py:708] {'Loss/classification_loss': 0.12479498,\n",
            " 'Loss/localization_loss': 0.09270067,\n",
            " 'Loss/regularization_loss': 0.14457394,\n",
            " 'Loss/total_loss': 0.3620696,\n",
            " 'learning_rate': 0.07899711}\n",
            "INFO:tensorflow:Step 4600 per-step time 0.080s\n",
            "I0710 08:35:49.221556 140419466164032 model_lib_v2.py:705] Step 4600 per-step time 0.080s\n",
            "INFO:tensorflow:{'Loss/classification_loss': 0.18845788,\n",
            " 'Loss/localization_loss': 0.10381605,\n",
            " 'Loss/regularization_loss': 0.14419173,\n",
            " 'Loss/total_loss': 0.43646568,\n",
            " 'learning_rate': 0.078939244}\n",
            "I0710 08:35:49.221846 140419466164032 model_lib_v2.py:708] {'Loss/classification_loss': 0.18845788,\n",
            " 'Loss/localization_loss': 0.10381605,\n",
            " 'Loss/regularization_loss': 0.14419173,\n",
            " 'Loss/total_loss': 0.43646568,\n",
            " 'learning_rate': 0.078939244}\n",
            "INFO:tensorflow:Step 4700 per-step time 0.070s\n",
            "I0710 08:35:56.233673 140419466164032 model_lib_v2.py:705] Step 4700 per-step time 0.070s\n",
            "INFO:tensorflow:{'Loss/classification_loss': 0.09800114,\n",
            " 'Loss/localization_loss': 0.051599033,\n",
            " 'Loss/regularization_loss': 0.14378177,\n",
            " 'Loss/total_loss': 0.29338193,\n",
            " 'learning_rate': 0.07887978}\n",
            "I0710 08:35:56.234054 140419466164032 model_lib_v2.py:708] {'Loss/classification_loss': 0.09800114,\n",
            " 'Loss/localization_loss': 0.051599033,\n",
            " 'Loss/regularization_loss': 0.14378177,\n",
            " 'Loss/total_loss': 0.29338193,\n",
            " 'learning_rate': 0.07887978}\n",
            "INFO:tensorflow:Step 4800 per-step time 0.101s\n",
            "I0710 08:36:06.329636 140419466164032 model_lib_v2.py:705] Step 4800 per-step time 0.101s\n",
            "INFO:tensorflow:{'Loss/classification_loss': 0.099350065,\n",
            " 'Loss/localization_loss': 0.08377221,\n",
            " 'Loss/regularization_loss': 0.14325133,\n",
            " 'Loss/total_loss': 0.3263736,\n",
            " 'learning_rate': 0.07881871}\n",
            "I0710 08:36:06.330149 140419466164032 model_lib_v2.py:708] {'Loss/classification_loss': 0.099350065,\n",
            " 'Loss/localization_loss': 0.08377221,\n",
            " 'Loss/regularization_loss': 0.14325133,\n",
            " 'Loss/total_loss': 0.3263736,\n",
            " 'learning_rate': 0.07881871}\n",
            "INFO:tensorflow:Step 4900 per-step time 0.075s\n",
            "I0710 08:36:13.799923 140419466164032 model_lib_v2.py:705] Step 4900 per-step time 0.075s\n",
            "INFO:tensorflow:{'Loss/classification_loss': 0.07085674,\n",
            " 'Loss/localization_loss': 0.06387267,\n",
            " 'Loss/regularization_loss': 0.14277704,\n",
            " 'Loss/total_loss': 0.27750647,\n",
            " 'learning_rate': 0.07875605}\n",
            "I0710 08:36:13.800231 140419466164032 model_lib_v2.py:708] {'Loss/classification_loss': 0.07085674,\n",
            " 'Loss/localization_loss': 0.06387267,\n",
            " 'Loss/regularization_loss': 0.14277704,\n",
            " 'Loss/total_loss': 0.27750647,\n",
            " 'learning_rate': 0.07875605}\n",
            "INFO:tensorflow:Step 5000 per-step time 0.074s\n",
            "I0710 08:36:21.208589 140419466164032 model_lib_v2.py:705] Step 5000 per-step time 0.074s\n",
            "INFO:tensorflow:{'Loss/classification_loss': 0.12535897,\n",
            " 'Loss/localization_loss': 0.15116435,\n",
            " 'Loss/regularization_loss': 0.14232735,\n",
            " 'Loss/total_loss': 0.41885066,\n",
            " 'learning_rate': 0.078691795}\n",
            "I0710 08:36:21.208993 140419466164032 model_lib_v2.py:708] {'Loss/classification_loss': 0.12535897,\n",
            " 'Loss/localization_loss': 0.15116435,\n",
            " 'Loss/regularization_loss': 0.14232735,\n",
            " 'Loss/total_loss': 0.41885066,\n",
            " 'learning_rate': 0.078691795}\n",
            "INFO:tensorflow:Step 5100 per-step time 0.119s\n",
            "I0710 08:36:33.116485 140419466164032 model_lib_v2.py:705] Step 5100 per-step time 0.119s\n",
            "INFO:tensorflow:{'Loss/classification_loss': 0.1264658,\n",
            " 'Loss/localization_loss': 0.12240063,\n",
            " 'Loss/regularization_loss': 0.14187601,\n",
            " 'Loss/total_loss': 0.39074242,\n",
            " 'learning_rate': 0.07862595}\n",
            "I0710 08:36:33.116894 140419466164032 model_lib_v2.py:708] {'Loss/classification_loss': 0.1264658,\n",
            " 'Loss/localization_loss': 0.12240063,\n",
            " 'Loss/regularization_loss': 0.14187601,\n",
            " 'Loss/total_loss': 0.39074242,\n",
            " 'learning_rate': 0.07862595}\n",
            "INFO:tensorflow:Step 5200 per-step time 0.067s\n",
            "I0710 08:36:39.827420 140419466164032 model_lib_v2.py:705] Step 5200 per-step time 0.067s\n",
            "INFO:tensorflow:{'Loss/classification_loss': 0.1679243,\n",
            " 'Loss/localization_loss': 0.1936459,\n",
            " 'Loss/regularization_loss': 0.14157955,\n",
            " 'Loss/total_loss': 0.50314975,\n",
            " 'learning_rate': 0.07855851}\n",
            "I0710 08:36:39.827718 140419466164032 model_lib_v2.py:708] {'Loss/classification_loss': 0.1679243,\n",
            " 'Loss/localization_loss': 0.1936459,\n",
            " 'Loss/regularization_loss': 0.14157955,\n",
            " 'Loss/total_loss': 0.50314975,\n",
            " 'learning_rate': 0.07855851}\n",
            "INFO:tensorflow:Step 5300 per-step time 0.084s\n",
            "I0710 08:36:48.260823 140419466164032 model_lib_v2.py:705] Step 5300 per-step time 0.084s\n",
            "INFO:tensorflow:{'Loss/classification_loss': 0.11426328,\n",
            " 'Loss/localization_loss': 0.06780277,\n",
            " 'Loss/regularization_loss': 0.14131969,\n",
            " 'Loss/total_loss': 0.32338575,\n",
            " 'learning_rate': 0.07848949}\n",
            "I0710 08:36:48.261202 140419466164032 model_lib_v2.py:708] {'Loss/classification_loss': 0.11426328,\n",
            " 'Loss/localization_loss': 0.06780277,\n",
            " 'Loss/regularization_loss': 0.14131969,\n",
            " 'Loss/total_loss': 0.32338575,\n",
            " 'learning_rate': 0.07848949}\n",
            "INFO:tensorflow:Step 5400 per-step time 0.097s\n",
            "I0710 08:36:57.961374 140419466164032 model_lib_v2.py:705] Step 5400 per-step time 0.097s\n",
            "INFO:tensorflow:{'Loss/classification_loss': 0.08504907,\n",
            " 'Loss/localization_loss': 0.043845132,\n",
            " 'Loss/regularization_loss': 0.14097936,\n",
            " 'Loss/total_loss': 0.26987356,\n",
            " 'learning_rate': 0.078418896}\n",
            "I0710 08:36:57.961695 140419466164032 model_lib_v2.py:708] {'Loss/classification_loss': 0.08504907,\n",
            " 'Loss/localization_loss': 0.043845132,\n",
            " 'Loss/regularization_loss': 0.14097936,\n",
            " 'Loss/total_loss': 0.26987356,\n",
            " 'learning_rate': 0.078418896}\n",
            "INFO:tensorflow:Step 5500 per-step time 0.064s\n",
            "I0710 08:37:04.307118 140419466164032 model_lib_v2.py:705] Step 5500 per-step time 0.064s\n",
            "INFO:tensorflow:{'Loss/classification_loss': 0.18731736,\n",
            " 'Loss/localization_loss': 0.098632745,\n",
            " 'Loss/regularization_loss': 0.1405837,\n",
            " 'Loss/total_loss': 0.4265338,\n",
            " 'learning_rate': 0.078346714}\n",
            "I0710 08:37:04.307419 140419466164032 model_lib_v2.py:708] {'Loss/classification_loss': 0.18731736,\n",
            " 'Loss/localization_loss': 0.098632745,\n",
            " 'Loss/regularization_loss': 0.1405837,\n",
            " 'Loss/total_loss': 0.4265338,\n",
            " 'learning_rate': 0.078346714}\n",
            "INFO:tensorflow:Step 5600 per-step time 0.086s\n",
            "I0710 08:37:12.937872 140419466164032 model_lib_v2.py:705] Step 5600 per-step time 0.086s\n",
            "INFO:tensorflow:{'Loss/classification_loss': 0.104966044,\n",
            " 'Loss/localization_loss': 0.09696787,\n",
            " 'Loss/regularization_loss': 0.14006898,\n",
            " 'Loss/total_loss': 0.3420029,\n",
            " 'learning_rate': 0.07827295}\n",
            "I0710 08:37:12.938251 140419466164032 model_lib_v2.py:708] {'Loss/classification_loss': 0.104966044,\n",
            " 'Loss/localization_loss': 0.09696787,\n",
            " 'Loss/regularization_loss': 0.14006898,\n",
            " 'Loss/total_loss': 0.3420029,\n",
            " 'learning_rate': 0.07827295}\n",
            "INFO:tensorflow:Step 5700 per-step time 0.096s\n",
            "I0710 08:37:22.572247 140419466164032 model_lib_v2.py:705] Step 5700 per-step time 0.096s\n",
            "INFO:tensorflow:{'Loss/classification_loss': 0.111802734,\n",
            " 'Loss/localization_loss': 0.09073985,\n",
            " 'Loss/regularization_loss': 0.13961644,\n",
            " 'Loss/total_loss': 0.34215903,\n",
            " 'learning_rate': 0.07819763}\n",
            "I0710 08:37:22.572635 140419466164032 model_lib_v2.py:708] {'Loss/classification_loss': 0.111802734,\n",
            " 'Loss/localization_loss': 0.09073985,\n",
            " 'Loss/regularization_loss': 0.13961644,\n",
            " 'Loss/total_loss': 0.34215903,\n",
            " 'learning_rate': 0.07819763}\n",
            "INFO:tensorflow:Step 5800 per-step time 0.065s\n",
            "I0710 08:37:29.109881 140419466164032 model_lib_v2.py:705] Step 5800 per-step time 0.065s\n",
            "INFO:tensorflow:{'Loss/classification_loss': 0.19939442,\n",
            " 'Loss/localization_loss': 0.1713574,\n",
            " 'Loss/regularization_loss': 0.13934182,\n",
            " 'Loss/total_loss': 0.5100936,\n",
            " 'learning_rate': 0.07812072}\n",
            "I0710 08:37:29.110189 140419466164032 model_lib_v2.py:708] {'Loss/classification_loss': 0.19939442,\n",
            " 'Loss/localization_loss': 0.1713574,\n",
            " 'Loss/regularization_loss': 0.13934182,\n",
            " 'Loss/total_loss': 0.5100936,\n",
            " 'learning_rate': 0.07812072}\n",
            "INFO:tensorflow:Step 5900 per-step time 0.089s\n",
            "I0710 08:37:37.983674 140419466164032 model_lib_v2.py:705] Step 5900 per-step time 0.089s\n",
            "INFO:tensorflow:{'Loss/classification_loss': 0.19502662,\n",
            " 'Loss/localization_loss': 0.07023374,\n",
            " 'Loss/regularization_loss': 0.1390139,\n",
            " 'Loss/total_loss': 0.40427428,\n",
            " 'learning_rate': 0.078042254}\n",
            "I0710 08:37:37.984090 140419466164032 model_lib_v2.py:708] {'Loss/classification_loss': 0.19502662,\n",
            " 'Loss/localization_loss': 0.07023374,\n",
            " 'Loss/regularization_loss': 0.1390139,\n",
            " 'Loss/total_loss': 0.40427428,\n",
            " 'learning_rate': 0.078042254}\n",
            "INFO:tensorflow:Step 6000 per-step time 0.094s\n",
            "I0710 08:37:47.422324 140419466164032 model_lib_v2.py:705] Step 6000 per-step time 0.094s\n",
            "INFO:tensorflow:{'Loss/classification_loss': 0.13572386,\n",
            " 'Loss/localization_loss': 0.12633914,\n",
            " 'Loss/regularization_loss': 0.13862914,\n",
            " 'Loss/total_loss': 0.40069214,\n",
            " 'learning_rate': 0.07796223}\n",
            "I0710 08:37:47.422706 140419466164032 model_lib_v2.py:708] {'Loss/classification_loss': 0.13572386,\n",
            " 'Loss/localization_loss': 0.12633914,\n",
            " 'Loss/regularization_loss': 0.13862914,\n",
            " 'Loss/total_loss': 0.40069214,\n",
            " 'learning_rate': 0.07796223}\n",
            "INFO:tensorflow:Step 6100 per-step time 0.078s\n",
            "I0710 08:37:55.219604 140419466164032 model_lib_v2.py:705] Step 6100 per-step time 0.078s\n",
            "INFO:tensorflow:{'Loss/classification_loss': 0.11883155,\n",
            " 'Loss/localization_loss': 0.065993056,\n",
            " 'Loss/regularization_loss': 0.13822071,\n",
            " 'Loss/total_loss': 0.3230453,\n",
            " 'learning_rate': 0.077880636}\n",
            "I0710 08:37:55.219916 140419466164032 model_lib_v2.py:708] {'Loss/classification_loss': 0.11883155,\n",
            " 'Loss/localization_loss': 0.065993056,\n",
            " 'Loss/regularization_loss': 0.13822071,\n",
            " 'Loss/total_loss': 0.3230453,\n",
            " 'learning_rate': 0.077880636}\n",
            "INFO:tensorflow:Step 6200 per-step time 0.100s\n",
            "I0710 08:38:05.246679 140419466164032 model_lib_v2.py:705] Step 6200 per-step time 0.100s\n",
            "INFO:tensorflow:{'Loss/classification_loss': 0.087226965,\n",
            " 'Loss/localization_loss': 0.15718195,\n",
            " 'Loss/regularization_loss': 0.13779898,\n",
            " 'Loss/total_loss': 0.38220787,\n",
            " 'learning_rate': 0.07779749}\n",
            "I0710 08:38:05.247076 140419466164032 model_lib_v2.py:708] {'Loss/classification_loss': 0.087226965,\n",
            " 'Loss/localization_loss': 0.15718195,\n",
            " 'Loss/regularization_loss': 0.13779898,\n",
            " 'Loss/total_loss': 0.38220787,\n",
            " 'learning_rate': 0.07779749}\n",
            "INFO:tensorflow:Step 6300 per-step time 0.082s\n",
            "I0710 08:38:13.479040 140419466164032 model_lib_v2.py:705] Step 6300 per-step time 0.082s\n",
            "INFO:tensorflow:{'Loss/classification_loss': 0.08607377,\n",
            " 'Loss/localization_loss': 0.06706712,\n",
            " 'Loss/regularization_loss': 0.13725059,\n",
            " 'Loss/total_loss': 0.29039147,\n",
            " 'learning_rate': 0.07771279}\n",
            "I0710 08:38:13.479344 140419466164032 model_lib_v2.py:708] {'Loss/classification_loss': 0.08607377,\n",
            " 'Loss/localization_loss': 0.06706712,\n",
            " 'Loss/regularization_loss': 0.13725059,\n",
            " 'Loss/total_loss': 0.29039147,\n",
            " 'learning_rate': 0.07771279}\n",
            "INFO:tensorflow:Step 6400 per-step time 0.067s\n",
            "I0710 08:38:20.143012 140419466164032 model_lib_v2.py:705] Step 6400 per-step time 0.067s\n",
            "INFO:tensorflow:{'Loss/classification_loss': 0.15839195,\n",
            " 'Loss/localization_loss': 0.09407835,\n",
            " 'Loss/regularization_loss': 0.13674933,\n",
            " 'Loss/total_loss': 0.38921964,\n",
            " 'learning_rate': 0.077626534}\n",
            "I0710 08:38:20.143361 140419466164032 model_lib_v2.py:708] {'Loss/classification_loss': 0.15839195,\n",
            " 'Loss/localization_loss': 0.09407835,\n",
            " 'Loss/regularization_loss': 0.13674933,\n",
            " 'Loss/total_loss': 0.38921964,\n",
            " 'learning_rate': 0.077626534}\n",
            "INFO:tensorflow:Step 6500 per-step time 0.103s\n",
            "I0710 08:38:30.408804 140419466164032 model_lib_v2.py:705] Step 6500 per-step time 0.103s\n",
            "INFO:tensorflow:{'Loss/classification_loss': 0.100832835,\n",
            " 'Loss/localization_loss': 0.048751064,\n",
            " 'Loss/regularization_loss': 0.13625787,\n",
            " 'Loss/total_loss': 0.28584176,\n",
            " 'learning_rate': 0.077538736}\n",
            "I0710 08:38:30.409240 140419466164032 model_lib_v2.py:708] {'Loss/classification_loss': 0.100832835,\n",
            " 'Loss/localization_loss': 0.048751064,\n",
            " 'Loss/regularization_loss': 0.13625787,\n",
            " 'Loss/total_loss': 0.28584176,\n",
            " 'learning_rate': 0.077538736}\n",
            "INFO:tensorflow:Step 6600 per-step time 0.080s\n",
            "I0710 08:38:38.426576 140419466164032 model_lib_v2.py:705] Step 6600 per-step time 0.080s\n",
            "INFO:tensorflow:{'Loss/classification_loss': 0.10169372,\n",
            " 'Loss/localization_loss': 0.029638648,\n",
            " 'Loss/regularization_loss': 0.13579178,\n",
            " 'Loss/total_loss': 0.26712415,\n",
            " 'learning_rate': 0.077449396}\n",
            "I0710 08:38:38.426926 140419466164032 model_lib_v2.py:708] {'Loss/classification_loss': 0.10169372,\n",
            " 'Loss/localization_loss': 0.029638648,\n",
            " 'Loss/regularization_loss': 0.13579178,\n",
            " 'Loss/total_loss': 0.26712415,\n",
            " 'learning_rate': 0.077449396}\n",
            "INFO:tensorflow:Step 6700 per-step time 0.068s\n",
            "I0710 08:38:45.250571 140419466164032 model_lib_v2.py:705] Step 6700 per-step time 0.068s\n",
            "INFO:tensorflow:{'Loss/classification_loss': 0.10442676,\n",
            " 'Loss/localization_loss': 0.03912071,\n",
            " 'Loss/regularization_loss': 0.1354395,\n",
            " 'Loss/total_loss': 0.278987,\n",
            " 'learning_rate': 0.077358514}\n",
            "I0710 08:38:45.250927 140419466164032 model_lib_v2.py:708] {'Loss/classification_loss': 0.10442676,\n",
            " 'Loss/localization_loss': 0.03912071,\n",
            " 'Loss/regularization_loss': 0.1354395,\n",
            " 'Loss/total_loss': 0.278987,\n",
            " 'learning_rate': 0.077358514}\n",
            "INFO:tensorflow:Step 6800 per-step time 0.104s\n",
            "I0710 08:38:55.618726 140419466164032 model_lib_v2.py:705] Step 6800 per-step time 0.104s\n",
            "INFO:tensorflow:{'Loss/classification_loss': 0.23223631,\n",
            " 'Loss/localization_loss': 0.04419212,\n",
            " 'Loss/regularization_loss': 0.13494125,\n",
            " 'Loss/total_loss': 0.41136968,\n",
            " 'learning_rate': 0.0772661}\n",
            "I0710 08:38:55.619079 140419466164032 model_lib_v2.py:708] {'Loss/classification_loss': 0.23223631,\n",
            " 'Loss/localization_loss': 0.04419212,\n",
            " 'Loss/regularization_loss': 0.13494125,\n",
            " 'Loss/total_loss': 0.41136968,\n",
            " 'learning_rate': 0.0772661}\n",
            "INFO:tensorflow:Step 6900 per-step time 0.076s\n",
            "I0710 08:39:03.187144 140419466164032 model_lib_v2.py:705] Step 6900 per-step time 0.076s\n",
            "INFO:tensorflow:{'Loss/classification_loss': 0.082660146,\n",
            " 'Loss/localization_loss': 0.023367528,\n",
            " 'Loss/regularization_loss': 0.13444908,\n",
            " 'Loss/total_loss': 0.24047676,\n",
            " 'learning_rate': 0.077172145}\n",
            "I0710 08:39:03.187453 140419466164032 model_lib_v2.py:708] {'Loss/classification_loss': 0.082660146,\n",
            " 'Loss/localization_loss': 0.023367528,\n",
            " 'Loss/regularization_loss': 0.13444908,\n",
            " 'Loss/total_loss': 0.24047676,\n",
            " 'learning_rate': 0.077172145}\n",
            "INFO:tensorflow:Step 7000 per-step time 0.071s\n",
            "I0710 08:39:10.324599 140419466164032 model_lib_v2.py:705] Step 7000 per-step time 0.071s\n",
            "INFO:tensorflow:{'Loss/classification_loss': 0.1267138,\n",
            " 'Loss/localization_loss': 0.105706856,\n",
            " 'Loss/regularization_loss': 0.13397908,\n",
            " 'Loss/total_loss': 0.36639974,\n",
            " 'learning_rate': 0.07707667}\n",
            "I0710 08:39:10.324956 140419466164032 model_lib_v2.py:708] {'Loss/classification_loss': 0.1267138,\n",
            " 'Loss/localization_loss': 0.105706856,\n",
            " 'Loss/regularization_loss': 0.13397908,\n",
            " 'Loss/total_loss': 0.36639974,\n",
            " 'learning_rate': 0.07707667}\n",
            "INFO:tensorflow:Step 7100 per-step time 0.118s\n",
            "I0710 08:39:22.141611 140419466164032 model_lib_v2.py:705] Step 7100 per-step time 0.118s\n",
            "INFO:tensorflow:{'Loss/classification_loss': 0.13162495,\n",
            " 'Loss/localization_loss': 0.078532554,\n",
            " 'Loss/regularization_loss': 0.13349585,\n",
            " 'Loss/total_loss': 0.34365338,\n",
            " 'learning_rate': 0.07697967}\n",
            "I0710 08:39:22.142008 140419466164032 model_lib_v2.py:708] {'Loss/classification_loss': 0.13162495,\n",
            " 'Loss/localization_loss': 0.078532554,\n",
            " 'Loss/regularization_loss': 0.13349585,\n",
            " 'Loss/total_loss': 0.34365338,\n",
            " 'learning_rate': 0.07697967}\n",
            "INFO:tensorflow:Step 7200 per-step time 0.066s\n",
            "I0710 08:39:28.746636 140419466164032 model_lib_v2.py:705] Step 7200 per-step time 0.066s\n",
            "INFO:tensorflow:{'Loss/classification_loss': 0.58117163,\n",
            " 'Loss/localization_loss': 0.30609474,\n",
            " 'Loss/regularization_loss': 0.13300827,\n",
            " 'Loss/total_loss': 1.0202746,\n",
            " 'learning_rate': 0.07688115}\n",
            "I0710 08:39:28.746954 140419466164032 model_lib_v2.py:708] {'Loss/classification_loss': 0.58117163,\n",
            " 'Loss/localization_loss': 0.30609474,\n",
            " 'Loss/regularization_loss': 0.13300827,\n",
            " 'Loss/total_loss': 1.0202746,\n",
            " 'learning_rate': 0.07688115}\n",
            "INFO:tensorflow:Step 7300 per-step time 0.083s\n",
            "I0710 08:39:37.084067 140419466164032 model_lib_v2.py:705] Step 7300 per-step time 0.083s\n",
            "INFO:tensorflow:{'Loss/classification_loss': 0.19132379,\n",
            " 'Loss/localization_loss': 0.14268427,\n",
            " 'Loss/regularization_loss': 0.13298959,\n",
            " 'Loss/total_loss': 0.46699762,\n",
            " 'learning_rate': 0.07678111}\n",
            "I0710 08:39:37.084469 140419466164032 model_lib_v2.py:708] {'Loss/classification_loss': 0.19132379,\n",
            " 'Loss/localization_loss': 0.14268427,\n",
            " 'Loss/regularization_loss': 0.13298959,\n",
            " 'Loss/total_loss': 0.46699762,\n",
            " 'learning_rate': 0.07678111}\n",
            "INFO:tensorflow:Step 7400 per-step time 0.098s\n",
            "I0710 08:39:46.855692 140419466164032 model_lib_v2.py:705] Step 7400 per-step time 0.098s\n",
            "INFO:tensorflow:{'Loss/classification_loss': 0.13609113,\n",
            " 'Loss/localization_loss': 0.08352651,\n",
            " 'Loss/regularization_loss': 0.13287877,\n",
            " 'Loss/total_loss': 0.3524964,\n",
            " 'learning_rate': 0.076679565}\n",
            "I0710 08:39:46.855993 140419466164032 model_lib_v2.py:708] {'Loss/classification_loss': 0.13609113,\n",
            " 'Loss/localization_loss': 0.08352651,\n",
            " 'Loss/regularization_loss': 0.13287877,\n",
            " 'Loss/total_loss': 0.3524964,\n",
            " 'learning_rate': 0.076679565}\n",
            "INFO:tensorflow:Step 7500 per-step time 0.065s\n",
            "I0710 08:39:53.344347 140419466164032 model_lib_v2.py:705] Step 7500 per-step time 0.065s\n",
            "INFO:tensorflow:{'Loss/classification_loss': 0.12618016,\n",
            " 'Loss/localization_loss': 0.06151882,\n",
            " 'Loss/regularization_loss': 0.13246365,\n",
            " 'Loss/total_loss': 0.32016262,\n",
            " 'learning_rate': 0.0765765}\n",
            "I0710 08:39:53.344681 140419466164032 model_lib_v2.py:708] {'Loss/classification_loss': 0.12618016,\n",
            " 'Loss/localization_loss': 0.06151882,\n",
            " 'Loss/regularization_loss': 0.13246365,\n",
            " 'Loss/total_loss': 0.32016262,\n",
            " 'learning_rate': 0.0765765}\n",
            "INFO:tensorflow:Step 7600 per-step time 0.086s\n",
            "I0710 08:40:01.904477 140419466164032 model_lib_v2.py:705] Step 7600 per-step time 0.086s\n",
            "INFO:tensorflow:{'Loss/classification_loss': 0.13560772,\n",
            " 'Loss/localization_loss': 0.105169155,\n",
            " 'Loss/regularization_loss': 0.1320677,\n",
            " 'Loss/total_loss': 0.37284458,\n",
            " 'learning_rate': 0.07647194}\n",
            "I0710 08:40:01.904898 140419466164032 model_lib_v2.py:708] {'Loss/classification_loss': 0.13560772,\n",
            " 'Loss/localization_loss': 0.105169155,\n",
            " 'Loss/regularization_loss': 0.1320677,\n",
            " 'Loss/total_loss': 0.37284458,\n",
            " 'learning_rate': 0.07647194}\n",
            "INFO:tensorflow:Step 7700 per-step time 0.097s\n",
            "I0710 08:40:11.592024 140419466164032 model_lib_v2.py:705] Step 7700 per-step time 0.097s\n",
            "INFO:tensorflow:{'Loss/classification_loss': 0.15530464,\n",
            " 'Loss/localization_loss': 0.048459608,\n",
            " 'Loss/regularization_loss': 0.13163547,\n",
            " 'Loss/total_loss': 0.33539972,\n",
            " 'learning_rate': 0.07636588}\n",
            "I0710 08:40:11.592316 140419466164032 model_lib_v2.py:708] {'Loss/classification_loss': 0.15530464,\n",
            " 'Loss/localization_loss': 0.048459608,\n",
            " 'Loss/regularization_loss': 0.13163547,\n",
            " 'Loss/total_loss': 0.33539972,\n",
            " 'learning_rate': 0.07636588}\n",
            "INFO:tensorflow:Step 7800 per-step time 0.066s\n",
            "I0710 08:40:18.160455 140419466164032 model_lib_v2.py:705] Step 7800 per-step time 0.066s\n",
            "INFO:tensorflow:{'Loss/classification_loss': 0.10061774,\n",
            " 'Loss/localization_loss': 0.14968525,\n",
            " 'Loss/regularization_loss': 0.13153501,\n",
            " 'Loss/total_loss': 0.38183796,\n",
            " 'learning_rate': 0.07625833}\n",
            "I0710 08:40:18.160778 140419466164032 model_lib_v2.py:708] {'Loss/classification_loss': 0.10061774,\n",
            " 'Loss/localization_loss': 0.14968525,\n",
            " 'Loss/regularization_loss': 0.13153501,\n",
            " 'Loss/total_loss': 0.38183796,\n",
            " 'learning_rate': 0.07625833}\n",
            "INFO:tensorflow:Step 7900 per-step time 0.087s\n",
            "I0710 08:40:26.857983 140419466164032 model_lib_v2.py:705] Step 7900 per-step time 0.087s\n",
            "INFO:tensorflow:{'Loss/classification_loss': 0.07398009,\n",
            " 'Loss/localization_loss': 0.04180037,\n",
            " 'Loss/regularization_loss': 0.13124636,\n",
            " 'Loss/total_loss': 0.24702682,\n",
            " 'learning_rate': 0.07614928}\n",
            "I0710 08:40:26.858429 140419466164032 model_lib_v2.py:708] {'Loss/classification_loss': 0.07398009,\n",
            " 'Loss/localization_loss': 0.04180037,\n",
            " 'Loss/regularization_loss': 0.13124636,\n",
            " 'Loss/total_loss': 0.24702682,\n",
            " 'learning_rate': 0.07614928}\n",
            "INFO:tensorflow:Step 8000 per-step time 0.095s\n",
            "I0710 08:40:36.315595 140419466164032 model_lib_v2.py:705] Step 8000 per-step time 0.095s\n",
            "INFO:tensorflow:{'Loss/classification_loss': 0.08844819,\n",
            " 'Loss/localization_loss': 0.056106083,\n",
            " 'Loss/regularization_loss': 0.13080041,\n",
            " 'Loss/total_loss': 0.27535468,\n",
            " 'learning_rate': 0.07603875}\n",
            "I0710 08:40:36.315902 140419466164032 model_lib_v2.py:708] {'Loss/classification_loss': 0.08844819,\n",
            " 'Loss/localization_loss': 0.056106083,\n",
            " 'Loss/regularization_loss': 0.13080041,\n",
            " 'Loss/total_loss': 0.27535468,\n",
            " 'learning_rate': 0.07603875}\n",
            "INFO:tensorflow:Step 8100 per-step time 0.077s\n",
            "I0710 08:40:43.982975 140419466164032 model_lib_v2.py:705] Step 8100 per-step time 0.077s\n",
            "INFO:tensorflow:{'Loss/classification_loss': 0.09713177,\n",
            " 'Loss/localization_loss': 0.09553707,\n",
            " 'Loss/regularization_loss': 0.13039464,\n",
            " 'Loss/total_loss': 0.32306346,\n",
            " 'learning_rate': 0.07592674}\n",
            "I0710 08:40:43.983270 140419466164032 model_lib_v2.py:708] {'Loss/classification_loss': 0.09713177,\n",
            " 'Loss/localization_loss': 0.09553707,\n",
            " 'Loss/regularization_loss': 0.13039464,\n",
            " 'Loss/total_loss': 0.32306346,\n",
            " 'learning_rate': 0.07592674}\n",
            "INFO:tensorflow:Step 8200 per-step time 0.096s\n",
            "I0710 08:40:53.574546 140419466164032 model_lib_v2.py:705] Step 8200 per-step time 0.096s\n",
            "INFO:tensorflow:{'Loss/classification_loss': 0.10309614,\n",
            " 'Loss/localization_loss': 0.07856841,\n",
            " 'Loss/regularization_loss': 0.12996967,\n",
            " 'Loss/total_loss': 0.31163424,\n",
            " 'learning_rate': 0.075813256}\n",
            "I0710 08:40:53.574932 140419466164032 model_lib_v2.py:708] {'Loss/classification_loss': 0.10309614,\n",
            " 'Loss/localization_loss': 0.07856841,\n",
            " 'Loss/regularization_loss': 0.12996967,\n",
            " 'Loss/total_loss': 0.31163424,\n",
            " 'learning_rate': 0.075813256}\n",
            "INFO:tensorflow:Step 8300 per-step time 0.086s\n",
            "I0710 08:41:02.149873 140419466164032 model_lib_v2.py:705] Step 8300 per-step time 0.086s\n",
            "INFO:tensorflow:{'Loss/classification_loss': 0.094851494,\n",
            " 'Loss/localization_loss': 0.057228044,\n",
            " 'Loss/regularization_loss': 0.1295148,\n",
            " 'Loss/total_loss': 0.28159434,\n",
            " 'learning_rate': 0.07569829}\n",
            "I0710 08:41:02.150171 140419466164032 model_lib_v2.py:708] {'Loss/classification_loss': 0.094851494,\n",
            " 'Loss/localization_loss': 0.057228044,\n",
            " 'Loss/regularization_loss': 0.1295148,\n",
            " 'Loss/total_loss': 0.28159434,\n",
            " 'learning_rate': 0.07569829}\n",
            "INFO:tensorflow:Step 8400 per-step time 0.065s\n",
            "I0710 08:41:08.634727 140419466164032 model_lib_v2.py:705] Step 8400 per-step time 0.065s\n",
            "INFO:tensorflow:{'Loss/classification_loss': 0.073290296,\n",
            " 'Loss/localization_loss': 0.08258982,\n",
            " 'Loss/regularization_loss': 0.12915918,\n",
            " 'Loss/total_loss': 0.2850393,\n",
            " 'learning_rate': 0.07558186}\n",
            "I0710 08:41:08.635025 140419466164032 model_lib_v2.py:708] {'Loss/classification_loss': 0.073290296,\n",
            " 'Loss/localization_loss': 0.08258982,\n",
            " 'Loss/regularization_loss': 0.12915918,\n",
            " 'Loss/total_loss': 0.2850393,\n",
            " 'learning_rate': 0.07558186}\n",
            "INFO:tensorflow:Step 8500 per-step time 0.098s\n",
            "I0710 08:41:18.492329 140419466164032 model_lib_v2.py:705] Step 8500 per-step time 0.098s\n",
            "INFO:tensorflow:{'Loss/classification_loss': 0.10121998,\n",
            " 'Loss/localization_loss': 0.09894092,\n",
            " 'Loss/regularization_loss': 0.1286891,\n",
            " 'Loss/total_loss': 0.32884997,\n",
            " 'learning_rate': 0.07546397}\n",
            "I0710 08:41:18.492726 140419466164032 model_lib_v2.py:708] {'Loss/classification_loss': 0.10121998,\n",
            " 'Loss/localization_loss': 0.09894092,\n",
            " 'Loss/regularization_loss': 0.1286891,\n",
            " 'Loss/total_loss': 0.32884997,\n",
            " 'learning_rate': 0.07546397}\n",
            "INFO:tensorflow:Step 8600 per-step time 0.083s\n",
            "I0710 08:41:26.771101 140419466164032 model_lib_v2.py:705] Step 8600 per-step time 0.083s\n",
            "INFO:tensorflow:{'Loss/classification_loss': 0.16194832,\n",
            " 'Loss/localization_loss': 0.14055675,\n",
            " 'Loss/regularization_loss': 0.12824611,\n",
            " 'Loss/total_loss': 0.4307512,\n",
            " 'learning_rate': 0.075344615}\n",
            "I0710 08:41:26.771426 140419466164032 model_lib_v2.py:708] {'Loss/classification_loss': 0.16194832,\n",
            " 'Loss/localization_loss': 0.14055675,\n",
            " 'Loss/regularization_loss': 0.12824611,\n",
            " 'Loss/total_loss': 0.4307512,\n",
            " 'learning_rate': 0.075344615}\n",
            "INFO:tensorflow:Step 8700 per-step time 0.066s\n",
            "I0710 08:41:33.356850 140419466164032 model_lib_v2.py:705] Step 8700 per-step time 0.066s\n",
            "INFO:tensorflow:{'Loss/classification_loss': 0.14920789,\n",
            " 'Loss/localization_loss': 0.12861489,\n",
            " 'Loss/regularization_loss': 0.12800214,\n",
            " 'Loss/total_loss': 0.40582493,\n",
            " 'learning_rate': 0.07522382}\n",
            "I0710 08:41:33.357161 140419466164032 model_lib_v2.py:708] {'Loss/classification_loss': 0.14920789,\n",
            " 'Loss/localization_loss': 0.12861489,\n",
            " 'Loss/regularization_loss': 0.12800214,\n",
            " 'Loss/total_loss': 0.40582493,\n",
            " 'learning_rate': 0.07522382}\n",
            "INFO:tensorflow:Step 8800 per-step time 0.100s\n",
            "I0710 08:41:43.364434 140419466164032 model_lib_v2.py:705] Step 8800 per-step time 0.100s\n",
            "INFO:tensorflow:{'Loss/classification_loss': 0.122197546,\n",
            " 'Loss/localization_loss': 0.081909604,\n",
            " 'Loss/regularization_loss': 0.12756664,\n",
            " 'Loss/total_loss': 0.3316738,\n",
            " 'learning_rate': 0.07510157}\n",
            "I0710 08:41:43.364841 140419466164032 model_lib_v2.py:708] {'Loss/classification_loss': 0.122197546,\n",
            " 'Loss/localization_loss': 0.081909604,\n",
            " 'Loss/regularization_loss': 0.12756664,\n",
            " 'Loss/total_loss': 0.3316738,\n",
            " 'learning_rate': 0.07510157}\n",
            "INFO:tensorflow:Step 8900 per-step time 0.082s\n",
            "I0710 08:41:51.510311 140419466164032 model_lib_v2.py:705] Step 8900 per-step time 0.082s\n",
            "INFO:tensorflow:{'Loss/classification_loss': 0.07616182,\n",
            " 'Loss/localization_loss': 0.039136656,\n",
            " 'Loss/regularization_loss': 0.1272002,\n",
            " 'Loss/total_loss': 0.24249867,\n",
            " 'learning_rate': 0.074977875}\n",
            "I0710 08:41:51.510627 140419466164032 model_lib_v2.py:708] {'Loss/classification_loss': 0.07616182,\n",
            " 'Loss/localization_loss': 0.039136656,\n",
            " 'Loss/regularization_loss': 0.1272002,\n",
            " 'Loss/total_loss': 0.24249867,\n",
            " 'learning_rate': 0.074977875}\n",
            "INFO:tensorflow:Step 9000 per-step time 0.066s\n",
            "I0710 08:41:58.113557 140419466164032 model_lib_v2.py:705] Step 9000 per-step time 0.066s\n",
            "INFO:tensorflow:{'Loss/classification_loss': 0.09400528,\n",
            " 'Loss/localization_loss': 0.121227,\n",
            " 'Loss/regularization_loss': 0.12677583,\n",
            " 'Loss/total_loss': 0.3420081,\n",
            " 'learning_rate': 0.07485275}\n",
            "I0710 08:41:58.113941 140419466164032 model_lib_v2.py:708] {'Loss/classification_loss': 0.09400528,\n",
            " 'Loss/localization_loss': 0.121227,\n",
            " 'Loss/regularization_loss': 0.12677583,\n",
            " 'Loss/total_loss': 0.3420081,\n",
            " 'learning_rate': 0.07485275}\n",
            "INFO:tensorflow:Step 9100 per-step time 0.118s\n",
            "I0710 08:42:09.899054 140419466164032 model_lib_v2.py:705] Step 9100 per-step time 0.118s\n",
            "INFO:tensorflow:{'Loss/classification_loss': 0.08349103,\n",
            " 'Loss/localization_loss': 0.049555354,\n",
            " 'Loss/regularization_loss': 0.12637919,\n",
            " 'Loss/total_loss': 0.25942558,\n",
            " 'learning_rate': 0.07472619}\n",
            "I0710 08:42:09.899475 140419466164032 model_lib_v2.py:708] {'Loss/classification_loss': 0.08349103,\n",
            " 'Loss/localization_loss': 0.049555354,\n",
            " 'Loss/regularization_loss': 0.12637919,\n",
            " 'Loss/total_loss': 0.25942558,\n",
            " 'learning_rate': 0.07472619}\n",
            "INFO:tensorflow:Step 9200 per-step time 0.072s\n",
            "I0710 08:42:17.072516 140419466164032 model_lib_v2.py:705] Step 9200 per-step time 0.072s\n",
            "INFO:tensorflow:{'Loss/classification_loss': 0.101862475,\n",
            " 'Loss/localization_loss': 0.058449812,\n",
            " 'Loss/regularization_loss': 0.12591536,\n",
            " 'Loss/total_loss': 0.28622764,\n",
            " 'learning_rate': 0.07459819}\n",
            "I0710 08:42:17.072816 140419466164032 model_lib_v2.py:708] {'Loss/classification_loss': 0.101862475,\n",
            " 'Loss/localization_loss': 0.058449812,\n",
            " 'Loss/regularization_loss': 0.12591536,\n",
            " 'Loss/total_loss': 0.28622764,\n",
            " 'learning_rate': 0.07459819}\n",
            "INFO:tensorflow:Step 9300 per-step time 0.078s\n",
            "I0710 08:42:24.900300 140419466164032 model_lib_v2.py:705] Step 9300 per-step time 0.078s\n",
            "INFO:tensorflow:{'Loss/classification_loss': 0.11049272,\n",
            " 'Loss/localization_loss': 0.09277328,\n",
            " 'Loss/regularization_loss': 0.12550305,\n",
            " 'Loss/total_loss': 0.32876903,\n",
            " 'learning_rate': 0.074468784}\n",
            "I0710 08:42:24.900722 140419466164032 model_lib_v2.py:708] {'Loss/classification_loss': 0.11049272,\n",
            " 'Loss/localization_loss': 0.09277328,\n",
            " 'Loss/regularization_loss': 0.12550305,\n",
            " 'Loss/total_loss': 0.32876903,\n",
            " 'learning_rate': 0.074468784}\n",
            "INFO:tensorflow:Step 9400 per-step time 0.104s\n",
            "I0710 08:42:35.344120 140419466164032 model_lib_v2.py:705] Step 9400 per-step time 0.104s\n",
            "INFO:tensorflow:{'Loss/classification_loss': 0.07058062,\n",
            " 'Loss/localization_loss': 0.059599053,\n",
            " 'Loss/regularization_loss': 0.12510453,\n",
            " 'Loss/total_loss': 0.2552842,\n",
            " 'learning_rate': 0.074337944}\n",
            "I0710 08:42:35.344535 140419466164032 model_lib_v2.py:708] {'Loss/classification_loss': 0.07058062,\n",
            " 'Loss/localization_loss': 0.059599053,\n",
            " 'Loss/regularization_loss': 0.12510453,\n",
            " 'Loss/total_loss': 0.2552842,\n",
            " 'learning_rate': 0.074337944}\n",
            "INFO:tensorflow:Step 9500 per-step time 0.067s\n",
            "I0710 08:42:42.070084 140419466164032 model_lib_v2.py:705] Step 9500 per-step time 0.067s\n",
            "INFO:tensorflow:{'Loss/classification_loss': 0.07763551,\n",
            " 'Loss/localization_loss': 0.032229148,\n",
            " 'Loss/regularization_loss': 0.12463931,\n",
            " 'Loss/total_loss': 0.23450397,\n",
            " 'learning_rate': 0.074205704}\n",
            "I0710 08:42:42.070421 140419466164032 model_lib_v2.py:708] {'Loss/classification_loss': 0.07763551,\n",
            " 'Loss/localization_loss': 0.032229148,\n",
            " 'Loss/regularization_loss': 0.12463931,\n",
            " 'Loss/total_loss': 0.23450397,\n",
            " 'learning_rate': 0.074205704}\n",
            "INFO:tensorflow:Step 9600 per-step time 0.082s\n",
            "I0710 08:42:50.274755 140419466164032 model_lib_v2.py:705] Step 9600 per-step time 0.082s\n",
            "INFO:tensorflow:{'Loss/classification_loss': 0.11329249,\n",
            " 'Loss/localization_loss': 0.04141478,\n",
            " 'Loss/regularization_loss': 0.1241304,\n",
            " 'Loss/total_loss': 0.27883768,\n",
            " 'learning_rate': 0.07407206}\n",
            "I0710 08:42:50.275151 140419466164032 model_lib_v2.py:708] {'Loss/classification_loss': 0.11329249,\n",
            " 'Loss/localization_loss': 0.04141478,\n",
            " 'Loss/regularization_loss': 0.1241304,\n",
            " 'Loss/total_loss': 0.27883768,\n",
            " 'learning_rate': 0.07407206}\n",
            "INFO:tensorflow:Step 9700 per-step time 0.100s\n",
            "I0710 08:43:00.314141 140419466164032 model_lib_v2.py:705] Step 9700 per-step time 0.100s\n",
            "INFO:tensorflow:{'Loss/classification_loss': 0.1505289,\n",
            " 'Loss/localization_loss': 0.12584952,\n",
            " 'Loss/regularization_loss': 0.12367657,\n",
            " 'Loss/total_loss': 0.40005496,\n",
            " 'learning_rate': 0.073937014}\n",
            "I0710 08:43:00.314445 140419466164032 model_lib_v2.py:708] {'Loss/classification_loss': 0.1505289,\n",
            " 'Loss/localization_loss': 0.12584952,\n",
            " 'Loss/regularization_loss': 0.12367657,\n",
            " 'Loss/total_loss': 0.40005496,\n",
            " 'learning_rate': 0.073937014}\n",
            "INFO:tensorflow:Step 9800 per-step time 0.065s\n",
            "I0710 08:43:06.800918 140419466164032 model_lib_v2.py:705] Step 9800 per-step time 0.065s\n",
            "INFO:tensorflow:{'Loss/classification_loss': 0.2079963,\n",
            " 'Loss/localization_loss': 0.12406446,\n",
            " 'Loss/regularization_loss': 0.12325815,\n",
            " 'Loss/total_loss': 0.4553189,\n",
            " 'learning_rate': 0.07380057}\n",
            "I0710 08:43:06.801211 140419466164032 model_lib_v2.py:708] {'Loss/classification_loss': 0.2079963,\n",
            " 'Loss/localization_loss': 0.12406446,\n",
            " 'Loss/regularization_loss': 0.12325815,\n",
            " 'Loss/total_loss': 0.4553189,\n",
            " 'learning_rate': 0.07380057}\n",
            "INFO:tensorflow:Step 9900 per-step time 0.083s\n",
            "I0710 08:43:15.137619 140419466164032 model_lib_v2.py:705] Step 9900 per-step time 0.083s\n",
            "INFO:tensorflow:{'Loss/classification_loss': 0.10084157,\n",
            " 'Loss/localization_loss': 0.07989727,\n",
            " 'Loss/regularization_loss': 0.122801185,\n",
            " 'Loss/total_loss': 0.30354002,\n",
            " 'learning_rate': 0.073662736}\n",
            "I0710 08:43:15.138052 140419466164032 model_lib_v2.py:708] {'Loss/classification_loss': 0.10084157,\n",
            " 'Loss/localization_loss': 0.07989727,\n",
            " 'Loss/regularization_loss': 0.122801185,\n",
            " 'Loss/total_loss': 0.30354002,\n",
            " 'learning_rate': 0.073662736}\n",
            "INFO:tensorflow:Step 10000 per-step time 0.096s\n",
            "I0710 08:43:24.748763 140419466164032 model_lib_v2.py:705] Step 10000 per-step time 0.096s\n",
            "INFO:tensorflow:{'Loss/classification_loss': 0.07880959,\n",
            " 'Loss/localization_loss': 0.047145974,\n",
            " 'Loss/regularization_loss': 0.12230865,\n",
            " 'Loss/total_loss': 0.24826422,\n",
            " 'learning_rate': 0.07352352}\n",
            "I0710 08:43:24.749079 140419466164032 model_lib_v2.py:708] {'Loss/classification_loss': 0.07880959,\n",
            " 'Loss/localization_loss': 0.047145974,\n",
            " 'Loss/regularization_loss': 0.12230865,\n",
            " 'Loss/total_loss': 0.24826422,\n",
            " 'learning_rate': 0.07352352}\n"
          ]
        }
      ],
      "source": [
        "!{command}"
      ]
    },
    {
      "cell_type": "markdown",
      "metadata": {
        "id": "4_YRZu7npfDH"
      },
      "source": [
        "# 7. Evaluate the Model"
      ]
    },
    {
      "cell_type": "code",
      "execution_count": null,
      "metadata": {
        "id": "80L7-fdPpfDH"
      },
      "outputs": [],
      "source": [
        "command = \"python {} --model_dir={} --pipeline_config_path={} --checkpoint_dir={}\".format(TRAINING_SCRIPT, paths['CHECKPOINT_PATH'],files['PIPELINE_CONFIG'], paths['CHECKPOINT_PATH'])"
      ]
    },
    {
      "cell_type": "code",
      "execution_count": null,
      "metadata": {
        "colab": {
          "base_uri": "https://localhost:8080/"
        },
        "id": "lYsgEPx9pfDH",
        "outputId": "eace1464-1fe2-43d6-9bf0-c648e286da96"
      },
      "outputs": [
        {
          "name": "stdout",
          "output_type": "stream",
          "text": [
            "python Tensorflow/models/research/object_detection/model_main_tf2.py --model_dir=Tensorflow/workspace/models/my_ssd_mobnet --pipeline_config_path=Tensorflow/workspace/models/my_ssd_mobnet/pipeline.config --checkpoint_dir=Tensorflow/workspace/models/my_ssd_mobnet\n"
          ]
        }
      ],
      "source": [
        "print(command)"
      ]
    },
    {
      "cell_type": "code",
      "execution_count": null,
      "metadata": {
        "colab": {
          "base_uri": "https://localhost:8080/"
        },
        "id": "lqTV2jGBpfDH",
        "outputId": "23b85a24-059d-4e1c-c90c-f6198b9cbeea"
      },
      "outputs": [
        {
          "name": "stdout",
          "output_type": "stream",
          "text": [
            "2023-07-04 14:49:15.448180: W tensorflow/compiler/tf2tensorrt/utils/py_utils.cc:38] TF-TRT Warning: Could not find TensorRT\n",
            "/usr/local/lib/python3.10/dist-packages/tensorflow_addons/utils/tfa_eol_msg.py:23: UserWarning: \n",
            "\n",
            "TensorFlow Addons (TFA) has ended development and introduction of new features.\n",
            "TFA has entered a minimal maintenance and release mode until a planned end of life in May 2024.\n",
            "Please modify downstream libraries to take dependencies from other repositories in our TensorFlow community (e.g. Keras, Keras-CV, and Keras-NLP). \n",
            "\n",
            "For more information see: https://github.com/tensorflow/addons/issues/2807 \n",
            "\n",
            "  warnings.warn(\n",
            "WARNING:tensorflow:Forced number of epochs for all eval validations to be 1.\n",
            "W0704 14:49:19.489437 139731217450816 model_lib_v2.py:1089] Forced number of epochs for all eval validations to be 1.\n",
            "INFO:tensorflow:Maybe overwriting sample_1_of_n_eval_examples: None\n",
            "I0704 14:49:19.489703 139731217450816 config_util.py:552] Maybe overwriting sample_1_of_n_eval_examples: None\n",
            "INFO:tensorflow:Maybe overwriting use_bfloat16: False\n",
            "I0704 14:49:19.489837 139731217450816 config_util.py:552] Maybe overwriting use_bfloat16: False\n",
            "INFO:tensorflow:Maybe overwriting eval_num_epochs: 1\n",
            "I0704 14:49:19.489932 139731217450816 config_util.py:552] Maybe overwriting eval_num_epochs: 1\n",
            "WARNING:tensorflow:Expected number of evaluation epochs is 1, but instead encountered `eval_on_train_input_config.num_epochs` = 0. Overwriting `num_epochs` to 1.\n",
            "W0704 14:49:19.490075 139731217450816 model_lib_v2.py:1106] Expected number of evaluation epochs is 1, but instead encountered `eval_on_train_input_config.num_epochs` = 0. Overwriting `num_epochs` to 1.\n",
            "2023-07-04 14:49:20.816832: W tensorflow/core/common_runtime/gpu/gpu_bfc_allocator.cc:47] Overriding orig_value setting because the TF_FORCE_GPU_ALLOW_GROWTH environment variable is set. Original config value was 0.\n",
            "INFO:tensorflow:Reading unweighted datasets: ['Tensorflow/workspace/annotations/test.record']\n",
            "I0704 14:49:21.019021 139731217450816 dataset_builder.py:162] Reading unweighted datasets: ['Tensorflow/workspace/annotations/test.record']\n",
            "INFO:tensorflow:Reading record datasets for input file: ['Tensorflow/workspace/annotations/test.record']\n",
            "I0704 14:49:21.019263 139731217450816 dataset_builder.py:79] Reading record datasets for input file: ['Tensorflow/workspace/annotations/test.record']\n",
            "INFO:tensorflow:Number of filenames to read: 1\n",
            "I0704 14:49:21.019351 139731217450816 dataset_builder.py:80] Number of filenames to read: 1\n",
            "WARNING:tensorflow:num_readers has been reduced to 1 to match input file shards.\n",
            "W0704 14:49:21.019417 139731217450816 dataset_builder.py:86] num_readers has been reduced to 1 to match input file shards.\n",
            "WARNING:tensorflow:From /usr/local/lib/python3.10/dist-packages/object_detection/builders/dataset_builder.py:100: parallel_interleave (from tensorflow.python.data.experimental.ops.interleave_ops) is deprecated and will be removed in a future version.\n",
            "Instructions for updating:\n",
            "Use `tf.data.Dataset.interleave(map_func, cycle_length, block_length, num_parallel_calls=tf.data.AUTOTUNE)` instead. If sloppy execution is desired, use `tf.data.Options.deterministic`.\n",
            "W0704 14:49:21.023362 139731217450816 deprecation.py:364] From /usr/local/lib/python3.10/dist-packages/object_detection/builders/dataset_builder.py:100: parallel_interleave (from tensorflow.python.data.experimental.ops.interleave_ops) is deprecated and will be removed in a future version.\n",
            "Instructions for updating:\n",
            "Use `tf.data.Dataset.interleave(map_func, cycle_length, block_length, num_parallel_calls=tf.data.AUTOTUNE)` instead. If sloppy execution is desired, use `tf.data.Options.deterministic`.\n",
            "WARNING:tensorflow:From /usr/local/lib/python3.10/dist-packages/object_detection/builders/dataset_builder.py:235: DatasetV1.map_with_legacy_function (from tensorflow.python.data.ops.dataset_ops) is deprecated and will be removed in a future version.\n",
            "Instructions for updating:\n",
            "Use `tf.data.Dataset.map()\n",
            "W0704 14:49:21.043502 139731217450816 deprecation.py:364] From /usr/local/lib/python3.10/dist-packages/object_detection/builders/dataset_builder.py:235: DatasetV1.map_with_legacy_function (from tensorflow.python.data.ops.dataset_ops) is deprecated and will be removed in a future version.\n",
            "Instructions for updating:\n",
            "Use `tf.data.Dataset.map()\n",
            "WARNING:tensorflow:From /usr/local/lib/python3.10/dist-packages/tensorflow/python/util/dispatch.py:1176: sparse_to_dense (from tensorflow.python.ops.sparse_ops) is deprecated and will be removed in a future version.\n",
            "Instructions for updating:\n",
            "Create a `tf.sparse.SparseTensor` and use `tf.sparse.to_dense` instead.\n",
            "W0704 14:49:24.684576 139731217450816 deprecation.py:364] From /usr/local/lib/python3.10/dist-packages/tensorflow/python/util/dispatch.py:1176: sparse_to_dense (from tensorflow.python.ops.sparse_ops) is deprecated and will be removed in a future version.\n",
            "Instructions for updating:\n",
            "Create a `tf.sparse.SparseTensor` and use `tf.sparse.to_dense` instead.\n",
            "WARNING:tensorflow:From /usr/local/lib/python3.10/dist-packages/tensorflow/python/util/dispatch.py:1176: to_float (from tensorflow.python.ops.math_ops) is deprecated and will be removed in a future version.\n",
            "Instructions for updating:\n",
            "Use `tf.cast` instead.\n",
            "W0704 14:49:25.834859 139731217450816 deprecation.py:364] From /usr/local/lib/python3.10/dist-packages/tensorflow/python/util/dispatch.py:1176: to_float (from tensorflow.python.ops.math_ops) is deprecated and will be removed in a future version.\n",
            "Instructions for updating:\n",
            "Use `tf.cast` instead.\n",
            "WARNING:tensorflow:From /usr/local/lib/python3.10/dist-packages/object_detection/builders/optimizer_builder.py:124: The name tf.keras.optimizers.SGD is deprecated. Please use tf.keras.optimizers.legacy.SGD instead.\n",
            "\n",
            "W0704 14:49:28.601523 139731217450816 module_wrapper.py:149] From /usr/local/lib/python3.10/dist-packages/object_detection/builders/optimizer_builder.py:124: The name tf.keras.optimizers.SGD is deprecated. Please use tf.keras.optimizers.legacy.SGD instead.\n",
            "\n",
            "INFO:tensorflow:Waiting for new checkpoint at Tensorflow/workspace/models/my_ssd_mobnet\n",
            "I0704 14:49:28.601967 139731217450816 checkpoint_utils.py:168] Waiting for new checkpoint at Tensorflow/workspace/models/my_ssd_mobnet\n",
            "INFO:tensorflow:Found new checkpoint at Tensorflow/workspace/models/my_ssd_mobnet/ckpt-11\n",
            "I0704 14:49:28.602833 139731217450816 checkpoint_utils.py:177] Found new checkpoint at Tensorflow/workspace/models/my_ssd_mobnet/ckpt-11\n",
            "/usr/local/lib/python3.10/dist-packages/keras/backend.py:452: UserWarning: `tf.keras.backend.set_learning_phase` is deprecated and will be removed after 2020-10-11. To update it, simply pass a True/False value to the `training` argument of the `__call__` method of your layer or model.\n",
            "  warnings.warn(\n",
            "I0704 14:49:36.591878 139731217450816 api.py:459] feature_map_spatial_dims: [(40, 40), (20, 20), (10, 10), (5, 5), (3, 3)]\n",
            "I0704 14:49:50.267456 139731217450816 api.py:459] feature_map_spatial_dims: [(40, 40), (20, 20), (10, 10), (5, 5), (3, 3)]\n",
            "WARNING:tensorflow:From /usr/local/lib/python3.10/dist-packages/tensorflow/python/util/dispatch.py:1176: to_int64 (from tensorflow.python.ops.math_ops) is deprecated and will be removed in a future version.\n",
            "Instructions for updating:\n",
            "Use `tf.cast` instead.\n",
            "W0704 14:49:59.036707 139731217450816 deprecation.py:364] From /usr/local/lib/python3.10/dist-packages/tensorflow/python/util/dispatch.py:1176: to_int64 (from tensorflow.python.ops.math_ops) is deprecated and will be removed in a future version.\n",
            "Instructions for updating:\n",
            "Use `tf.cast` instead.\n",
            "INFO:tensorflow:Finished eval step 0\n",
            "I0704 14:49:59.084595 139731217450816 model_lib_v2.py:966] Finished eval step 0\n",
            "WARNING:tensorflow:From /usr/local/lib/python3.10/dist-packages/tensorflow/python/autograph/impl/api.py:459: py_func (from tensorflow.python.ops.script_ops) is deprecated and will be removed in a future version.\n",
            "Instructions for updating:\n",
            "tf.py_func is deprecated in TF V2. Instead, there are two\n",
            "    options available in V2.\n",
            "    - tf.py_function takes a python function which manipulates tf eager\n",
            "    tensors instead of numpy arrays. It's easy to convert a tf eager tensor to\n",
            "    an ndarray (just call tensor.numpy()) but having access to eager tensors\n",
            "    means `tf.py_function`s can use accelerators such as GPUs as well as\n",
            "    being differentiable using a gradient tape.\n",
            "    - tf.numpy_function maintains the semantics of the deprecated tf.py_func\n",
            "    (it is not differentiable, and manipulates numpy arrays). It drops the\n",
            "    stateful argument making all functions stateful.\n",
            "    \n",
            "W0704 14:49:59.332780 139731217450816 deprecation.py:364] From /usr/local/lib/python3.10/dist-packages/tensorflow/python/autograph/impl/api.py:459: py_func (from tensorflow.python.ops.script_ops) is deprecated and will be removed in a future version.\n",
            "Instructions for updating:\n",
            "tf.py_func is deprecated in TF V2. Instead, there are two\n",
            "    options available in V2.\n",
            "    - tf.py_function takes a python function which manipulates tf eager\n",
            "    tensors instead of numpy arrays. It's easy to convert a tf eager tensor to\n",
            "    an ndarray (just call tensor.numpy()) but having access to eager tensors\n",
            "    means `tf.py_function`s can use accelerators such as GPUs as well as\n",
            "    being differentiable using a gradient tape.\n",
            "    - tf.numpy_function maintains the semantics of the deprecated tf.py_func\n",
            "    (it is not differentiable, and manipulates numpy arrays). It drops the\n",
            "    stateful argument making all functions stateful.\n",
            "    \n",
            "INFO:tensorflow:Performing evaluation on 22 images.\n",
            "I0704 14:50:02.468160 139731217450816 coco_evaluation.py:293] Performing evaluation on 22 images.\n",
            "creating index...\n",
            "index created!\n",
            "INFO:tensorflow:Loading and preparing annotation results...\n",
            "I0704 14:50:02.469717 139731217450816 coco_tools.py:116] Loading and preparing annotation results...\n",
            "INFO:tensorflow:DONE (t=0.00s)\n",
            "I0704 14:50:02.471242 139731217450816 coco_tools.py:138] DONE (t=0.00s)\n",
            "creating index...\n",
            "index created!\n",
            "Running per image evaluation...\n",
            "Evaluate annotation type *bbox*\n",
            "DONE (t=0.08s).\n",
            "Accumulating evaluation results...\n",
            "DONE (t=0.02s).\n",
            " Average Precision  (AP) @[ IoU=0.50:0.95 | area=   all | maxDets=100 ] = 0.557\n",
            " Average Precision  (AP) @[ IoU=0.50      | area=   all | maxDets=100 ] = 0.949\n",
            " Average Precision  (AP) @[ IoU=0.75      | area=   all | maxDets=100 ] = 0.717\n",
            " Average Precision  (AP) @[ IoU=0.50:0.95 | area= small | maxDets=100 ] = 0.445\n",
            " Average Precision  (AP) @[ IoU=0.50:0.95 | area=medium | maxDets=100 ] = 0.578\n",
            " Average Precision  (AP) @[ IoU=0.50:0.95 | area= large | maxDets=100 ] = 0.585\n",
            " Average Recall     (AR) @[ IoU=0.50:0.95 | area=   all | maxDets=  1 ] = 0.604\n",
            " Average Recall     (AR) @[ IoU=0.50:0.95 | area=   all | maxDets= 10 ] = 0.678\n",
            " Average Recall     (AR) @[ IoU=0.50:0.95 | area=   all | maxDets=100 ] = 0.678\n",
            " Average Recall     (AR) @[ IoU=0.50:0.95 | area= small | maxDets=100 ] = 0.675\n",
            " Average Recall     (AR) @[ IoU=0.50:0.95 | area=medium | maxDets=100 ] = 0.687\n",
            " Average Recall     (AR) @[ IoU=0.50:0.95 | area= large | maxDets=100 ] = 0.650\n",
            "INFO:tensorflow:Eval metrics at step 10000\n",
            "I0704 14:50:02.587909 139731217450816 model_lib_v2.py:1015] Eval metrics at step 10000\n",
            "INFO:tensorflow:\t+ DetectionBoxes_Precision/mAP: 0.557268\n",
            "I0704 14:50:02.595893 139731217450816 model_lib_v2.py:1018] \t+ DetectionBoxes_Precision/mAP: 0.557268\n",
            "INFO:tensorflow:\t+ DetectionBoxes_Precision/mAP@.50IOU: 0.948574\n",
            "I0704 14:50:02.597633 139731217450816 model_lib_v2.py:1018] \t+ DetectionBoxes_Precision/mAP@.50IOU: 0.948574\n",
            "INFO:tensorflow:\t+ DetectionBoxes_Precision/mAP@.75IOU: 0.717251\n",
            "I0704 14:50:02.599247 139731217450816 model_lib_v2.py:1018] \t+ DetectionBoxes_Precision/mAP@.75IOU: 0.717251\n",
            "INFO:tensorflow:\t+ DetectionBoxes_Precision/mAP (small): 0.444569\n",
            "I0704 14:50:02.600714 139731217450816 model_lib_v2.py:1018] \t+ DetectionBoxes_Precision/mAP (small): 0.444569\n",
            "INFO:tensorflow:\t+ DetectionBoxes_Precision/mAP (medium): 0.577791\n",
            "I0704 14:50:02.602247 139731217450816 model_lib_v2.py:1018] \t+ DetectionBoxes_Precision/mAP (medium): 0.577791\n",
            "INFO:tensorflow:\t+ DetectionBoxes_Precision/mAP (large): 0.584598\n",
            "I0704 14:50:02.604058 139731217450816 model_lib_v2.py:1018] \t+ DetectionBoxes_Precision/mAP (large): 0.584598\n",
            "INFO:tensorflow:\t+ DetectionBoxes_Recall/AR@1: 0.604348\n",
            "I0704 14:50:02.605529 139731217450816 model_lib_v2.py:1018] \t+ DetectionBoxes_Recall/AR@1: 0.604348\n",
            "INFO:tensorflow:\t+ DetectionBoxes_Recall/AR@10: 0.678261\n",
            "I0704 14:50:02.606908 139731217450816 model_lib_v2.py:1018] \t+ DetectionBoxes_Recall/AR@10: 0.678261\n",
            "INFO:tensorflow:\t+ DetectionBoxes_Recall/AR@100: 0.678261\n",
            "I0704 14:50:02.608200 139731217450816 model_lib_v2.py:1018] \t+ DetectionBoxes_Recall/AR@100: 0.678261\n",
            "INFO:tensorflow:\t+ DetectionBoxes_Recall/AR@100 (small): 0.675000\n",
            "I0704 14:50:02.609620 139731217450816 model_lib_v2.py:1018] \t+ DetectionBoxes_Recall/AR@100 (small): 0.675000\n",
            "INFO:tensorflow:\t+ DetectionBoxes_Recall/AR@100 (medium): 0.686667\n",
            "I0704 14:50:02.611165 139731217450816 model_lib_v2.py:1018] \t+ DetectionBoxes_Recall/AR@100 (medium): 0.686667\n",
            "INFO:tensorflow:\t+ DetectionBoxes_Recall/AR@100 (large): 0.650000\n",
            "I0704 14:50:02.612766 139731217450816 model_lib_v2.py:1018] \t+ DetectionBoxes_Recall/AR@100 (large): 0.650000\n",
            "INFO:tensorflow:\t+ Loss/localization_loss: 0.170142\n",
            "I0704 14:50:02.613885 139731217450816 model_lib_v2.py:1018] \t+ Loss/localization_loss: 0.170142\n",
            "INFO:tensorflow:\t+ Loss/classification_loss: 0.370939\n",
            "I0704 14:50:02.615045 139731217450816 model_lib_v2.py:1018] \t+ Loss/classification_loss: 0.370939\n",
            "INFO:tensorflow:\t+ Loss/regularization_loss: 0.122389\n",
            "I0704 14:50:02.616128 139731217450816 model_lib_v2.py:1018] \t+ Loss/regularization_loss: 0.122389\n",
            "INFO:tensorflow:\t+ Loss/total_loss: 0.663469\n",
            "I0704 14:50:02.617342 139731217450816 model_lib_v2.py:1018] \t+ Loss/total_loss: 0.663469\n",
            "INFO:tensorflow:Waiting for new checkpoint at Tensorflow/workspace/models/my_ssd_mobnet\n",
            "I0704 14:54:28.675423 139731217450816 checkpoint_utils.py:168] Waiting for new checkpoint at Tensorflow/workspace/models/my_ssd_mobnet\n",
            "Traceback (most recent call last):\n",
            "  File \"/content/Tensorflow/models/research/object_detection/model_main_tf2.py\", line 114, in <module>\n",
            "    tf.compat.v1.app.run()\n",
            "  File \"/usr/local/lib/python3.10/dist-packages/tensorflow/python/platform/app.py\", line 36, in run\n",
            "    _run(main=main, argv=argv, flags_parser=_parse_flags_tolerate_undef)\n",
            "  File \"/usr/local/lib/python3.10/dist-packages/absl/app.py\", line 308, in run\n",
            "    _run_main(main, args)\n",
            "  File \"/usr/local/lib/python3.10/dist-packages/absl/app.py\", line 254, in _run_main\n",
            "    sys.exit(main(argv))\n",
            "  File \"/content/Tensorflow/models/research/object_detection/model_main_tf2.py\", line 81, in main\n",
            "    model_lib_v2.eval_continuously(\n",
            "  File \"/usr/local/lib/python3.10/dist-packages/object_detection/model_lib_v2.py\", line 1135, in eval_continuously\n",
            "    for latest_checkpoint in tf.train.checkpoints_iterator(\n",
            "  File \"/usr/local/lib/python3.10/dist-packages/tensorflow/python/training/checkpoint_utils.py\", line 226, in checkpoints_iterator\n",
            "  File \"/usr/local/lib/python3.10/dist-packages/tensorflow/python/training/checkpoint_utils.py\", line 175, in wait_for_new_checkpoint\n",
            "    time.sleep(seconds_to_sleep)\n",
            "KeyboardInterrupt\n",
            "^C\n"
          ]
        }
      ],
      "source": [
        "!{command}"
      ]
    },
    {
      "cell_type": "markdown",
      "metadata": {
        "id": "orvRk02UpfDI"
      },
      "source": [
        "# 8. Load Train Model From Checkpoint"
      ]
    },
    {
      "cell_type": "code",
      "execution_count": 32,
      "metadata": {
        "colab": {
          "base_uri": "https://localhost:8080/",
          "height": 375
        },
        "id": "P6515rJIAIpT",
        "outputId": "784218d2-b9d5-4020-e8bd-81f8de4ca1f6"
      },
      "outputs": [
        {
          "output_type": "stream",
          "name": "stdout",
          "text": [
            "Requirement already satisfied: numpy in /usr/local/lib/python3.10/dist-packages (1.24.3)\n",
            "Collecting numpy\n",
            "  Downloading numpy-1.25.1-cp310-cp310-manylinux_2_17_x86_64.manylinux2014_x86_64.whl (17.6 MB)\n",
            "\u001b[2K     \u001b[90m━━━━━━━━━━━━━━━━━━━━━━━━━━━━━━━━━━━━━━━━\u001b[0m \u001b[32m17.6/17.6 MB\u001b[0m \u001b[31m57.4 MB/s\u001b[0m eta \u001b[36m0:00:00\u001b[0m\n",
            "\u001b[?25hInstalling collected packages: numpy\n",
            "  Attempting uninstall: numpy\n",
            "    Found existing installation: numpy 1.24.3\n",
            "    Uninstalling numpy-1.24.3:\n",
            "      Successfully uninstalled numpy-1.24.3\n",
            "\u001b[31mERROR: pip's dependency resolver does not currently take into account all the packages that are installed. This behaviour is the source of the following dependency conflicts.\n",
            "apache-beam 2.48.0 requires numpy<1.25.0,>=1.14.3, but you have numpy 1.25.1 which is incompatible.\n",
            "numba 0.56.4 requires numpy<1.24,>=1.18, but you have numpy 1.25.1 which is incompatible.\n",
            "tensorflow 2.13.0 requires numpy<=1.24.3,>=1.22, but you have numpy 1.25.1 which is incompatible.\u001b[0m\u001b[31m\n",
            "\u001b[0mSuccessfully installed numpy-1.25.1\n"
          ]
        },
        {
          "output_type": "display_data",
          "data": {
            "application/vnd.colab-display-data+json": {
              "pip_warning": {
                "packages": [
                  "numpy"
                ]
              }
            }
          },
          "metadata": {}
        }
      ],
      "source": [
        "!pip install -U numpy"
      ]
    },
    {
      "cell_type": "code",
      "execution_count": 13,
      "metadata": {
        "colab": {
          "base_uri": "https://localhost:8080/"
        },
        "id": "8TYk4_oIpfDI",
        "outputId": "9b827226-8535-4aed-ee28-5701106a4610"
      },
      "outputs": [
        {
          "output_type": "stream",
          "name": "stderr",
          "text": [
            "/usr/local/lib/python3.10/dist-packages/tensorflow_io/python/ops/__init__.py:98: UserWarning: unable to load libtensorflow_io_plugins.so: unable to open file: libtensorflow_io_plugins.so, from paths: ['/usr/local/lib/python3.10/dist-packages/tensorflow_io/python/ops/libtensorflow_io_plugins.so']\n",
            "caused by: ['/usr/local/lib/python3.10/dist-packages/tensorflow_io/python/ops/libtensorflow_io_plugins.so: undefined symbol: _ZN3tsl6Status12empty_stringB5cxx11Ev']\n",
            "  warnings.warn(f\"unable to load libtensorflow_io_plugins.so: {e}\")\n",
            "/usr/local/lib/python3.10/dist-packages/tensorflow_io/python/ops/__init__.py:104: UserWarning: file system plugins are not loaded: unable to open file: libtensorflow_io.so, from paths: ['/usr/local/lib/python3.10/dist-packages/tensorflow_io/python/ops/libtensorflow_io.so']\n",
            "caused by: ['/usr/local/lib/python3.10/dist-packages/tensorflow_io/python/ops/libtensorflow_io.so: undefined symbol: _ZNK10tensorflow4data11DatasetBase8FinalizeEPNS_15OpKernelContextESt8functionIFN3tsl8StatusOrISt10unique_ptrIS1_NS5_4core15RefCountDeleterEEEEvEE']\n",
            "  warnings.warn(f\"file system plugins are not loaded: {e}\")\n"
          ]
        }
      ],
      "source": [
        "import os\n",
        "import tensorflow as tf\n",
        "from object_detection.utils import label_map_util\n",
        "from object_detection.utils import visualization_utils as viz_utils\n",
        "from object_detection.builders import model_builder\n",
        "from object_detection.utils import config_util"
      ]
    },
    {
      "cell_type": "code",
      "execution_count": 14,
      "metadata": {
        "id": "IKQO9N0Foodr"
      },
      "outputs": [],
      "source": [
        "# Prevent GPU complete consumption\n",
        "gpus = tf.config.list_physical_devices('GPU')\n",
        "if gpus:\n",
        "    try:\n",
        "        tf.config.experimental.set_virtual_device_configuration(\n",
        "            gpus[0], [tf.config.experimental.VirtualDeviceConfiguration(memory_limit=5120)])\n",
        "    except RunTimeError as e:\n",
        "        print(e)"
      ]
    },
    {
      "cell_type": "code",
      "execution_count": 15,
      "metadata": {
        "id": "tDnQg-cYpfDI"
      },
      "outputs": [],
      "source": [
        "# Load pipeline config and build a detection model\n",
        "configs = config_util.get_configs_from_pipeline_file(files['PIPELINE_CONFIG'])\n",
        "detection_model = model_builder.build(model_config=configs['model'], is_training=False)\n",
        "\n",
        "# Restore checkpoint\n",
        "ckpt = tf.compat.v2.train.Checkpoint(model=detection_model)\n",
        "ckpt.restore(os.path.join(paths['CHECKPOINT_PATH'], 'ckpt-11')).expect_partial()\n",
        "\n",
        "@tf.function\n",
        "def detect_fn(image):\n",
        "    image, shapes = detection_model.preprocess(image)\n",
        "    prediction_dict = detection_model.predict(image, shapes)\n",
        "    detections = detection_model.postprocess(prediction_dict, shapes)\n",
        "    return detections"
      ]
    },
    {
      "cell_type": "markdown",
      "metadata": {
        "id": "0EmsmbBZpfDI"
      },
      "source": [
        "# 9. Detect from an Image"
      ]
    },
    {
      "cell_type": "code",
      "execution_count": 16,
      "metadata": {
        "id": "Y_MKiuZ4pfDI"
      },
      "outputs": [],
      "source": [
        "import cv2\n",
        "import numpy as np\n",
        "from matplotlib import pyplot as plt\n",
        "%matplotlib inline"
      ]
    },
    {
      "cell_type": "code",
      "execution_count": 17,
      "metadata": {
        "id": "cBDbIhNapfDI"
      },
      "outputs": [],
      "source": [
        "category_index = label_map_util.create_category_index_from_labelmap(files['LABELMAP'])"
      ]
    },
    {
      "cell_type": "code",
      "execution_count": 22,
      "metadata": {
        "id": "Lx3crOhOzITB"
      },
      "outputs": [],
      "source": [
        "IMAGE_PATH = os.path.join(paths['IMAGE_PATH'], 'test', 'Cars423.png')"
      ]
    },
    {
      "cell_type": "code",
      "execution_count": 23,
      "metadata": {
        "colab": {
          "base_uri": "https://localhost:8080/",
          "height": 375
        },
        "id": "Tpzn1SMry1yK",
        "outputId": "d4e4ad26-bb62-42f3-a4cc-7625c523f033"
      },
      "outputs": [
        {
          "output_type": "display_data",
          "data": {
            "text/plain": [
              "<Figure size 640x480 with 1 Axes>"
            ],
            "image/png": "[encoded data removed]"
          },
          "metadata": {}
        }
      ],
      "source": [
        "img = cv2.imread(IMAGE_PATH)\n",
        "image_np = np.array(img)\n",
        "\n",
        "input_tensor = tf.convert_to_tensor(np.expand_dims(image_np, 0), dtype=tf.float32)\n",
        "detections = detect_fn(input_tensor)\n",
        "\n",
        "num_detections = int(detections.pop('num_detections'))\n",
        "detections = {key: value[0, :num_detections].numpy()\n",
        "              for key, value in detections.items()}\n",
        "detections['num_detections'] = num_detections\n",
        "\n",
        "# detection_classes should be ints.\n",
        "detections['detection_classes'] = detections['detection_classes'].astype(np.int64)\n",
        "\n",
        "label_id_offset = 1\n",
        "image_np_with_detections = image_np.copy()\n",
        "\n",
        "viz_utils.visualize_boxes_and_labels_on_image_array(\n",
        "            image_np_with_detections,\n",
        "            detections['detection_boxes'],\n",
        "            detections['detection_classes']+label_id_offset,\n",
        "            detections['detection_scores'],\n",
        "            category_index,\n",
        "            use_normalized_coordinates=True,\n",
        "            max_boxes_to_draw=5,\n",
        "            min_score_thresh=.8,\n",
        "            agnostic_mode=False)\n",
        "\n",
        "plt.imshow(cv2.cvtColor(image_np_with_detections, cv2.COLOR_BGR2RGB))\n",
        "plt.show()"
      ]
    },
    {
      "cell_type": "code",
      "execution_count": 24,
      "metadata": {
        "colab": {
          "base_uri": "https://localhost:8080/"
        },
        "id": "s35Mz8y-oods",
        "outputId": "4efcf172-ab25-41cc-a68a-04159b4f8684"
      },
      "outputs": [
        {
          "output_type": "execute_result",
          "data": {
            "text/plain": [
              "dict_keys(['detection_boxes', 'detection_scores', 'detection_classes', 'raw_detection_boxes', 'raw_detection_scores', 'detection_multiclass_scores', 'detection_anchor_indices', 'num_detections'])"
            ]
          },
          "metadata": {},
          "execution_count": 24
        }
      ],
      "source": [
        "detections.keys()"
      ]
    },
    {
      "cell_type": "markdown",
      "metadata": {
        "id": "iISNzVIFoods"
      },
      "source": [
        "# Apply OCR to Detection"
      ]
    },
    {
      "cell_type": "code",
      "execution_count": 25,
      "metadata": {
        "colab": {
          "base_uri": "https://localhost:8080/"
        },
        "id": "xy2TsLx1oods",
        "outputId": "f632fa80-6d48-4b16-b06c-0fd032c08ce4"
      },
      "outputs": [
        {
          "output_type": "stream",
          "name": "stdout",
          "text": [
            "Collecting easyocr\n",
            "  Downloading easyocr-1.7.0-py3-none-any.whl (2.9 MB)\n",
            "\u001b[2K     \u001b[90m━━━━━━━━━━━━━━━━━━━━━━━━━━━━━━━━━━━━━━━━\u001b[0m \u001b[32m2.9/2.9 MB\u001b[0m \u001b[31m60.9 MB/s\u001b[0m eta \u001b[36m0:00:00\u001b[0m\n",
            "\u001b[?25hRequirement already satisfied: torch in /usr/local/lib/python3.10/dist-packages (from easyocr) (2.0.1+cu118)\n",
            "Requirement already satisfied: torchvision>=0.5 in /usr/local/lib/python3.10/dist-packages (from easyocr) (0.15.2+cu118)\n",
            "Requirement already satisfied: opencv-python-headless in /usr/local/lib/python3.10/dist-packages (from easyocr) (4.7.0.72)\n",
            "Requirement already satisfied: scipy in /usr/local/lib/python3.10/dist-packages (from easyocr) (1.10.1)\n",
            "Requirement already satisfied: numpy in /usr/local/lib/python3.10/dist-packages (from easyocr) (1.24.3)\n",
            "Requirement already satisfied: Pillow in /usr/local/lib/python3.10/dist-packages (from easyocr) (8.4.0)\n",
            "Requirement already satisfied: scikit-image in /usr/local/lib/python3.10/dist-packages (from easyocr) (0.19.3)\n",
            "Collecting python-bidi (from easyocr)\n",
            "  Downloading python_bidi-0.4.2-py2.py3-none-any.whl (30 kB)\n",
            "Requirement already satisfied: PyYAML in /usr/local/lib/python3.10/dist-packages (from easyocr) (5.4.1)\n",
            "Requirement already satisfied: Shapely in /usr/local/lib/python3.10/dist-packages (from easyocr) (2.0.1)\n",
            "Collecting pyclipper (from easyocr)\n",
            "  Downloading pyclipper-1.3.0.post4-cp310-cp310-manylinux_2_12_x86_64.manylinux2010_x86_64.whl (813 kB)\n",
            "\u001b[2K     \u001b[90m━━━━━━━━━━━━━━━━━━━━━━━━━━━━━━━━━━━━━━\u001b[0m \u001b[32m813.9/813.9 kB\u001b[0m \u001b[31m64.7 MB/s\u001b[0m eta \u001b[36m0:00:00\u001b[0m\n",
            "\u001b[?25hCollecting ninja (from easyocr)\n",
            "  Downloading ninja-1.11.1-py2.py3-none-manylinux_2_12_x86_64.manylinux2010_x86_64.whl (145 kB)\n",
            "\u001b[2K     \u001b[90m━━━━━━━━━━━━━━━━━━━━━━━━━━━━━━━━━━━━━━\u001b[0m \u001b[32m146.0/146.0 kB\u001b[0m \u001b[31m24.9 MB/s\u001b[0m eta \u001b[36m0:00:00\u001b[0m\n",
            "\u001b[?25hRequirement already satisfied: requests in /usr/local/lib/python3.10/dist-packages (from torchvision>=0.5->easyocr) (2.27.1)\n",
            "Requirement already satisfied: filelock in /usr/local/lib/python3.10/dist-packages (from torch->easyocr) (3.12.2)\n",
            "Requirement already satisfied: typing-extensions in /usr/local/lib/python3.10/dist-packages (from torch->easyocr) (4.5.0)\n",
            "Requirement already satisfied: sympy in /usr/local/lib/python3.10/dist-packages (from torch->easyocr) (1.11.1)\n",
            "Requirement already satisfied: networkx in /usr/local/lib/python3.10/dist-packages (from torch->easyocr) (3.1)\n",
            "Requirement already satisfied: jinja2 in /usr/local/lib/python3.10/dist-packages (from torch->easyocr) (3.1.2)\n",
            "Requirement already satisfied: triton==2.0.0 in /usr/local/lib/python3.10/dist-packages (from torch->easyocr) (2.0.0)\n",
            "Requirement already satisfied: cmake in /usr/local/lib/python3.10/dist-packages (from triton==2.0.0->torch->easyocr) (3.25.2)\n",
            "Requirement already satisfied: lit in /usr/local/lib/python3.10/dist-packages (from triton==2.0.0->torch->easyocr) (16.0.6)\n",
            "Requirement already satisfied: six in /usr/local/lib/python3.10/dist-packages (from python-bidi->easyocr) (1.16.0)\n",
            "Requirement already satisfied: imageio>=2.4.1 in /usr/local/lib/python3.10/dist-packages (from scikit-image->easyocr) (2.25.1)\n",
            "Requirement already satisfied: tifffile>=2019.7.26 in /usr/local/lib/python3.10/dist-packages (from scikit-image->easyocr) (2023.4.12)\n",
            "Requirement already satisfied: PyWavelets>=1.1.1 in /usr/local/lib/python3.10/dist-packages (from scikit-image->easyocr) (1.4.1)\n",
            "Requirement already satisfied: packaging>=20.0 in /usr/local/lib/python3.10/dist-packages (from scikit-image->easyocr) (23.1)\n",
            "Requirement already satisfied: MarkupSafe>=2.0 in /usr/local/lib/python3.10/dist-packages (from jinja2->torch->easyocr) (2.1.3)\n",
            "Requirement already satisfied: urllib3<1.27,>=1.21.1 in /usr/local/lib/python3.10/dist-packages (from requests->torchvision>=0.5->easyocr) (1.26.16)\n",
            "Requirement already satisfied: certifi>=2017.4.17 in /usr/local/lib/python3.10/dist-packages (from requests->torchvision>=0.5->easyocr) (2023.5.7)\n",
            "Requirement already satisfied: charset-normalizer~=2.0.0 in /usr/local/lib/python3.10/dist-packages (from requests->torchvision>=0.5->easyocr) (2.0.12)\n",
            "Requirement already satisfied: idna<4,>=2.5 in /usr/local/lib/python3.10/dist-packages (from requests->torchvision>=0.5->easyocr) (3.4)\n",
            "Requirement already satisfied: mpmath>=0.19 in /usr/local/lib/python3.10/dist-packages (from sympy->torch->easyocr) (1.3.0)\n",
            "Installing collected packages: pyclipper, ninja, python-bidi, easyocr\n",
            "Successfully installed easyocr-1.7.0 ninja-1.11.1 pyclipper-1.3.0.post4 python-bidi-0.4.2\n"
          ]
        }
      ],
      "source": [
        "!pip install easyocr"
      ]
    },
    {
      "cell_type": "code",
      "execution_count": null,
      "metadata": {
        "id": "0RVgpgxloods"
      },
      "outputs": [],
      "source": [
        "!pip install torch==1.8.1+cu111 torchvision==0.9.1+cu111 torchaudio===0.8.1 -f https://download.pytorch.org/whl/torch_stable.html"
      ]
    },
    {
      "cell_type": "code",
      "execution_count": 26,
      "metadata": {
        "id": "_-VqsbU6oods"
      },
      "outputs": [],
      "source": [
        "import easyocr"
      ]
    },
    {
      "cell_type": "code",
      "execution_count": 27,
      "metadata": {
        "id": "7uPoIpR3oods"
      },
      "outputs": [],
      "source": [
        "detection_threshold = 0.7"
      ]
    },
    {
      "cell_type": "code",
      "execution_count": 28,
      "metadata": {
        "id": "_6wKvwRaoodt"
      },
      "outputs": [],
      "source": [
        "image = image_np_with_detections\n",
        "scores = list(filter(lambda x: x> detection_threshold, detections['detection_scores']))\n",
        "boxes = detections['detection_boxes'][:len(scores)]\n",
        "classes = detections['detection_classes'][:len(scores)]"
      ]
    },
    {
      "cell_type": "code",
      "execution_count": 29,
      "metadata": {
        "id": "KB6XtrAxoodt"
      },
      "outputs": [],
      "source": [
        "width = image.shape[1]\n",
        "height = image.shape[0]"
      ]
    },
    {
      "cell_type": "code",
      "execution_count": 30,
      "metadata": {
        "colab": {
          "base_uri": "https://localhost:8080/",
          "height": 312
        },
        "id": "z7_YhA85oodt",
        "outputId": "c8e11d06-1727-4c6f-af09-2688d0f1972e"
      },
      "outputs": [
        {
          "output_type": "stream",
          "name": "stderr",
          "text": [
            "WARNING:easyocr.easyocr:Downloading detection model, please wait. This may take several minutes depending upon your network connection.\n"
          ]
        },
        {
          "output_type": "stream",
          "name": "stdout",
          "text": [
            "[0.61530036 0.41593206 0.7413562  0.7024082 ]\n",
            "[153.82508934 166.37282372 185.3390485  280.96327782]\n",
            "Progress: |██████████████████████████████████████████████████| 100.0% Complete"
          ]
        },
        {
          "output_type": "stream",
          "name": "stderr",
          "text": [
            "WARNING:easyocr.easyocr:Downloading recognition model, please wait. This may take several minutes depending upon your network connection.\n"
          ]
        },
        {
          "output_type": "stream",
          "name": "stdout",
          "text": [
            "Progress: |██████████████████████████████████████████████████| 100.0% Complete[([[18, 2], [104, 2], [104, 32], [18, 32]], 'P3RV P', 0.4757256271890619)]\n"
          ]
        },
        {
          "output_type": "display_data",
          "data": {
            "text/plain": [
              "<Figure size 640x480 with 1 Axes>"
            ],
            "image/png": "[encoded data removed]"
          },
          "metadata": {}
        }
      ],
      "source": [
        "# Apply ROI filtering and OCR\n",
        "for idx, box in enumerate(boxes):\n",
        "    print(box)\n",
        "    roi = box*[height, width, height, width]\n",
        "    print(roi)\n",
        "    region = image[int(roi[0]):int(roi[2]),int(roi[1]):int(roi[3])]\n",
        "    reader = easyocr.Reader(['en'])\n",
        "    ocr_result = reader.readtext(region)\n",
        "    print(ocr_result)\n",
        "    plt.imshow(cv2.cvtColor(region, cv2.COLOR_BGR2RGB))"
      ]
    },
    {
      "cell_type": "code",
      "execution_count": 31,
      "metadata": {
        "colab": {
          "base_uri": "https://localhost:8080/"
        },
        "id": "6dkr-8dgoodt",
        "outputId": "f002e665-1260-43b5-adec-11b81d82bbc4"
      },
      "outputs": [
        {
          "output_type": "stream",
          "name": "stdout",
          "text": [
            "30\n",
            "P3RV P\n"
          ]
        }
      ],
      "source": [
        "for result in ocr_result:\n",
        "    print(np.sum(np.subtract(result[0][2],result[0][1])))\n",
        "    print(result[1])"
      ]
    },
    {
      "cell_type": "markdown",
      "metadata": {
        "id": "XXFm8tlzoodt"
      },
      "source": [
        "# OCR Filtering"
      ]
    },
    {
      "cell_type": "code",
      "execution_count": 32,
      "metadata": {
        "id": "CVLSGFdCoodt"
      },
      "outputs": [],
      "source": [
        "region_threshold = 0.05"
      ]
    },
    {
      "cell_type": "code",
      "execution_count": 33,
      "metadata": {
        "id": "8HHWhhfdoodt"
      },
      "outputs": [],
      "source": [
        "def filter_text(region, ocr_result, region_threshold):\n",
        "    rectangle_size = region.shape[0]*region.shape[1]\n",
        "\n",
        "    plate = []\n",
        "    for result in ocr_result:\n",
        "        length = np.sum(np.subtract(result[0][1], result[0][0]))\n",
        "        height = np.sum(np.subtract(result[0][2], result[0][1]))\n",
        "\n",
        "        if length*height / rectangle_size > region_threshold:\n",
        "            plate.append(result[1])\n",
        "    return plate"
      ]
    },
    {
      "cell_type": "code",
      "execution_count": 34,
      "metadata": {
        "colab": {
          "base_uri": "https://localhost:8080/"
        },
        "id": "bSi60mAqoodt",
        "outputId": "16a1ba6a-a66b-4b5b-fdc8-2506abd16756"
      },
      "outputs": [
        {
          "output_type": "execute_result",
          "data": {
            "text/plain": [
              "['P3RV P']"
            ]
          },
          "metadata": {},
          "execution_count": 34
        }
      ],
      "source": [
        "filter_text(region, ocr_result, region_threshold)"
      ]
    },
    {
      "cell_type": "markdown",
      "metadata": {
        "id": "AFvEmp4doodt"
      },
      "source": [
        "# Bring it Together"
      ]
    },
    {
      "cell_type": "code",
      "execution_count": 35,
      "metadata": {
        "id": "UxmhDdp6oodt"
      },
      "outputs": [],
      "source": [
        "region_threshold = 0.6"
      ]
    },
    {
      "cell_type": "code",
      "execution_count": 36,
      "metadata": {
        "id": "uQFpmYSMoodt"
      },
      "outputs": [],
      "source": [
        "def ocr_it(image, detections, detection_threshold, region_threshold):\n",
        "\n",
        "    # Scores, boxes and classes above threhold\n",
        "    scores = list(filter(lambda x: x> detection_threshold, detections['detection_scores']))\n",
        "    boxes = detections['detection_boxes'][:len(scores)]\n",
        "    classes = detections['detection_classes'][:len(scores)]\n",
        "\n",
        "    # Full image dimensions\n",
        "    width = image.shape[1]\n",
        "    height = image.shape[0]\n",
        "\n",
        "    # Apply ROI filtering and OCR\n",
        "    for idx, box in enumerate(boxes):\n",
        "        roi = box*[height, width, height, width]\n",
        "        region = image[int(roi[0]):int(roi[2]),int(roi[1]):int(roi[3])]\n",
        "        reader = easyocr.Reader(['en'])\n",
        "        ocr_result = reader.readtext(region)\n",
        "\n",
        "        text = filter_text(region, ocr_result, region_threshold)\n",
        "\n",
        "        plt.imshow(cv2.cvtColor(region, cv2.COLOR_BGR2RGB))\n",
        "        plt.show()\n",
        "        print(text)\n",
        "        return text, region"
      ]
    },
    {
      "cell_type": "code",
      "execution_count": 37,
      "metadata": {
        "colab": {
          "base_uri": "https://localhost:8080/",
          "height": 221
        },
        "id": "OqFdaCjmoodt",
        "outputId": "8057664d-676e-45dd-a66e-104481b09434",
        "scrolled": true
      },
      "outputs": [
        {
          "output_type": "display_data",
          "data": {
            "text/plain": [
              "<Figure size 640x480 with 1 Axes>"
            ],
            "image/png": "[encoded data removed]"
          },
          "metadata": {}
        },
        {
          "output_type": "stream",
          "name": "stdout",
          "text": [
            "['P3RV P']\n"
          ]
        }
      ],
      "source": [
        "text, region = ocr_it(image_np_with_detections, detections, detection_threshold, region_threshold)"
      ]
    },
    {
      "cell_type": "markdown",
      "metadata": {
        "id": "XfcReqEXoodu"
      },
      "source": [
        "# Save Results"
      ]
    },
    {
      "cell_type": "code",
      "execution_count": 38,
      "metadata": {
        "id": "fH83ufVKoodu"
      },
      "outputs": [],
      "source": [
        "import csv\n",
        "import uuid"
      ]
    },
    {
      "cell_type": "code",
      "execution_count": 39,
      "metadata": {
        "id": "b44AWydyoodu",
        "colab": {
          "base_uri": "https://localhost:8080/",
          "height": 35
        },
        "outputId": "805da536-255f-4a3d-a70b-53f1ca8bc03a"
      },
      "outputs": [
        {
          "output_type": "execute_result",
          "data": {
            "text/plain": [
              "'c8022fb6-1eff-11ee-b71d-0242ac1c000c.jpg'"
            ],
            "application/vnd.google.colaboratory.intrinsic+json": {
              "type": "string"
            }
          },
          "metadata": {},
          "execution_count": 39
        }
      ],
      "source": [
        "'{}.jpg'.format(uuid.uuid1())"
      ]
    },
    {
      "cell_type": "code",
      "execution_count": 40,
      "metadata": {
        "id": "UtiPqFzQoodu"
      },
      "outputs": [],
      "source": [
        "def save_results(text, region, csv_filename, folder_path):\n",
        "    img_name = '{}.jpg'.format(uuid.uuid1())\n",
        "\n",
        "    cv2.imwrite(os.path.join(folder_path, img_name), region)\n",
        "\n",
        "    with open(csv_filename, mode='a', newline='') as f:\n",
        "        csv_writer = csv.writer(f, delimiter=',', quotechar='\"', quoting=csv.QUOTE_MINIMAL)\n",
        "        csv_writer.writerow([img_name, text])"
      ]
    },
    {
      "cell_type": "code",
      "execution_count": 41,
      "metadata": {
        "id": "WFkuw-AToodu",
        "colab": {
          "base_uri": "https://localhost:8080/"
        },
        "outputId": "ac152653-1b73-475d-e827-f9e8e93cb594"
      },
      "outputs": [
        {
          "output_type": "execute_result",
          "data": {
            "text/plain": [
              "array([[[127, 255,   0],\n",
              "        [127, 255,   0],\n",
              "        [127, 255,   0],\n",
              "        ...,\n",
              "        [127, 255,   0],\n",
              "        [127, 255,   0],\n",
              "        [127, 255,   0]],\n",
              "\n",
              "       [[127, 255,   0],\n",
              "        [127, 255,   0],\n",
              "        [127, 255,   0],\n",
              "        ...,\n",
              "        [127, 255,   0],\n",
              "        [127, 255,   0],\n",
              "        [127, 255,   0]],\n",
              "\n",
              "       [[127, 255,   0],\n",
              "        [127, 255,   0],\n",
              "        [127, 255,   0],\n",
              "        ...,\n",
              "        [ 87, 138, 142],\n",
              "        [127, 255,   0],\n",
              "        [127, 255,   0]],\n",
              "\n",
              "       ...,\n",
              "\n",
              "       [[127, 255,   0],\n",
              "        [127, 255,   0],\n",
              "        [127, 255,   0],\n",
              "        ...,\n",
              "        [153, 156, 153],\n",
              "        [127, 255,   0],\n",
              "        [127, 255,   0]],\n",
              "\n",
              "       [[127, 255,   0],\n",
              "        [127, 255,   0],\n",
              "        [127, 255,   0],\n",
              "        ...,\n",
              "        [167, 169, 162],\n",
              "        [127, 255,   0],\n",
              "        [127, 255,   0]],\n",
              "\n",
              "       [[127, 255,   0],\n",
              "        [127, 255,   0],\n",
              "        [127, 255,   0],\n",
              "        ...,\n",
              "        [127, 255,   0],\n",
              "        [127, 255,   0],\n",
              "        [127, 255,   0]]], dtype=uint8)"
            ]
          },
          "metadata": {},
          "execution_count": 41
        }
      ],
      "source": [
        "region"
      ]
    },
    {
      "cell_type": "code",
      "execution_count": 42,
      "metadata": {
        "id": "zrbhGJtkoodu"
      },
      "outputs": [],
      "source": [
        "save_results(text, region, 'detection_results.csv', 'Detection_Images')"
      ]
    },
    {
      "cell_type": "markdown",
      "metadata": {
        "id": "IsNAaYAo0WVL"
      },
      "source": [
        "# 10. Real Time Detections from your Webcam"
      ]
    },
    {
      "cell_type": "code",
      "execution_count": 43,
      "metadata": {
        "id": "zo1K5YOOoodu",
        "colab": {
          "base_uri": "https://localhost:8080/"
        },
        "outputId": "1f822e4c-13d8-4a80-b07e-48c5fc7e1785"
      },
      "outputs": [
        {
          "output_type": "stream",
          "name": "stdout",
          "text": [
            "Found existing installation: opencv-python-headless 4.7.0.72\n",
            "Uninstalling opencv-python-headless-4.7.0.72:\n",
            "  Successfully uninstalled opencv-python-headless-4.7.0.72\n"
          ]
        }
      ],
      "source": [
        "!pip uninstall opencv-python-headless -y"
      ]
    },
    {
      "cell_type": "code",
      "execution_count": 45,
      "metadata": {
        "id": "o_grs6OGpfDJ"
      },
      "outputs": [],
      "source": [
        "cap = cv2.VideoCapture('/content/video.mp4')\n",
        "width = int(cap.get(cv2.CAP_PROP_FRAME_WIDTH))\n",
        "height = int(cap.get(cv2.CAP_PROP_FRAME_HEIGHT))\n",
        "\n",
        "while cap.isOpened():\n",
        "    ret, frame = cap.read()\n",
        "    image_np = np.array(frame)\n",
        "\n",
        "    input_tensor = tf.convert_to_tensor(np.expand_dims(image_np, 0), dtype=tf.float32)\n",
        "    detections = detect_fn(input_tensor)\n",
        "\n",
        "    num_detections = int(detections.pop('num_detections'))\n",
        "    detections = {key: value[0, :num_detections].numpy()\n",
        "                  for key, value in detections.items()}\n",
        "    detections['num_detections'] = num_detections\n",
        "\n",
        "    # detection_classes should be ints.\n",
        "    detections['detection_classes'] = detections['detection_classes'].astype(np.int64)\n",
        "\n",
        "    label_id_offset = 1\n",
        "    image_np_with_detections = image_np.copy()\n",
        "\n",
        "    viz_utils.visualize_boxes_and_labels_on_image_array(\n",
        "                image_np_with_detections,\n",
        "                detections['detection_boxes'],\n",
        "                detections['detection_classes']+label_id_offset,\n",
        "                detections['detection_scores'],\n",
        "                category_index,\n",
        "                use_normalized_coordinates=True,\n",
        "                max_boxes_to_draw=5,\n",
        "                min_score_thresh=.8,\n",
        "                agnostic_mode=False)\n",
        "\n",
        "    try:\n",
        "        text, region = ocr_it(image_np_with_detections, detections, detection_threshold, region_threshold)\n",
        "        save_results(text, region, 'realtimeresults.csv', 'Detection_Images')\n",
        "    except:\n",
        "        pass\n",
        "\n",
        "    from google.colab.patches import cv2_imshow\n",
        "\n",
        "    cv2_imshow(image_np_with_detections)\n",
        "\n",
        "    if cv2.waitKey(10) & 0xFF == ord('q'):\n",
        "        cap.release()\n",
        "        cv2.destroyAllWindows()\n",
        "        break"
      ]
    },
    {
      "cell_type": "markdown",
      "metadata": {
        "id": "rzlM4jt0pfDJ"
      },
      "source": [
        "# 10. Freezing the Graph"
      ]
    },
    {
      "cell_type": "code",
      "execution_count": null,
      "metadata": {
        "id": "n4olHB2npfDJ"
      },
      "outputs": [],
      "source": [
        "FREEZE_SCRIPT = os.path.join(paths['APIMODEL_PATH'], 'research', 'object_detection', 'exporter_main_v2.py ')"
      ]
    },
    {
      "cell_type": "code",
      "execution_count": null,
      "metadata": {
        "id": "0AjO93QDpfDJ"
      },
      "outputs": [],
      "source": [
        "command = \"python {} --input_type=image_tensor --pipeline_config_path={} --trained_checkpoint_dir={} --output_directory={}\".format(FREEZE_SCRIPT ,files['PIPELINE_CONFIG'], paths['CHECKPOINT_PATH'], paths['OUTPUT_PATH'])"
      ]
    },
    {
      "cell_type": "code",
      "execution_count": null,
      "metadata": {
        "id": "F6Lsp3tCpfDJ"
      },
      "outputs": [],
      "source": [
        "print(command)"
      ]
    },
    {
      "cell_type": "code",
      "execution_count": null,
      "metadata": {
        "id": "1Sw1ULgHpfDJ"
      },
      "outputs": [],
      "source": [
        "!{command}"
      ]
    },
    {
      "cell_type": "markdown",
      "metadata": {
        "id": "wTPmdqaXpfDK"
      },
      "source": [
        "# 11. Conversion to TFJS"
      ]
    },
    {
      "cell_type": "code",
      "execution_count": null,
      "metadata": {
        "id": "gZ6UzY_fpfDK",
        "scrolled": true
      },
      "outputs": [],
      "source": [
        "!pip install tensorflowjs"
      ]
    },
    {
      "cell_type": "code",
      "execution_count": null,
      "metadata": {
        "id": "0oxbVynHpfDK"
      },
      "outputs": [],
      "source": [
        "command = \"tensorflowjs_converter --input_format=tf_saved_model --output_node_names='detection_boxes,detection_classes,detection_features,detection_multiclass_scores,detection_scores,num_detections,raw_detection_boxes,raw_detection_scores' --output_format=tfjs_graph_model --signature_name=serving_default {} {}\".format(os.path.join(paths['OUTPUT_PATH'], 'saved_model'), paths['TFJS_PATH'])"
      ]
    },
    {
      "cell_type": "code",
      "execution_count": null,
      "metadata": {
        "id": "DB2AGNmJpfDK"
      },
      "outputs": [],
      "source": [
        "print(command)"
      ]
    },
    {
      "cell_type": "code",
      "execution_count": null,
      "metadata": {
        "id": "K7rfT4-hpfDK"
      },
      "outputs": [],
      "source": [
        "!{command}"
      ]
    },
    {
      "cell_type": "markdown",
      "metadata": {
        "id": "VtUw73FHpfDK"
      },
      "source": [
        "# 12. Conversion to TFLite"
      ]
    },
    {
      "cell_type": "code",
      "execution_count": null,
      "metadata": {
        "id": "XviMtewLpfDK"
      },
      "outputs": [],
      "source": [
        "TFLITE_SCRIPT = os.path.join(paths['APIMODEL_PATH'], 'research', 'object_detection', 'export_tflite_graph_tf2.py ')"
      ]
    },
    {
      "cell_type": "code",
      "execution_count": null,
      "metadata": {
        "id": "us86cjC4pfDL"
      },
      "outputs": [],
      "source": [
        "command = \"python {} --pipeline_config_path={} --trained_checkpoint_dir={} --output_directory={}\".format(TFLITE_SCRIPT ,files['PIPELINE_CONFIG'], paths['CHECKPOINT_PATH'], paths['TFLITE_PATH'])"
      ]
    },
    {
      "cell_type": "code",
      "execution_count": null,
      "metadata": {
        "id": "n1r5YO3rpfDL"
      },
      "outputs": [],
      "source": [
        "print(command)"
      ]
    },
    {
      "cell_type": "code",
      "execution_count": null,
      "metadata": {
        "id": "I-xWpHN8pfDL"
      },
      "outputs": [],
      "source": [
        "!{command}"
      ]
    },
    {
      "cell_type": "code",
      "execution_count": null,
      "metadata": {
        "id": "iJfYMbN6pfDL"
      },
      "outputs": [],
      "source": [
        "FROZEN_TFLITE_PATH = os.path.join(paths['TFLITE_PATH'], 'saved_model')\n",
        "TFLITE_MODEL = os.path.join(paths['TFLITE_PATH'], 'saved_model', 'detect.tflite')"
      ]
    },
    {
      "cell_type": "code",
      "execution_count": null,
      "metadata": {
        "id": "odsr94Lmoodw"
      },
      "outputs": [],
      "source": [
        "command = \"tflite_convert \\\n",
        "--saved_model_dir={} \\\n",
        "--output_file={} \\\n",
        "--input_shapes=1,300,300,3 \\\n",
        "--input_arrays=normalized_input_image_tensor \\\n",
        "--output_arrays='TFLite_Detection_PostProcess','TFLite_Detection_PostProcess:1','TFLite_Detection_PostProcess:2','TFLite_Detection_PostProcess:3' \\\n",
        "--inference_type=FLOAT \\\n",
        "--allow_custom_ops\".format(FROZEN_TFLITE_PATH, TFLITE_MODEL, )"
      ]
    },
    {
      "cell_type": "code",
      "execution_count": null,
      "metadata": {
        "id": "E8GwUeoFpfDL"
      },
      "outputs": [],
      "source": [
        "print(command)"
      ]
    },
    {
      "cell_type": "code",
      "execution_count": null,
      "metadata": {
        "id": "Nbd7gqHMpfDL"
      },
      "outputs": [],
      "source": [
        "!{command}"
      ]
    },
    {
      "cell_type": "markdown",
      "metadata": {
        "id": "5NQqZRdA21Uc"
      },
      "source": [
        "# 13. Zip and Export Models"
      ]
    },
    {
      "cell_type": "code",
      "execution_count": null,
      "metadata": {
        "id": "tTVTGCQp2ZJJ"
      },
      "outputs": [],
      "source": [
        "!tar -czf models.tar.gz {paths['CHECKPOINT_PATH']}"
      ]
    }
  ],
  "metadata": {
    "accelerator": "GPU",
    "colab": {
      "provenance": [],
      "include_colab_link": true
    },
    "kernelspec": {
      "display_name": "anprsys",
      "language": "python",
      "name": "anprsys"
    },
    "language_info": {
      "codemirror_mode": {
        "name": "ipython",
        "version": 3
      },
      "file_extension": ".py",
      "mimetype": "text/x-python",
      "name": "python",
      "nbconvert_exporter": "python",
      "pygments_lexer": "ipython3",
      "version": "3.7.3"
    }
  },
  "nbformat": 4,
  "nbformat_minor": 0
}